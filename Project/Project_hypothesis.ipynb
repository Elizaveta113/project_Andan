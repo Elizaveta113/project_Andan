{
 "cells": [
  {
   "cell_type": "markdown",
   "id": "f2e4c231",
   "metadata": {},
   "source": [
    "# Проект"
   ]
  },
  {
   "cell_type": "code",
   "execution_count": 4,
   "id": "68bdc015",
   "metadata": {},
   "outputs": [],
   "source": [
    "\n",
    "import pandas as pd\n",
    "import matplotlib as plt\n",
    "import seaborn as sns\n",
    "import matplotlib.pyplot as plt "
   ]
  },
  {
   "cell_type": "markdown",
   "id": "ebbace46",
   "metadata": {},
   "source": [
    "Теперь работаем с данными, которые спарсили. Уже из файла откроем таблицу"
   ]
  },
  {
   "cell_type": "code",
   "execution_count": 233,
   "id": "d8835a72",
   "metadata": {},
   "outputs": [
    {
     "data": {
      "text/html": [
       "<div>\n",
       "<style scoped>\n",
       "    .dataframe tbody tr th:only-of-type {\n",
       "        vertical-align: middle;\n",
       "    }\n",
       "\n",
       "    .dataframe tbody tr th {\n",
       "        vertical-align: top;\n",
       "    }\n",
       "\n",
       "    .dataframe thead th {\n",
       "        text-align: right;\n",
       "    }\n",
       "</style>\n",
       "<table border=\"1\" class=\"dataframe\">\n",
       "  <thead>\n",
       "    <tr style=\"text-align: right;\">\n",
       "      <th></th>\n",
       "      <th>Gender</th>\n",
       "      <th>Race/ethnicity</th>\n",
       "      <th>Parental level of education</th>\n",
       "      <th>Lunch</th>\n",
       "      <th>Test preparation course</th>\n",
       "      <th>Math score</th>\n",
       "      <th>Reading score</th>\n",
       "      <th>Writing score</th>\n",
       "    </tr>\n",
       "  </thead>\n",
       "  <tbody>\n",
       "    <tr>\n",
       "      <th>0</th>\n",
       "      <td>female</td>\n",
       "      <td>group D</td>\n",
       "      <td>some college</td>\n",
       "      <td>standard</td>\n",
       "      <td>completed</td>\n",
       "      <td>59</td>\n",
       "      <td>70</td>\n",
       "      <td>78</td>\n",
       "    </tr>\n",
       "    <tr>\n",
       "      <th>1</th>\n",
       "      <td>male</td>\n",
       "      <td>group D</td>\n",
       "      <td>associate's degree</td>\n",
       "      <td>standard</td>\n",
       "      <td>none</td>\n",
       "      <td>96</td>\n",
       "      <td>93</td>\n",
       "      <td>87</td>\n",
       "    </tr>\n",
       "    <tr>\n",
       "      <th>2</th>\n",
       "      <td>female</td>\n",
       "      <td>group D</td>\n",
       "      <td>some college</td>\n",
       "      <td>free/reduced</td>\n",
       "      <td>none</td>\n",
       "      <td>57</td>\n",
       "      <td>76</td>\n",
       "      <td>77</td>\n",
       "    </tr>\n",
       "    <tr>\n",
       "      <th>3</th>\n",
       "      <td>male</td>\n",
       "      <td>group B</td>\n",
       "      <td>some college</td>\n",
       "      <td>free/reduced</td>\n",
       "      <td>none</td>\n",
       "      <td>70</td>\n",
       "      <td>70</td>\n",
       "      <td>63</td>\n",
       "    </tr>\n",
       "    <tr>\n",
       "      <th>4</th>\n",
       "      <td>female</td>\n",
       "      <td>group D</td>\n",
       "      <td>associate's degree</td>\n",
       "      <td>standard</td>\n",
       "      <td>none</td>\n",
       "      <td>83</td>\n",
       "      <td>85</td>\n",
       "      <td>86</td>\n",
       "    </tr>\n",
       "    <tr>\n",
       "      <th>...</th>\n",
       "      <td>...</td>\n",
       "      <td>...</td>\n",
       "      <td>...</td>\n",
       "      <td>...</td>\n",
       "      <td>...</td>\n",
       "      <td>...</td>\n",
       "      <td>...</td>\n",
       "      <td>...</td>\n",
       "    </tr>\n",
       "    <tr>\n",
       "      <th>1995</th>\n",
       "      <td>male</td>\n",
       "      <td>group C</td>\n",
       "      <td>some college</td>\n",
       "      <td>standard</td>\n",
       "      <td>none</td>\n",
       "      <td>77</td>\n",
       "      <td>77</td>\n",
       "      <td>71</td>\n",
       "    </tr>\n",
       "    <tr>\n",
       "      <th>1996</th>\n",
       "      <td>male</td>\n",
       "      <td>group C</td>\n",
       "      <td>some college</td>\n",
       "      <td>standard</td>\n",
       "      <td>none</td>\n",
       "      <td>80</td>\n",
       "      <td>66</td>\n",
       "      <td>66</td>\n",
       "    </tr>\n",
       "    <tr>\n",
       "      <th>1997</th>\n",
       "      <td>female</td>\n",
       "      <td>group A</td>\n",
       "      <td>high school</td>\n",
       "      <td>standard</td>\n",
       "      <td>completed</td>\n",
       "      <td>67</td>\n",
       "      <td>86</td>\n",
       "      <td>86</td>\n",
       "    </tr>\n",
       "    <tr>\n",
       "      <th>1998</th>\n",
       "      <td>male</td>\n",
       "      <td>group E</td>\n",
       "      <td>high school</td>\n",
       "      <td>standard</td>\n",
       "      <td>none</td>\n",
       "      <td>80</td>\n",
       "      <td>72</td>\n",
       "      <td>62</td>\n",
       "    </tr>\n",
       "    <tr>\n",
       "      <th>1999</th>\n",
       "      <td>male</td>\n",
       "      <td>group D</td>\n",
       "      <td>high school</td>\n",
       "      <td>standard</td>\n",
       "      <td>none</td>\n",
       "      <td>58</td>\n",
       "      <td>47</td>\n",
       "      <td>45</td>\n",
       "    </tr>\n",
       "  </tbody>\n",
       "</table>\n",
       "<p>2000 rows × 8 columns</p>\n",
       "</div>"
      ],
      "text/plain": [
       "      Gender Race/ethnicity Parental level of education         Lunch  \\\n",
       "0     female        group D                some college      standard   \n",
       "1       male        group D          associate's degree      standard   \n",
       "2     female        group D                some college  free/reduced   \n",
       "3       male        group B                some college  free/reduced   \n",
       "4     female        group D          associate's degree      standard   \n",
       "...      ...            ...                         ...           ...   \n",
       "1995    male        group C                some college      standard   \n",
       "1996    male        group C                some college      standard   \n",
       "1997  female        group A                 high school      standard   \n",
       "1998    male        group E                 high school      standard   \n",
       "1999    male        group D                 high school      standard   \n",
       "\n",
       "     Test preparation course  Math score  Reading score  Writing score  \n",
       "0                  completed          59             70             78  \n",
       "1                       none          96             93             87  \n",
       "2                       none          57             76             77  \n",
       "3                       none          70             70             63  \n",
       "4                       none          83             85             86  \n",
       "...                      ...         ...            ...            ...  \n",
       "1995                    none          77             77             71  \n",
       "1996                    none          80             66             66  \n",
       "1997               completed          67             86             86  \n",
       "1998                    none          80             72             62  \n",
       "1999                    none          58             47             45  \n",
       "\n",
       "[2000 rows x 8 columns]"
      ]
     },
     "execution_count": 233,
     "metadata": {},
     "output_type": "execute_result"
    }
   ],
   "source": [
    "df = pd.read_csv('AnDan_project.csv', sep=',')\n",
    "df"
   ]
  },
  {
   "cell_type": "markdown",
   "id": "32597b54",
   "metadata": {},
   "source": [
    "Определим к какому виду переменных относятся переменные в нашей таблице. "
   ]
  },
  {
   "cell_type": "code",
   "execution_count": 234,
   "id": "c871b8d0",
   "metadata": {},
   "outputs": [
    {
     "data": {
      "text/plain": [
       "Gender                         object\n",
       "Race/ethnicity                 object\n",
       "Parental level of education    object\n",
       "Lunch                          object\n",
       "Test preparation course        object\n",
       "Math score                      int64\n",
       "Reading score                   int64\n",
       "Writing score                   int64\n",
       "dtype: object"
      ]
     },
     "execution_count": 234,
     "metadata": {},
     "output_type": "execute_result"
    }
   ],
   "source": [
    "df.dtypes"
   ]
  },
  {
   "cell_type": "markdown",
   "id": "bcc28724",
   "metadata": {},
   "source": [
    "В получившейся таблице первые 5 колонок содержат категориальные переменные и следующие 3 колонки содержащат количественные переменные. \n",
    "Опишем все колонки по порядку. \n",
    "\n",
    "• \"Gender\" (Пол): пол учащегося (male - мужской/ female - женский)\n",
    "\n",
    "• \"Race / ethnicity\" (Раса/этническая принадлежность): расовая или этническая принадлежность учащегося (group A, B, C, D, E)\n",
    "\n",
    "• \"Parental level of education\" (Уровень образования родителей): самый высокий уровень образования, полученный родителем (родителями) или опекуном (опекунами) учащегося.\n",
    "\n",
    "• \"Lunch\" (Обед): получает ли учащийся стандартный обед или обед по сниженной цене (standart - стандартный, free/reduced - бесплатный или по сниженной цене)\n",
    "\n",
    "• \"Test preparation course\" (Курс подготовки к экзаменам): прошел ли учащийся курс подготовки к экзаменам (completed - да/ none - нет)\n",
    "\n",
    "• \"Math score\" (Оценка по математике): балл учащегося по стандартному тесту по математике.\n",
    "\n",
    "• \"Reading score\" (Оценка по чтению): балл учащегося по стандартному тесту по чтению.\n",
    "\n",
    "• \"Writing score\" (Оценка по письму): балл учащегося по стандартному  тесту по письму.\n"
   ]
  },
  {
   "cell_type": "markdown",
   "id": "71f9ce42",
   "metadata": {},
   "source": [
    "Проверим есть ли в данных пропуски. "
   ]
  },
  {
   "cell_type": "code",
   "execution_count": 235,
   "id": "b32f3109",
   "metadata": {},
   "outputs": [
    {
     "data": {
      "text/plain": [
       "Gender                         0\n",
       "Race/ethnicity                 0\n",
       "Parental level of education    0\n",
       "Lunch                          0\n",
       "Test preparation course        0\n",
       "Math score                     0\n",
       "Reading score                  0\n",
       "Writing score                  0\n",
       "dtype: int64"
      ]
     },
     "execution_count": 235,
     "metadata": {},
     "output_type": "execute_result"
    }
   ],
   "source": [
    "df.isna().sum()"
   ]
  },
  {
   "cell_type": "markdown",
   "id": "7123501e",
   "metadata": {},
   "source": [
    "Судя по полученной информации, ни в одной колонке пропусков нет. С данными можно продолжать работать. "
   ]
  },
  {
   "cell_type": "markdown",
   "id": "015dc920",
   "metadata": {},
   "source": [
    "Рассмотрим колонку с информацией об образовании родителей (опекунов). "
   ]
  },
  {
   "cell_type": "code",
   "execution_count": 236,
   "id": "b07a7699",
   "metadata": {},
   "outputs": [
    {
     "data": {
      "text/plain": [
       "some college          448\n",
       "high school           430\n",
       "associate's degree    408\n",
       "some high school      354\n",
       "bachelor's degree     210\n",
       "master's degree       150\n",
       "Name: Parental level of education, dtype: int64"
      ]
     },
     "execution_count": 236,
     "metadata": {},
     "output_type": "execute_result"
    }
   ],
   "source": [
    "df['Parental level of education'].value_counts()"
   ]
  },
  {
   "cell_type": "markdown",
   "id": "62be4e52",
   "metadata": {},
   "source": [
    "В этой колонке существуют такие переменные, как \"high school\" и \"some high school\". Не совсем понятна разница между ними, \n",
    "поэтому соединим их. Также уберем слово \"some\" из \"some college\". "
   ]
  },
  {
   "cell_type": "code",
   "execution_count": 237,
   "id": "1664fd5d",
   "metadata": {},
   "outputs": [],
   "source": [
    "df = df.replace('some high school', 'high school')\n",
    "df = df.replace('some college', 'college')"
   ]
  },
  {
   "cell_type": "code",
   "execution_count": 238,
   "id": "4d9a14d4",
   "metadata": {},
   "outputs": [
    {
     "data": {
      "text/plain": [
       "high school           784\n",
       "college               448\n",
       "associate's degree    408\n",
       "bachelor's degree     210\n",
       "master's degree       150\n",
       "Name: Parental level of education, dtype: int64"
      ]
     },
     "execution_count": 238,
     "metadata": {},
     "output_type": "execute_result"
    }
   ],
   "source": [
    "df['Parental level of education'].value_counts()"
   ]
  },
  {
   "cell_type": "markdown",
   "id": "a1f2deee",
   "metadata": {},
   "source": [
    "Нам удалось изменить переменные в колонке. Продолжим с ней работать."
   ]
  },
  {
   "cell_type": "code",
   "execution_count": 239,
   "id": "136babab",
   "metadata": {},
   "outputs": [
    {
     "data": {
      "text/plain": [
       "Text(0, 0.5, 'Count')"
      ]
     },
     "execution_count": 239,
     "metadata": {},
     "output_type": "execute_result"
    },
    {
     "data": {
      "image/png": "[encoded data removed]",
      "text/plain": [
       "<Figure size 720x360 with 1 Axes>"
      ]
     },
     "metadata": {
      "needs_background": "light"
     },
     "output_type": "display_data"
    }
   ],
   "source": [
    "ed = df['Parental level of education'].value_counts().plot(kind = 'bar', title = 'Parental level of education', color = 'plum', figsize=(10, 5))\n",
    "ed.set_ylabel('Count')"
   ]
  },
  {
   "cell_type": "markdown",
   "id": "ba0aabfb",
   "metadata": {},
   "source": [
    "Так, родители большинства учеников, почти половина, закончили только школу, около 200 закончили колледж и примерно треть имеют ученую степень"
   ]
  },
  {
   "cell_type": "markdown",
   "id": "1b5e6f88",
   "metadata": {},
   "source": [
    "Рассмотрим столбцы с баллами за тесты. Просуммируем баллы каждого ученика по всем предметам, чтобы найти общий балл."
   ]
  },
  {
   "cell_type": "code",
   "execution_count": 240,
   "id": "bead9547",
   "metadata": {},
   "outputs": [
    {
     "data": {
      "text/html": [
       "<div>\n",
       "<style scoped>\n",
       "    .dataframe tbody tr th:only-of-type {\n",
       "        vertical-align: middle;\n",
       "    }\n",
       "\n",
       "    .dataframe tbody tr th {\n",
       "        vertical-align: top;\n",
       "    }\n",
       "\n",
       "    .dataframe thead th {\n",
       "        text-align: right;\n",
       "    }\n",
       "</style>\n",
       "<table border=\"1\" class=\"dataframe\">\n",
       "  <thead>\n",
       "    <tr style=\"text-align: right;\">\n",
       "      <th></th>\n",
       "      <th>Gender</th>\n",
       "      <th>Race/ethnicity</th>\n",
       "      <th>Parental level of education</th>\n",
       "      <th>Lunch</th>\n",
       "      <th>Test preparation course</th>\n",
       "      <th>Math score</th>\n",
       "      <th>Reading score</th>\n",
       "      <th>Writing score</th>\n",
       "      <th>Total_score</th>\n",
       "    </tr>\n",
       "  </thead>\n",
       "  <tbody>\n",
       "    <tr>\n",
       "      <th>0</th>\n",
       "      <td>female</td>\n",
       "      <td>group D</td>\n",
       "      <td>college</td>\n",
       "      <td>standard</td>\n",
       "      <td>completed</td>\n",
       "      <td>59</td>\n",
       "      <td>70</td>\n",
       "      <td>78</td>\n",
       "      <td>207</td>\n",
       "    </tr>\n",
       "    <tr>\n",
       "      <th>1</th>\n",
       "      <td>male</td>\n",
       "      <td>group D</td>\n",
       "      <td>associate's degree</td>\n",
       "      <td>standard</td>\n",
       "      <td>none</td>\n",
       "      <td>96</td>\n",
       "      <td>93</td>\n",
       "      <td>87</td>\n",
       "      <td>276</td>\n",
       "    </tr>\n",
       "    <tr>\n",
       "      <th>2</th>\n",
       "      <td>female</td>\n",
       "      <td>group D</td>\n",
       "      <td>college</td>\n",
       "      <td>free/reduced</td>\n",
       "      <td>none</td>\n",
       "      <td>57</td>\n",
       "      <td>76</td>\n",
       "      <td>77</td>\n",
       "      <td>210</td>\n",
       "    </tr>\n",
       "    <tr>\n",
       "      <th>3</th>\n",
       "      <td>male</td>\n",
       "      <td>group B</td>\n",
       "      <td>college</td>\n",
       "      <td>free/reduced</td>\n",
       "      <td>none</td>\n",
       "      <td>70</td>\n",
       "      <td>70</td>\n",
       "      <td>63</td>\n",
       "      <td>203</td>\n",
       "    </tr>\n",
       "    <tr>\n",
       "      <th>4</th>\n",
       "      <td>female</td>\n",
       "      <td>group D</td>\n",
       "      <td>associate's degree</td>\n",
       "      <td>standard</td>\n",
       "      <td>none</td>\n",
       "      <td>83</td>\n",
       "      <td>85</td>\n",
       "      <td>86</td>\n",
       "      <td>254</td>\n",
       "    </tr>\n",
       "    <tr>\n",
       "      <th>...</th>\n",
       "      <td>...</td>\n",
       "      <td>...</td>\n",
       "      <td>...</td>\n",
       "      <td>...</td>\n",
       "      <td>...</td>\n",
       "      <td>...</td>\n",
       "      <td>...</td>\n",
       "      <td>...</td>\n",
       "      <td>...</td>\n",
       "    </tr>\n",
       "    <tr>\n",
       "      <th>1995</th>\n",
       "      <td>male</td>\n",
       "      <td>group C</td>\n",
       "      <td>college</td>\n",
       "      <td>standard</td>\n",
       "      <td>none</td>\n",
       "      <td>77</td>\n",
       "      <td>77</td>\n",
       "      <td>71</td>\n",
       "      <td>225</td>\n",
       "    </tr>\n",
       "    <tr>\n",
       "      <th>1996</th>\n",
       "      <td>male</td>\n",
       "      <td>group C</td>\n",
       "      <td>college</td>\n",
       "      <td>standard</td>\n",
       "      <td>none</td>\n",
       "      <td>80</td>\n",
       "      <td>66</td>\n",
       "      <td>66</td>\n",
       "      <td>212</td>\n",
       "    </tr>\n",
       "    <tr>\n",
       "      <th>1997</th>\n",
       "      <td>female</td>\n",
       "      <td>group A</td>\n",
       "      <td>high school</td>\n",
       "      <td>standard</td>\n",
       "      <td>completed</td>\n",
       "      <td>67</td>\n",
       "      <td>86</td>\n",
       "      <td>86</td>\n",
       "      <td>239</td>\n",
       "    </tr>\n",
       "    <tr>\n",
       "      <th>1998</th>\n",
       "      <td>male</td>\n",
       "      <td>group E</td>\n",
       "      <td>high school</td>\n",
       "      <td>standard</td>\n",
       "      <td>none</td>\n",
       "      <td>80</td>\n",
       "      <td>72</td>\n",
       "      <td>62</td>\n",
       "      <td>214</td>\n",
       "    </tr>\n",
       "    <tr>\n",
       "      <th>1999</th>\n",
       "      <td>male</td>\n",
       "      <td>group D</td>\n",
       "      <td>high school</td>\n",
       "      <td>standard</td>\n",
       "      <td>none</td>\n",
       "      <td>58</td>\n",
       "      <td>47</td>\n",
       "      <td>45</td>\n",
       "      <td>150</td>\n",
       "    </tr>\n",
       "  </tbody>\n",
       "</table>\n",
       "<p>2000 rows × 9 columns</p>\n",
       "</div>"
      ],
      "text/plain": [
       "      Gender Race/ethnicity Parental level of education         Lunch  \\\n",
       "0     female        group D                     college      standard   \n",
       "1       male        group D          associate's degree      standard   \n",
       "2     female        group D                     college  free/reduced   \n",
       "3       male        group B                     college  free/reduced   \n",
       "4     female        group D          associate's degree      standard   \n",
       "...      ...            ...                         ...           ...   \n",
       "1995    male        group C                     college      standard   \n",
       "1996    male        group C                     college      standard   \n",
       "1997  female        group A                 high school      standard   \n",
       "1998    male        group E                 high school      standard   \n",
       "1999    male        group D                 high school      standard   \n",
       "\n",
       "     Test preparation course  Math score  Reading score  Writing score  \\\n",
       "0                  completed          59             70             78   \n",
       "1                       none          96             93             87   \n",
       "2                       none          57             76             77   \n",
       "3                       none          70             70             63   \n",
       "4                       none          83             85             86   \n",
       "...                      ...         ...            ...            ...   \n",
       "1995                    none          77             77             71   \n",
       "1996                    none          80             66             66   \n",
       "1997               completed          67             86             86   \n",
       "1998                    none          80             72             62   \n",
       "1999                    none          58             47             45   \n",
       "\n",
       "      Total_score  \n",
       "0             207  \n",
       "1             276  \n",
       "2             210  \n",
       "3             203  \n",
       "4             254  \n",
       "...           ...  \n",
       "1995          225  \n",
       "1996          212  \n",
       "1997          239  \n",
       "1998          214  \n",
       "1999          150  \n",
       "\n",
       "[2000 rows x 9 columns]"
      ]
     },
     "execution_count": 240,
     "metadata": {},
     "output_type": "execute_result"
    }
   ],
   "source": [
    "df['Total_score'] = df['Math score'] + df['Reading score'] + df['Writing score']\n",
    "df"
   ]
  },
  {
   "cell_type": "code",
   "execution_count": 241,
   "id": "77905fe4",
   "metadata": {},
   "outputs": [
    {
     "data": {
      "text/plain": [
       "Text(0.5, 0, 'Points')"
      ]
     },
     "execution_count": 241,
     "metadata": {},
     "output_type": "execute_result"
    },
    {
     "data": {
      "image/png": "[encoded data removed]",
      "text/plain": [
       "<Figure size 864x432 with 1 Axes>"
      ]
     },
     "metadata": {
      "needs_background": "light"
     },
     "output_type": "display_data"
    }
   ],
   "source": [
    "scores = df['Total_score'].plot(kind = 'hist', bins = 15, title = 'Scores for tests', color = 'lightcoral', figsize=(12,6))\n",
    "scores.set_xlabel('Points')"
   ]
  },
  {
   "cell_type": "markdown",
   "id": "2395a459",
   "metadata": {},
   "source": [
    "Таким образом, большинство учеников имеют общий бал 200-210, распределение баллов похоже на нормальное, однако баллы больше среднего встречаются с одинаково убывающей частотой, а с меньшей стороны - наоборот, резко. Кроме того в промежутке от 50 до 100 могут иметь место выбросы"
   ]
  },
  {
   "cell_type": "code",
   "execution_count": 242,
   "id": "bccc91f8",
   "metadata": {},
   "outputs": [
    {
     "data": {
      "text/plain": [
       "Text(0.5, 0, 'Points')"
      ]
     },
     "execution_count": 242,
     "metadata": {},
     "output_type": "execute_result"
    },
    {
     "data": {
      "image/png": "[encoded data removed]",
      "text/plain": [
       "<Figure size 720x360 with 1 Axes>"
      ]
     },
     "metadata": {
      "needs_background": "light"
     },
     "output_type": "display_data"
    }
   ],
   "source": [
    "scores = df['Total_score'].plot(kind = 'kde', title = 'Scores for tests', color = 'yellow', figsize=(10, 5))\n",
    "scores.set_xlabel('Points')"
   ]
  },
  {
   "cell_type": "markdown",
   "id": "06337a00",
   "metadata": {},
   "source": [
    "Судя по графику, самые распространенные баллы за тесты около 200. Распределение похоже на нормальное."
   ]
  },
  {
   "cell_type": "markdown",
   "id": "99fb7cb0",
   "metadata": {},
   "source": [
    "Рассмотрим колонку с информацией о поле."
   ]
  },
  {
   "cell_type": "code",
   "execution_count": 243,
   "id": "6b6a11f8",
   "metadata": {},
   "outputs": [
    {
     "data": {
      "text/plain": [
       "Text(0.5, 0, 'Counts')"
      ]
     },
     "execution_count": 243,
     "metadata": {},
     "output_type": "execute_result"
    },
    {
     "data": {
      "image/png": "[encoded data removed]",
      "text/plain": [
       "<Figure size 720x360 with 1 Axes>"
      ]
     },
     "metadata": {
      "needs_background": "light"
     },
     "output_type": "display_data"
    }
   ],
   "source": [
    "gend = df['Gender'].value_counts().plot(kind = 'barh', title = 'Genders', color='lime', figsize=(10, 5))\n",
    "gend.set_xlabel('Counts')"
   ]
  },
  {
   "cell_type": "markdown",
   "id": "f722ed87",
   "metadata": {},
   "source": [
    "Таким образом, мальчиков незначительно больше, чем девочек"
   ]
  },
  {
   "cell_type": "markdown",
   "id": "dff31c82",
   "metadata": {},
   "source": [
    "Создадим графики ко всем остальным колонкам для облегчения их анализа. "
   ]
  },
  {
   "cell_type": "code",
   "execution_count": 244,
   "id": "d5ea8951",
   "metadata": {},
   "outputs": [
    {
     "data": {
      "text/plain": [
       "Text(0.5, 0, 'Counts')"
      ]
     },
     "execution_count": 244,
     "metadata": {},
     "output_type": "execute_result"
    },
    {
     "data": {
      "image/png": "[encoded data removed]",
      "text/plain": [
       "<Figure size 720x360 with 1 Axes>"
      ]
     },
     "metadata": {
      "needs_background": "light"
     },
     "output_type": "display_data"
    }
   ],
   "source": [
    "race = df['Race/ethnicity'].value_counts().plot(kind = 'barh', title = 'Races', color = 'mediumslateblue', figsize=(10, 5))\n",
    "race.set_xlabel('Counts')"
   ]
  },
  {
   "cell_type": "markdown",
   "id": "a7b483d2",
   "metadata": {},
   "source": [
    "Так, имеется существенное различие в частоте, с которой встречаются разные расы. Самая многочисленная - группа С, а самая малочисленная - А"
   ]
  },
  {
   "cell_type": "code",
   "execution_count": 245,
   "id": "e74bc731",
   "metadata": {},
   "outputs": [
    {
     "data": {
      "text/plain": [
       "Text(0.5, 0, 'Counts')"
      ]
     },
     "execution_count": 245,
     "metadata": {},
     "output_type": "execute_result"
    },
    {
     "data": {
      "image/png": "[encoded data removed]",
      "text/plain": [
       "<Figure size 720x360 with 1 Axes>"
      ]
     },
     "metadata": {
      "needs_background": "light"
     },
     "output_type": "display_data"
    }
   ],
   "source": [
    "lunch = df['Lunch'].value_counts().plot(kind = 'barh', title = 'Lunch', color='cornflowerblue', figsize=(10, 5))\n",
    "lunch.set_xlabel('Counts')"
   ]
  },
  {
   "cell_type": "markdown",
   "id": "239f6f63",
   "metadata": {},
   "source": [
    "Большинство студентов ели стандартный ланч, и около трети - социальный (бесплатный). В таких датасетах эта характеристика является способом показать уровень доходов школьника "
   ]
  },
  {
   "cell_type": "code",
   "execution_count": 246,
   "id": "739aa3bc",
   "metadata": {},
   "outputs": [
    {
     "data": {
      "text/plain": [
       "Text(0.5, 0, 'Counts')"
      ]
     },
     "execution_count": 246,
     "metadata": {},
     "output_type": "execute_result"
    },
    {
     "data": {
      "image/png": "[encoded data removed]",
      "text/plain": [
       "<Figure size 720x360 with 1 Axes>"
      ]
     },
     "metadata": {
      "needs_background": "light"
     },
     "output_type": "display_data"
    }
   ],
   "source": [
    "course = df['Test preparation course'].value_counts().plot(kind = 'barh', title = 'Course preparation', color = 'springgreen', figsize=(10, 5))\n",
    "course.set_xlabel('Counts')"
   ]
  },
  {
   "cell_type": "markdown",
   "id": "d3b6cf33",
   "metadata": {},
   "source": [
    "Только треть студентов прошли подготовительный курс, то есть это не связано с уровнем достатка (ланч)."
   ]
  },
  {
   "cell_type": "code",
   "execution_count": 247,
   "id": "f567ba19",
   "metadata": {},
   "outputs": [
    {
     "data": {
      "text/html": [
       "<div>\n",
       "<style scoped>\n",
       "    .dataframe tbody tr th:only-of-type {\n",
       "        vertical-align: middle;\n",
       "    }\n",
       "\n",
       "    .dataframe tbody tr th {\n",
       "        vertical-align: top;\n",
       "    }\n",
       "\n",
       "    .dataframe thead th {\n",
       "        text-align: right;\n",
       "    }\n",
       "</style>\n",
       "<table border=\"1\" class=\"dataframe\">\n",
       "  <thead>\n",
       "    <tr style=\"text-align: right;\">\n",
       "      <th></th>\n",
       "      <th>Gender</th>\n",
       "      <th>Race/ethnicity</th>\n",
       "      <th>Parental level of education</th>\n",
       "      <th>Lunch</th>\n",
       "      <th>Test preparation course</th>\n",
       "      <th>Math score</th>\n",
       "      <th>Reading score</th>\n",
       "      <th>Writing score</th>\n",
       "      <th>Total_score</th>\n",
       "    </tr>\n",
       "  </thead>\n",
       "  <tbody>\n",
       "    <tr>\n",
       "      <th>0</th>\n",
       "      <td>female</td>\n",
       "      <td>group D</td>\n",
       "      <td>college</td>\n",
       "      <td>standard</td>\n",
       "      <td>completed</td>\n",
       "      <td>59</td>\n",
       "      <td>70</td>\n",
       "      <td>78</td>\n",
       "      <td>207</td>\n",
       "    </tr>\n",
       "    <tr>\n",
       "      <th>1</th>\n",
       "      <td>male</td>\n",
       "      <td>group D</td>\n",
       "      <td>associate's degree</td>\n",
       "      <td>standard</td>\n",
       "      <td>none</td>\n",
       "      <td>96</td>\n",
       "      <td>93</td>\n",
       "      <td>87</td>\n",
       "      <td>276</td>\n",
       "    </tr>\n",
       "    <tr>\n",
       "      <th>2</th>\n",
       "      <td>female</td>\n",
       "      <td>group D</td>\n",
       "      <td>college</td>\n",
       "      <td>free/reduced</td>\n",
       "      <td>none</td>\n",
       "      <td>57</td>\n",
       "      <td>76</td>\n",
       "      <td>77</td>\n",
       "      <td>210</td>\n",
       "    </tr>\n",
       "    <tr>\n",
       "      <th>3</th>\n",
       "      <td>male</td>\n",
       "      <td>group B</td>\n",
       "      <td>college</td>\n",
       "      <td>free/reduced</td>\n",
       "      <td>none</td>\n",
       "      <td>70</td>\n",
       "      <td>70</td>\n",
       "      <td>63</td>\n",
       "      <td>203</td>\n",
       "    </tr>\n",
       "    <tr>\n",
       "      <th>4</th>\n",
       "      <td>female</td>\n",
       "      <td>group D</td>\n",
       "      <td>associate's degree</td>\n",
       "      <td>standard</td>\n",
       "      <td>none</td>\n",
       "      <td>83</td>\n",
       "      <td>85</td>\n",
       "      <td>86</td>\n",
       "      <td>254</td>\n",
       "    </tr>\n",
       "    <tr>\n",
       "      <th>...</th>\n",
       "      <td>...</td>\n",
       "      <td>...</td>\n",
       "      <td>...</td>\n",
       "      <td>...</td>\n",
       "      <td>...</td>\n",
       "      <td>...</td>\n",
       "      <td>...</td>\n",
       "      <td>...</td>\n",
       "      <td>...</td>\n",
       "    </tr>\n",
       "    <tr>\n",
       "      <th>1995</th>\n",
       "      <td>male</td>\n",
       "      <td>group C</td>\n",
       "      <td>college</td>\n",
       "      <td>standard</td>\n",
       "      <td>none</td>\n",
       "      <td>77</td>\n",
       "      <td>77</td>\n",
       "      <td>71</td>\n",
       "      <td>225</td>\n",
       "    </tr>\n",
       "    <tr>\n",
       "      <th>1996</th>\n",
       "      <td>male</td>\n",
       "      <td>group C</td>\n",
       "      <td>college</td>\n",
       "      <td>standard</td>\n",
       "      <td>none</td>\n",
       "      <td>80</td>\n",
       "      <td>66</td>\n",
       "      <td>66</td>\n",
       "      <td>212</td>\n",
       "    </tr>\n",
       "    <tr>\n",
       "      <th>1997</th>\n",
       "      <td>female</td>\n",
       "      <td>group A</td>\n",
       "      <td>high school</td>\n",
       "      <td>standard</td>\n",
       "      <td>completed</td>\n",
       "      <td>67</td>\n",
       "      <td>86</td>\n",
       "      <td>86</td>\n",
       "      <td>239</td>\n",
       "    </tr>\n",
       "    <tr>\n",
       "      <th>1998</th>\n",
       "      <td>male</td>\n",
       "      <td>group E</td>\n",
       "      <td>high school</td>\n",
       "      <td>standard</td>\n",
       "      <td>none</td>\n",
       "      <td>80</td>\n",
       "      <td>72</td>\n",
       "      <td>62</td>\n",
       "      <td>214</td>\n",
       "    </tr>\n",
       "    <tr>\n",
       "      <th>1999</th>\n",
       "      <td>male</td>\n",
       "      <td>group D</td>\n",
       "      <td>high school</td>\n",
       "      <td>standard</td>\n",
       "      <td>none</td>\n",
       "      <td>58</td>\n",
       "      <td>47</td>\n",
       "      <td>45</td>\n",
       "      <td>150</td>\n",
       "    </tr>\n",
       "  </tbody>\n",
       "</table>\n",
       "<p>2000 rows × 9 columns</p>\n",
       "</div>"
      ],
      "text/plain": [
       "      Gender Race/ethnicity Parental level of education         Lunch  \\\n",
       "0     female        group D                     college      standard   \n",
       "1       male        group D          associate's degree      standard   \n",
       "2     female        group D                     college  free/reduced   \n",
       "3       male        group B                     college  free/reduced   \n",
       "4     female        group D          associate's degree      standard   \n",
       "...      ...            ...                         ...           ...   \n",
       "1995    male        group C                     college      standard   \n",
       "1996    male        group C                     college      standard   \n",
       "1997  female        group A                 high school      standard   \n",
       "1998    male        group E                 high school      standard   \n",
       "1999    male        group D                 high school      standard   \n",
       "\n",
       "     Test preparation course  Math score  Reading score  Writing score  \\\n",
       "0                  completed          59             70             78   \n",
       "1                       none          96             93             87   \n",
       "2                       none          57             76             77   \n",
       "3                       none          70             70             63   \n",
       "4                       none          83             85             86   \n",
       "...                      ...         ...            ...            ...   \n",
       "1995                    none          77             77             71   \n",
       "1996                    none          80             66             66   \n",
       "1997               completed          67             86             86   \n",
       "1998                    none          80             72             62   \n",
       "1999                    none          58             47             45   \n",
       "\n",
       "      Total_score  \n",
       "0             207  \n",
       "1             276  \n",
       "2             210  \n",
       "3             203  \n",
       "4             254  \n",
       "...           ...  \n",
       "1995          225  \n",
       "1996          212  \n",
       "1997          239  \n",
       "1998          214  \n",
       "1999          150  \n",
       "\n",
       "[2000 rows x 9 columns]"
      ]
     },
     "execution_count": 247,
     "metadata": {},
     "output_type": "execute_result"
    }
   ],
   "source": [
    "df"
   ]
  },
  {
   "cell_type": "markdown",
   "id": "3ce33a58",
   "metadata": {},
   "source": [
    "### Зависимость между образованием родителей и общим баллом "
   ]
  },
  {
   "cell_type": "code",
   "execution_count": 248,
   "id": "05eb8205",
   "metadata": {},
   "outputs": [
    {
     "data": {
      "image/png": "[encoded data removed]",
      "text/plain": [
       "<Figure size 864x432 with 1 Axes>"
      ]
     },
     "metadata": {
      "needs_background": "light"
     },
     "output_type": "display_data"
    }
   ],
   "source": [
    "plt.figure(figsize=(12,6))\n",
    "sns.boxplot(x = 'Parental level of education', y = 'Total_score', data = df)\n",
    "plt.xticks(rotation=45, \n",
    "           ha='right')\n",
    "plt.show()"
   ]
  },
  {
   "cell_type": "markdown",
   "id": "df82a093",
   "metadata": {},
   "source": [
    "Зависимость между образованем родителей и общим баллом по тестам учащихся. "
   ]
  },
  {
   "cell_type": "code",
   "execution_count": 249,
   "id": "4af08c4d",
   "metadata": {},
   "outputs": [
    {
     "data": {
      "image/png": "[encoded data removed]",
      "text/plain": [
       "<Figure size 720x360 with 1 Axes>"
      ]
     },
     "metadata": {
      "needs_background": "light"
     },
     "output_type": "display_data"
    }
   ],
   "source": [
    "ed_mean = df.groupby('Parental level of education')['Total_score'].mean().plot(kind = 'bar', figsize=(10, 5))"
   ]
  },
  {
   "cell_type": "markdown",
   "id": "b1fdd00b",
   "metadata": {},
   "source": [
    "Судя по графикам, наименьшие баллы по тестам получают учащиеся, родители которых закончили только старшую школу. После них идут те, родители которых закончили колледж. Те студенты, родители которых закончили магистратуру, бакалавриат или имеют степень ассоциата имеют баллы примерно наравне. Хотя они не сильно выше, чем студенты с родителями, которые закончили колледж или старшую школу. "
   ]
  },
  {
   "cell_type": "markdown",
   "id": "71a242e1",
   "metadata": {},
   "source": [
    "### Зависимость между прохождением курса и суммарными баллами"
   ]
  },
  {
   "cell_type": "code",
   "execution_count": 250,
   "id": "19f93b6e",
   "metadata": {},
   "outputs": [
    {
     "data": {
      "image/png": "[encoded data removed]",
      "text/plain": [
       "<Figure size 864x432 with 1 Axes>"
      ]
     },
     "metadata": {
      "needs_background": "light"
     },
     "output_type": "display_data"
    }
   ],
   "source": [
    "plt.figure(figsize=(12,6))\n",
    "plt.hist(x = df[df['Test preparation course'] == 'completed']['Total_score'])\n",
    "plt.hist(x = df[df['Test preparation course'] == 'none']['Total_score'], alpha = 0.3)\n",
    "plt.xlabel(\"Test points\")\n",
    "plt.ylabel(\"Test preparation course\")\n",
    "plt.show()"
   ]
  },
  {
   "cell_type": "markdown",
   "id": "046aa47c",
   "metadata": {},
   "source": [
    "Судя по гистограмме, количество студентов, которые не прошли курс, больше, чем количество студентов, которые прошли курс. При этом баллы студентов, которые прошли курс в среднем выше. Также максимальный балл студента, который прошел курс выше, чем максимальный балл студента, который не прошел курс. Прошедшие курс вырываются вперед по баллам. "
   ]
  },
  {
   "cell_type": "markdown",
   "id": "8e7df6a5",
   "metadata": {},
   "source": [
    "### Зависимость между присутствием бесплатного ланча и суммарными баллами"
   ]
  },
  {
   "cell_type": "code",
   "execution_count": 251,
   "id": "4fb86102",
   "metadata": {},
   "outputs": [
    {
     "data": {
      "text/plain": [
       "<AxesSubplot:xlabel='Total_score', ylabel='Count'>"
      ]
     },
     "execution_count": 251,
     "metadata": {},
     "output_type": "execute_result"
    },
    {
     "data": {
      "image/png": "[encoded data removed]",
      "text/plain": [
       "<Figure size 864x432 with 1 Axes>"
      ]
     },
     "metadata": {
      "needs_background": "light"
     },
     "output_type": "display_data"
    }
   ],
   "source": [
    "plt.figure(figsize=(12,6))\n",
    "sns.histplot(x = 'Total_score', hue = 'Lunch', data = df, bins = 20)"
   ]
  },
  {
   "cell_type": "markdown",
   "id": "d46159c7",
   "metadata": {},
   "source": [
    "Судя по гистограмме, стандартный ланч получили больше студентов, чем бесплатный. При этом те студенты, которые получили стандартный ланч имеют более высокие баллы, чем те студенты, которые получили бесплатный. "
   ]
  },
  {
   "cell_type": "markdown",
   "id": "4f0278bd",
   "metadata": {},
   "source": [
    "### Зависимость между прохождением курса и присутствием бесплатного обеда"
   ]
  },
  {
   "cell_type": "code",
   "execution_count": 252,
   "id": "044ceb61",
   "metadata": {},
   "outputs": [
    {
     "data": {
      "text/plain": [
       "<AxesSubplot:xlabel='Lunch', ylabel='count'>"
      ]
     },
     "execution_count": 252,
     "metadata": {},
     "output_type": "execute_result"
    },
    {
     "data": {
      "image/png": "[encoded data removed]",
      "text/plain": [
       "<Figure size 864x432 with 1 Axes>"
      ]
     },
     "metadata": {
      "needs_background": "light"
     },
     "output_type": "display_data"
    }
   ],
   "source": [
    "plt.figure(figsize=(12,6))\n",
    "sns.countplot(x = 'Lunch', hue = 'Test preparation course', data = df)"
   ]
  },
  {
   "cell_type": "markdown",
   "id": "d8e1c185",
   "metadata": {},
   "source": [
    "Судя по гистограмме, студентов, которые получили стандартный ланч в целом больше, чем студентов, которые получили бесплатный ланч. Также можно отметить, что среди студентов, которые получили стандартный ланч, доля тех, которые прошли курс, примерно в 2 раза меньше, чем тех, которые не прошли курс. Среди студентов, которые получили бесплатный ланч, доля тех, которые прошли курс меньше доли тех, которые прошли курс, примерно в 1.5 раза.  "
   ]
  },
  {
   "cell_type": "markdown",
   "id": "6317b220",
   "metadata": {},
   "source": [
    "### Зависимость между баллами по тесту по математике и баллами по чтению"
   ]
  },
  {
   "cell_type": "code",
   "execution_count": 253,
   "id": "5ce5e5d8",
   "metadata": {},
   "outputs": [
    {
     "data": {
      "text/plain": [
       "<AxesSubplot:xlabel='Math score', ylabel='Reading score'>"
      ]
     },
     "execution_count": 253,
     "metadata": {},
     "output_type": "execute_result"
    },
    {
     "data": {
      "image/png": "[encoded data removed]",
      "text/plain": [
       "<Figure size 864x432 with 1 Axes>"
      ]
     },
     "metadata": {
      "needs_background": "light"
     },
     "output_type": "display_data"
    }
   ],
   "source": [
    "df.plot(kind = 'scatter', x = 'Math score', y = 'Reading score', figsize=(12 , 6))"
   ]
  },
  {
   "cell_type": "markdown",
   "id": "f8c26c14",
   "metadata": {},
   "source": [
    "### Зависимость между баллами по математике и баллами по письму"
   ]
  },
  {
   "cell_type": "code",
   "execution_count": 254,
   "id": "7d59e635",
   "metadata": {},
   "outputs": [
    {
     "data": {
      "text/plain": [
       "<AxesSubplot:xlabel='Math score', ylabel='Writing score'>"
      ]
     },
     "execution_count": 254,
     "metadata": {},
     "output_type": "execute_result"
    },
    {
     "data": {
      "image/png": "[encoded data removed]",
      "text/plain": [
       "<Figure size 864x432 with 1 Axes>"
      ]
     },
     "metadata": {
      "needs_background": "light"
     },
     "output_type": "display_data"
    }
   ],
   "source": [
    "df.plot(kind = 'scatter', x = 'Math score', y = 'Writing score', figsize=(12 , 6))"
   ]
  },
  {
   "cell_type": "code",
   "execution_count": 255,
   "id": "92256d86",
   "metadata": {},
   "outputs": [
    {
     "data": {
      "text/html": [
       "<div>\n",
       "<style scoped>\n",
       "    .dataframe tbody tr th:only-of-type {\n",
       "        vertical-align: middle;\n",
       "    }\n",
       "\n",
       "    .dataframe tbody tr th {\n",
       "        vertical-align: top;\n",
       "    }\n",
       "\n",
       "    .dataframe thead th {\n",
       "        text-align: right;\n",
       "    }\n",
       "</style>\n",
       "<table border=\"1\" class=\"dataframe\">\n",
       "  <thead>\n",
       "    <tr style=\"text-align: right;\">\n",
       "      <th></th>\n",
       "      <th>Gender</th>\n",
       "      <th>Race/ethnicity</th>\n",
       "      <th>Parental level of education</th>\n",
       "      <th>Lunch</th>\n",
       "      <th>Test preparation course</th>\n",
       "      <th>Math score</th>\n",
       "      <th>Reading score</th>\n",
       "      <th>Writing score</th>\n",
       "      <th>Total_score</th>\n",
       "    </tr>\n",
       "  </thead>\n",
       "  <tbody>\n",
       "    <tr>\n",
       "      <th>0</th>\n",
       "      <td>female</td>\n",
       "      <td>group D</td>\n",
       "      <td>college</td>\n",
       "      <td>standard</td>\n",
       "      <td>completed</td>\n",
       "      <td>59</td>\n",
       "      <td>70</td>\n",
       "      <td>78</td>\n",
       "      <td>207</td>\n",
       "    </tr>\n",
       "    <tr>\n",
       "      <th>1</th>\n",
       "      <td>male</td>\n",
       "      <td>group D</td>\n",
       "      <td>associate's degree</td>\n",
       "      <td>standard</td>\n",
       "      <td>none</td>\n",
       "      <td>96</td>\n",
       "      <td>93</td>\n",
       "      <td>87</td>\n",
       "      <td>276</td>\n",
       "    </tr>\n",
       "    <tr>\n",
       "      <th>2</th>\n",
       "      <td>female</td>\n",
       "      <td>group D</td>\n",
       "      <td>college</td>\n",
       "      <td>free/reduced</td>\n",
       "      <td>none</td>\n",
       "      <td>57</td>\n",
       "      <td>76</td>\n",
       "      <td>77</td>\n",
       "      <td>210</td>\n",
       "    </tr>\n",
       "    <tr>\n",
       "      <th>3</th>\n",
       "      <td>male</td>\n",
       "      <td>group B</td>\n",
       "      <td>college</td>\n",
       "      <td>free/reduced</td>\n",
       "      <td>none</td>\n",
       "      <td>70</td>\n",
       "      <td>70</td>\n",
       "      <td>63</td>\n",
       "      <td>203</td>\n",
       "    </tr>\n",
       "    <tr>\n",
       "      <th>4</th>\n",
       "      <td>female</td>\n",
       "      <td>group D</td>\n",
       "      <td>associate's degree</td>\n",
       "      <td>standard</td>\n",
       "      <td>none</td>\n",
       "      <td>83</td>\n",
       "      <td>85</td>\n",
       "      <td>86</td>\n",
       "      <td>254</td>\n",
       "    </tr>\n",
       "    <tr>\n",
       "      <th>...</th>\n",
       "      <td>...</td>\n",
       "      <td>...</td>\n",
       "      <td>...</td>\n",
       "      <td>...</td>\n",
       "      <td>...</td>\n",
       "      <td>...</td>\n",
       "      <td>...</td>\n",
       "      <td>...</td>\n",
       "      <td>...</td>\n",
       "    </tr>\n",
       "    <tr>\n",
       "      <th>1995</th>\n",
       "      <td>male</td>\n",
       "      <td>group C</td>\n",
       "      <td>college</td>\n",
       "      <td>standard</td>\n",
       "      <td>none</td>\n",
       "      <td>77</td>\n",
       "      <td>77</td>\n",
       "      <td>71</td>\n",
       "      <td>225</td>\n",
       "    </tr>\n",
       "    <tr>\n",
       "      <th>1996</th>\n",
       "      <td>male</td>\n",
       "      <td>group C</td>\n",
       "      <td>college</td>\n",
       "      <td>standard</td>\n",
       "      <td>none</td>\n",
       "      <td>80</td>\n",
       "      <td>66</td>\n",
       "      <td>66</td>\n",
       "      <td>212</td>\n",
       "    </tr>\n",
       "    <tr>\n",
       "      <th>1997</th>\n",
       "      <td>female</td>\n",
       "      <td>group A</td>\n",
       "      <td>high school</td>\n",
       "      <td>standard</td>\n",
       "      <td>completed</td>\n",
       "      <td>67</td>\n",
       "      <td>86</td>\n",
       "      <td>86</td>\n",
       "      <td>239</td>\n",
       "    </tr>\n",
       "    <tr>\n",
       "      <th>1998</th>\n",
       "      <td>male</td>\n",
       "      <td>group E</td>\n",
       "      <td>high school</td>\n",
       "      <td>standard</td>\n",
       "      <td>none</td>\n",
       "      <td>80</td>\n",
       "      <td>72</td>\n",
       "      <td>62</td>\n",
       "      <td>214</td>\n",
       "    </tr>\n",
       "    <tr>\n",
       "      <th>1999</th>\n",
       "      <td>male</td>\n",
       "      <td>group D</td>\n",
       "      <td>high school</td>\n",
       "      <td>standard</td>\n",
       "      <td>none</td>\n",
       "      <td>58</td>\n",
       "      <td>47</td>\n",
       "      <td>45</td>\n",
       "      <td>150</td>\n",
       "    </tr>\n",
       "  </tbody>\n",
       "</table>\n",
       "<p>2000 rows × 9 columns</p>\n",
       "</div>"
      ],
      "text/plain": [
       "      Gender Race/ethnicity Parental level of education         Lunch  \\\n",
       "0     female        group D                     college      standard   \n",
       "1       male        group D          associate's degree      standard   \n",
       "2     female        group D                     college  free/reduced   \n",
       "3       male        group B                     college  free/reduced   \n",
       "4     female        group D          associate's degree      standard   \n",
       "...      ...            ...                         ...           ...   \n",
       "1995    male        group C                     college      standard   \n",
       "1996    male        group C                     college      standard   \n",
       "1997  female        group A                 high school      standard   \n",
       "1998    male        group E                 high school      standard   \n",
       "1999    male        group D                 high school      standard   \n",
       "\n",
       "     Test preparation course  Math score  Reading score  Writing score  \\\n",
       "0                  completed          59             70             78   \n",
       "1                       none          96             93             87   \n",
       "2                       none          57             76             77   \n",
       "3                       none          70             70             63   \n",
       "4                       none          83             85             86   \n",
       "...                      ...         ...            ...            ...   \n",
       "1995                    none          77             77             71   \n",
       "1996                    none          80             66             66   \n",
       "1997               completed          67             86             86   \n",
       "1998                    none          80             72             62   \n",
       "1999                    none          58             47             45   \n",
       "\n",
       "      Total_score  \n",
       "0             207  \n",
       "1             276  \n",
       "2             210  \n",
       "3             203  \n",
       "4             254  \n",
       "...           ...  \n",
       "1995          225  \n",
       "1996          212  \n",
       "1997          239  \n",
       "1998          214  \n",
       "1999          150  \n",
       "\n",
       "[2000 rows x 9 columns]"
      ]
     },
     "execution_count": 255,
     "metadata": {},
     "output_type": "execute_result"
    }
   ],
   "source": [
    "df"
   ]
  },
  {
   "cell_type": "markdown",
   "id": "f7fdd922",
   "metadata": {},
   "source": [
    "## Гипотезы"
   ]
  },
  {
   "cell_type": "markdown",
   "id": "b4db7022",
   "metadata": {},
   "source": [
    "1. Пол не влияет на общий балл\n",
    "\n",
    "\n",
    "2. Раса на влияет на общий балл\n",
    "\n",
    "\n",
    "3. Наличие ученой степени у родителя повышает шансы ребенка иметь высокий общий балл\n",
    "\n",
    "\n",
    "4. Студенты, которые  прошли подготовительный курс учатся лучше\n",
    "\n",
    "\n",
    "5. Наличие у родителя высшего образования влияет на то, пройдут ли его дети подготовительные курсы\n",
    "\n",
    "\n",
    "6. Пол студента влияет на то, пройдет ли студент подготовительные курсы\n",
    "\n",
    "\n",
    "\n",
    "\n",
    "\n",
    "\n"
   ]
  },
  {
   "cell_type": "markdown",
   "id": "3bdabeaa",
   "metadata": {},
   "source": [
    "# Проверка гипотез"
   ]
  },
  {
   "cell_type": "code",
   "execution_count": 256,
   "id": "fed28aad",
   "metadata": {},
   "outputs": [],
   "source": [
    "import scipy.stats as sts\n",
    "from scipy import stats\n",
    "import matplotlib.pyplot as plt\n",
    "import numpy as np\n",
    "from statsmodels.stats.weightstats import ztest\n",
    "from scipy.stats import chi2_contingency"
   ]
  },
  {
   "cell_type": "markdown",
   "id": "c9bacb4d",
   "metadata": {},
   "source": [
    "# Гипотеза 1"
   ]
  },
  {
   "cell_type": "markdown",
   "id": "a74ffcb8",
   "metadata": {},
   "source": [
    "### Проверим влияет ли пол студентов на их баллы"
   ]
  },
  {
   "cell_type": "markdown",
   "id": "1dbcd981",
   "metadata": {},
   "source": [
    "H0: средний общий балл девочек равен среднему обшему баллу мальчиков\n",
    "    \n",
    "    \n",
    "H1: средний общий балл девочек больше, чем средний общий балл мальчиков "
   ]
  },
  {
   "cell_type": "code",
   "execution_count": 257,
   "id": "61fcbc28",
   "metadata": {},
   "outputs": [
    {
     "data": {
      "text/html": [
       "<div>\n",
       "<style scoped>\n",
       "    .dataframe tbody tr th:only-of-type {\n",
       "        vertical-align: middle;\n",
       "    }\n",
       "\n",
       "    .dataframe tbody tr th {\n",
       "        vertical-align: top;\n",
       "    }\n",
       "\n",
       "    .dataframe thead th {\n",
       "        text-align: right;\n",
       "    }\n",
       "</style>\n",
       "<table border=\"1\" class=\"dataframe\">\n",
       "  <thead>\n",
       "    <tr style=\"text-align: right;\">\n",
       "      <th></th>\n",
       "      <th>Gender</th>\n",
       "      <th>Race/ethnicity</th>\n",
       "      <th>Parental level of education</th>\n",
       "      <th>Lunch</th>\n",
       "      <th>Test preparation course</th>\n",
       "      <th>Math score</th>\n",
       "      <th>Reading score</th>\n",
       "      <th>Writing score</th>\n",
       "      <th>Total_score</th>\n",
       "    </tr>\n",
       "  </thead>\n",
       "  <tbody>\n",
       "    <tr>\n",
       "      <th>0</th>\n",
       "      <td>female</td>\n",
       "      <td>group D</td>\n",
       "      <td>college</td>\n",
       "      <td>standard</td>\n",
       "      <td>completed</td>\n",
       "      <td>59</td>\n",
       "      <td>70</td>\n",
       "      <td>78</td>\n",
       "      <td>207</td>\n",
       "    </tr>\n",
       "    <tr>\n",
       "      <th>1</th>\n",
       "      <td>male</td>\n",
       "      <td>group D</td>\n",
       "      <td>associate's degree</td>\n",
       "      <td>standard</td>\n",
       "      <td>none</td>\n",
       "      <td>96</td>\n",
       "      <td>93</td>\n",
       "      <td>87</td>\n",
       "      <td>276</td>\n",
       "    </tr>\n",
       "    <tr>\n",
       "      <th>2</th>\n",
       "      <td>female</td>\n",
       "      <td>group D</td>\n",
       "      <td>college</td>\n",
       "      <td>free/reduced</td>\n",
       "      <td>none</td>\n",
       "      <td>57</td>\n",
       "      <td>76</td>\n",
       "      <td>77</td>\n",
       "      <td>210</td>\n",
       "    </tr>\n",
       "    <tr>\n",
       "      <th>3</th>\n",
       "      <td>male</td>\n",
       "      <td>group B</td>\n",
       "      <td>college</td>\n",
       "      <td>free/reduced</td>\n",
       "      <td>none</td>\n",
       "      <td>70</td>\n",
       "      <td>70</td>\n",
       "      <td>63</td>\n",
       "      <td>203</td>\n",
       "    </tr>\n",
       "    <tr>\n",
       "      <th>4</th>\n",
       "      <td>female</td>\n",
       "      <td>group D</td>\n",
       "      <td>associate's degree</td>\n",
       "      <td>standard</td>\n",
       "      <td>none</td>\n",
       "      <td>83</td>\n",
       "      <td>85</td>\n",
       "      <td>86</td>\n",
       "      <td>254</td>\n",
       "    </tr>\n",
       "    <tr>\n",
       "      <th>...</th>\n",
       "      <td>...</td>\n",
       "      <td>...</td>\n",
       "      <td>...</td>\n",
       "      <td>...</td>\n",
       "      <td>...</td>\n",
       "      <td>...</td>\n",
       "      <td>...</td>\n",
       "      <td>...</td>\n",
       "      <td>...</td>\n",
       "    </tr>\n",
       "    <tr>\n",
       "      <th>1995</th>\n",
       "      <td>male</td>\n",
       "      <td>group C</td>\n",
       "      <td>college</td>\n",
       "      <td>standard</td>\n",
       "      <td>none</td>\n",
       "      <td>77</td>\n",
       "      <td>77</td>\n",
       "      <td>71</td>\n",
       "      <td>225</td>\n",
       "    </tr>\n",
       "    <tr>\n",
       "      <th>1996</th>\n",
       "      <td>male</td>\n",
       "      <td>group C</td>\n",
       "      <td>college</td>\n",
       "      <td>standard</td>\n",
       "      <td>none</td>\n",
       "      <td>80</td>\n",
       "      <td>66</td>\n",
       "      <td>66</td>\n",
       "      <td>212</td>\n",
       "    </tr>\n",
       "    <tr>\n",
       "      <th>1997</th>\n",
       "      <td>female</td>\n",
       "      <td>group A</td>\n",
       "      <td>high school</td>\n",
       "      <td>standard</td>\n",
       "      <td>completed</td>\n",
       "      <td>67</td>\n",
       "      <td>86</td>\n",
       "      <td>86</td>\n",
       "      <td>239</td>\n",
       "    </tr>\n",
       "    <tr>\n",
       "      <th>1998</th>\n",
       "      <td>male</td>\n",
       "      <td>group E</td>\n",
       "      <td>high school</td>\n",
       "      <td>standard</td>\n",
       "      <td>none</td>\n",
       "      <td>80</td>\n",
       "      <td>72</td>\n",
       "      <td>62</td>\n",
       "      <td>214</td>\n",
       "    </tr>\n",
       "    <tr>\n",
       "      <th>1999</th>\n",
       "      <td>male</td>\n",
       "      <td>group D</td>\n",
       "      <td>high school</td>\n",
       "      <td>standard</td>\n",
       "      <td>none</td>\n",
       "      <td>58</td>\n",
       "      <td>47</td>\n",
       "      <td>45</td>\n",
       "      <td>150</td>\n",
       "    </tr>\n",
       "  </tbody>\n",
       "</table>\n",
       "<p>2000 rows × 9 columns</p>\n",
       "</div>"
      ],
      "text/plain": [
       "      Gender Race/ethnicity Parental level of education         Lunch  \\\n",
       "0     female        group D                     college      standard   \n",
       "1       male        group D          associate's degree      standard   \n",
       "2     female        group D                     college  free/reduced   \n",
       "3       male        group B                     college  free/reduced   \n",
       "4     female        group D          associate's degree      standard   \n",
       "...      ...            ...                         ...           ...   \n",
       "1995    male        group C                     college      standard   \n",
       "1996    male        group C                     college      standard   \n",
       "1997  female        group A                 high school      standard   \n",
       "1998    male        group E                 high school      standard   \n",
       "1999    male        group D                 high school      standard   \n",
       "\n",
       "     Test preparation course  Math score  Reading score  Writing score  \\\n",
       "0                  completed          59             70             78   \n",
       "1                       none          96             93             87   \n",
       "2                       none          57             76             77   \n",
       "3                       none          70             70             63   \n",
       "4                       none          83             85             86   \n",
       "...                      ...         ...            ...            ...   \n",
       "1995                    none          77             77             71   \n",
       "1996                    none          80             66             66   \n",
       "1997               completed          67             86             86   \n",
       "1998                    none          80             72             62   \n",
       "1999                    none          58             47             45   \n",
       "\n",
       "      Total_score  \n",
       "0             207  \n",
       "1             276  \n",
       "2             210  \n",
       "3             203  \n",
       "4             254  \n",
       "...           ...  \n",
       "1995          225  \n",
       "1996          212  \n",
       "1997          239  \n",
       "1998          214  \n",
       "1999          150  \n",
       "\n",
       "[2000 rows x 9 columns]"
      ]
     },
     "execution_count": 257,
     "metadata": {},
     "output_type": "execute_result"
    }
   ],
   "source": [
    "df"
   ]
  },
  {
   "cell_type": "code",
   "execution_count": 258,
   "id": "d50a4926",
   "metadata": {},
   "outputs": [
    {
     "data": {
      "text/plain": [
       "0       207\n",
       "2       210\n",
       "4       254\n",
       "6       245\n",
       "7       165\n",
       "       ... \n",
       "1987    282\n",
       "1990    223\n",
       "1991    226\n",
       "1994    269\n",
       "1997    239\n",
       "Name: Total_score, Length: 984, dtype: int64"
      ]
     },
     "execution_count": 258,
     "metadata": {},
     "output_type": "execute_result"
    }
   ],
   "source": [
    "female_score = df[df['Gender'] == 'female']['Total_score'] #Общие баллы студентов женского пола\n",
    "female_score"
   ]
  },
  {
   "cell_type": "code",
   "execution_count": 259,
   "id": "19b6e001",
   "metadata": {},
   "outputs": [
    {
     "data": {
      "text/plain": [
       "1       276\n",
       "3       203\n",
       "5       179\n",
       "8       228\n",
       "10      212\n",
       "       ... \n",
       "1993    237\n",
       "1995    225\n",
       "1996    212\n",
       "1998    214\n",
       "1999    150\n",
       "Name: Total_score, Length: 1016, dtype: int64"
      ]
     },
     "execution_count": 259,
     "metadata": {},
     "output_type": "execute_result"
    }
   ],
   "source": [
    "male_score = df[df['Gender'] == 'male']['Total_score']   #Общие баллы студентов мужского пола\n",
    "male_score"
   ]
  },
  {
   "cell_type": "markdown",
   "id": "57ae1da5",
   "metadata": {},
   "source": [
    "Сделаем тест Колмогорова-Смирнова на уровне значимости 0.05, чтобы проверить выборки на нормальность"
   ]
  },
  {
   "cell_type": "code",
   "execution_count": 260,
   "id": "60f94c47",
   "metadata": {},
   "outputs": [
    {
     "data": {
      "text/plain": [
       "KstestResult(statistic=0.04324061280412517, pvalue=0.048993116639263534)"
      ]
     },
     "execution_count": 260,
     "metadata": {},
     "output_type": "execute_result"
    }
   ],
   "source": [
    "stats.kstest(female_score, 'norm', args=(female_score.mean(), female_score.std(ddof=1)))"
   ]
  },
  {
   "cell_type": "code",
   "execution_count": 261,
   "id": "2a05b5bb",
   "metadata": {},
   "outputs": [
    {
     "data": {
      "image/png": "[encoded data removed]",
      "text/plain": [
       "<Figure size 432x288 with 1 Axes>"
      ]
     },
     "metadata": {
      "needs_background": "light"
     },
     "output_type": "display_data"
    }
   ],
   "source": [
    "plt.hist(female_score, edgecolor = 'black', bins = int(180/5))\n",
    "plt.title('Баллы студентов женского пола')\n",
    "plt.xlabel('Баллы')\n",
    "plt.ylabel('Количество студентов')\n",
    "plt.show()"
   ]
  },
  {
   "cell_type": "markdown",
   "id": "e1c7b9ce",
   "metadata": {},
   "source": [
    "P-value больше, чем 0.05, значит гипотеза о нормальности баллов студентов женского пола не отвергается."
   ]
  },
  {
   "cell_type": "code",
   "execution_count": 262,
   "id": "bd58f1e0",
   "metadata": {},
   "outputs": [
    {
     "data": {
      "text/plain": [
       "KstestResult(statistic=0.029939371915317814, pvalue=0.31594795048025137)"
      ]
     },
     "execution_count": 262,
     "metadata": {},
     "output_type": "execute_result"
    }
   ],
   "source": [
    "stats.kstest(male_score, 'norm', args=(male_score.mean(), male_score.std(ddof=1)))"
   ]
  },
  {
   "cell_type": "code",
   "execution_count": 263,
   "id": "a0aa8767",
   "metadata": {},
   "outputs": [
    {
     "data": {
      "image/png": "[encoded data removed]",
      "text/plain": [
       "<Figure size 432x288 with 1 Axes>"
      ]
     },
     "metadata": {
      "needs_background": "light"
     },
     "output_type": "display_data"
    }
   ],
   "source": [
    "plt.hist(male_score, edgecolor = 'black', bins = int(180/5))\n",
    "plt.title('Баллы студентов мужского пола')\n",
    "plt.xlabel('Баллы')\n",
    "plt.ylabel('Количество студентов')\n",
    "plt.show()"
   ]
  },
  {
   "cell_type": "markdown",
   "id": "0fca3fb3",
   "metadata": {},
   "source": [
    "P-value больше, чем 0.05. Гипотеза о нормальности баллов студентов мужского пола не отвергается. "
   ]
  },
  {
   "cell_type": "markdown",
   "id": "1d7d30c5",
   "metadata": {},
   "source": [
    "Выборки нормальные. Наблюдений много. Значит для тестирования гипотезы мы можем использовать точный тест."
   ]
  },
  {
   "cell_type": "code",
   "execution_count": 264,
   "id": "193f115d",
   "metadata": {},
   "outputs": [],
   "source": [
    "def t1_tect(group_score1, group_score2): #Функция, которая делает точный тест\n",
    "    alpha = 0.05                 # Уровень значимости = 5%\n",
    "    n1 = group_score1.size       # Размер  выборки студентов женского пола \n",
    "    n2 = group_score2.size       # Размер  выборки студентов мужского \n",
    "    mu_1 = group_score1.mean()   # среднее значение баллов студентов женского пола \n",
    "    mu_2 = group_score2.mean()   # среднее значение баллов студентов мужского пола \n",
    "    std = np.sqrt(group_score1.var(ddof=1)/n1 + group_score2.var(ddof=1)/n2)   # стандартное отклонение\n",
    "    t_obs = (mu_1 - mu_2)/std            # наблюдаемое значение статистики \n",
    "    t_crit = stats.t(n1+n2-2).ppf(1 - alpha)   # критическое значение статистики\n",
    "    return t_obs,  t_crit"
   ]
  },
  {
   "cell_type": "code",
   "execution_count": 265,
   "id": "473eb1a1",
   "metadata": {},
   "outputs": [
    {
     "data": {
      "text/plain": [
       "(4.576284774392776, 1.6456166300576656)"
      ]
     },
     "execution_count": 265,
     "metadata": {},
     "output_type": "execute_result"
    }
   ],
   "source": [
    "t1_tect(female_score, male_score)"
   ]
  },
  {
   "cell_type": "markdown",
   "id": "0dadba3b",
   "metadata": {},
   "source": [
    "Рассчетная статистика больше, чем критическая точка. Отвергаем основную гепотезу о том, что баллы студентов женского и мужского пола равны. Принимаем альтернативную гипотезы о том, что баллы студентов женского пола больше, чем баллы студентов мужского пола. "
   ]
  },
  {
   "cell_type": "markdown",
   "id": "209cba5a",
   "metadata": {},
   "source": [
    "# Гипотеза 2"
   ]
  },
  {
   "cell_type": "markdown",
   "id": "0fd3f51a",
   "metadata": {},
   "source": [
    "### Проверим влияет ли раса студентов на их баллы"
   ]
  },
  {
   "cell_type": "markdown",
   "id": "543d89c7",
   "metadata": {},
   "source": [
    "H0: Средние баллы студентов рас равны между собой\n",
    "    \n",
    "    \n",
    "H1: Средние баллы студентов рас не равны между собой"
   ]
  },
  {
   "cell_type": "code",
   "execution_count": 266,
   "id": "64bd0b9a",
   "metadata": {},
   "outputs": [],
   "source": [
    "A_score = df[df['Race/ethnicity'] == 'group A']['Total_score']\n",
    "B_score = df[df['Race/ethnicity'] == 'group B']['Total_score']\n",
    "C_score = df[df['Race/ethnicity'] == 'group C']['Total_score']\n",
    "D_score = df[df['Race/ethnicity'] == 'group D']['Total_score']\n",
    "E_score = df[df['Race/ethnicity'] == 'group E']['Total_score']"
   ]
  },
  {
   "cell_type": "markdown",
   "id": "26428392",
   "metadata": {},
   "source": [
    "Сделаем тест Колмогорова-Смирнова на уровне значимости 0.05, чтобы проверить выборки на нормальность"
   ]
  },
  {
   "cell_type": "code",
   "execution_count": 268,
   "id": "c9c53769",
   "metadata": {},
   "outputs": [
    {
     "data": {
      "text/plain": [
       "KstestResult(statistic=0.07732992549288942, pvalue=0.2862597727243814)"
      ]
     },
     "execution_count": 268,
     "metadata": {},
     "output_type": "execute_result"
    }
   ],
   "source": [
    "stats.kstest(A_score, 'norm', args=(A_score.mean(), A_score.std(ddof=1)))"
   ]
  },
  {
   "cell_type": "code",
   "execution_count": 269,
   "id": "efbf5265",
   "metadata": {},
   "outputs": [
    {
     "data": {
      "text/plain": [
       "KstestResult(statistic=0.04450865762328404, pvalue=0.40109685768797276)"
      ]
     },
     "execution_count": 269,
     "metadata": {},
     "output_type": "execute_result"
    }
   ],
   "source": [
    "stats.kstest(B_score, 'norm', args=(B_score.mean(), B_score.std(ddof=1)))"
   ]
  },
  {
   "cell_type": "code",
   "execution_count": 270,
   "id": "b21de2a0",
   "metadata": {},
   "outputs": [
    {
     "data": {
      "text/plain": [
       "KstestResult(statistic=0.04471335966029444, pvalue=0.14654847072685162)"
      ]
     },
     "execution_count": 270,
     "metadata": {},
     "output_type": "execute_result"
    }
   ],
   "source": [
    "stats.kstest(C_score, 'norm', args=(C_score.mean(), C_score.std(ddof=1)))"
   ]
  },
  {
   "cell_type": "code",
   "execution_count": 271,
   "id": "475dfd56",
   "metadata": {},
   "outputs": [
    {
     "data": {
      "text/plain": [
       "KstestResult(statistic=0.037797765184763576, pvalue=0.4440202815694104)"
      ]
     },
     "execution_count": 271,
     "metadata": {},
     "output_type": "execute_result"
    }
   ],
   "source": [
    "stats.kstest(D_score, 'norm', args=(D_score.mean(), D_score.std(ddof=1)))"
   ]
  },
  {
   "cell_type": "code",
   "execution_count": 272,
   "id": "7bb97c53",
   "metadata": {},
   "outputs": [
    {
     "data": {
      "text/plain": [
       "KstestResult(statistic=0.09579603811515414, pvalue=0.009786907754493446)"
      ]
     },
     "execution_count": 272,
     "metadata": {},
     "output_type": "execute_result"
    }
   ],
   "source": [
    "stats.kstest(E_score, 'norm', args=(E_score.mean(), E_score.std(ddof=1)))"
   ]
  },
  {
   "cell_type": "markdown",
   "id": "cb9b4fd4",
   "metadata": {},
   "source": [
    "Все баллы pvalue больше 0.05, кроме расы E. Баллы студентов большинства рас распределены нормально. Так как наблюдений много, то используем точный тест. С расой E используем асимптотический тест. "
   ]
  },
  {
   "cell_type": "markdown",
   "id": "c7cf2174",
   "metadata": {},
   "source": [
    "А и В"
   ]
  },
  {
   "cell_type": "code",
   "execution_count": 356,
   "id": "d4d7c3bf",
   "metadata": {},
   "outputs": [],
   "source": [
    "def t_test(group_score1, group_score2): #Функция, которая составляет ДИ и расчетную статистику в точном тесте\n",
    "    alpha = 0.05            # Уровень значимости = 5%\n",
    "    n1 = group_score1.size  # Размер  выборки студентов первой расы \n",
    "    n2 = group_score2.size   # Размер  выборки студентов второй расы \n",
    "    mu_1 = group_score1.mean()   # среднее значение баллов студентов первой расы \n",
    "    mu_2 = group_score2.mean()   # среднее значение баллов студентов второй расы \n",
    "    std = np.sqrt(group_score1.var(ddof=1)/n1 + group_score2.var(ddof=1)/n2)   # стандартное отклонение\n",
    "    t_obs = (mu_1 - mu_2)/std                      # наблюдаемое значение статистики \n",
    "    t_crit = stats.t(n1+n2 - 2).ppf(1 - alpha/2)   # критическое значение статистики\n",
    "    return t_obs, (-t_crit, t_crit)"
   ]
  },
  {
   "cell_type": "code",
   "execution_count": 357,
   "id": "da6d7248",
   "metadata": {},
   "outputs": [],
   "source": [
    "def asy_test(group_score1, group_score2): #Ассимптотический тест для двух выборок - https://github.com/FUlyankin/matstat-AB/blob/main/week09_hypo/10_13_python_mouse_and_man.ipynb\n",
    "    alpha = 0.05                                                        # уровень значимости = 5%\n",
    "    nx, ny = group_score1.size, group_score2.size                       # размер выборок\n",
    "\n",
    "    diff = group_score1.mean() - group_score2.mean()                                # разность средних\n",
    "    diff_std = np.sqrt(group_score1.var(ddof=1)/nx + group_score2.var(ddof=1)/ny)   # стандартное отклонение\n",
    "\n",
    "    z_obs = diff/diff_std                       # наблюдаемое значение\n",
    "    z_crit = stats.norm.ppf(1 - alpha/2)        # критическое значение\n",
    "    return z_obs, (-z_crit, z_crit)"
   ]
  },
  {
   "cell_type": "code",
   "execution_count": 358,
   "id": "fdd9a74f",
   "metadata": {},
   "outputs": [
    {
     "data": {
      "text/plain": [
       "(0.9664088379724373, (-1.9642708556448625, 1.9642708556448625))"
      ]
     },
     "execution_count": 358,
     "metadata": {},
     "output_type": "execute_result"
    }
   ],
   "source": [
    "t_test(A_score, B_score)"
   ]
  },
  {
   "cell_type": "markdown",
   "id": "ef351eca",
   "metadata": {},
   "source": [
    "Расчетная статистика входит в доверительный интервал. Значит нулевая гипотеза о том, что в среднем баллы расы А равны баллам расы В не отвергается. "
   ]
  },
  {
   "cell_type": "markdown",
   "id": "c4407ddb",
   "metadata": {},
   "source": [
    "В и С"
   ]
  },
  {
   "cell_type": "code",
   "execution_count": 359,
   "id": "1deabacb",
   "metadata": {},
   "outputs": [
    {
     "data": {
      "text/plain": [
       "(-0.6080131953779587, (-1.9622476264013182, 1.9622476264013182))"
      ]
     },
     "execution_count": 359,
     "metadata": {},
     "output_type": "execute_result"
    }
   ],
   "source": [
    "t_test(B_score, C_score)"
   ]
  },
  {
   "cell_type": "markdown",
   "id": "b2b9669e",
   "metadata": {},
   "source": [
    "Рассчетная статистика входит в ДИ. Значит нулевая гипотеза о том, что в среднем баллы расы В равны баллам расы С не отвергается. "
   ]
  },
  {
   "cell_type": "markdown",
   "id": "d25abb21",
   "metadata": {},
   "source": [
    "C и D"
   ]
  },
  {
   "cell_type": "code",
   "execution_count": 360,
   "id": "ac761a87",
   "metadata": {},
   "outputs": [
    {
     "data": {
      "text/plain": [
       "(-4.039324634685765, (-1.962014684478017, 1.962014684478017))"
      ]
     },
     "execution_count": 360,
     "metadata": {},
     "output_type": "execute_result"
    }
   ],
   "source": [
    "t_test(C_score, D_score)"
   ]
  },
  {
   "cell_type": "markdown",
   "id": "f9118685",
   "metadata": {},
   "source": [
    "Расчетная статистика не входит в ДИ. Значит нулевая гипотеза о том, что в среднем баллы расы C равны баллам расы D отвергается."
   ]
  },
  {
   "cell_type": "markdown",
   "id": "2c42db4b",
   "metadata": {},
   "source": [
    "D и E"
   ]
  },
  {
   "cell_type": "code",
   "execution_count": 361,
   "id": "dfa8b624",
   "metadata": {},
   "outputs": [
    {
     "data": {
      "text/plain": [
       "(-6.013404498888543, (-1.959963984540054, 1.959963984540054))"
      ]
     },
     "execution_count": 361,
     "metadata": {},
     "output_type": "execute_result"
    }
   ],
   "source": [
    "asy_test(D_score, E_score)"
   ]
  },
  {
   "cell_type": "markdown",
   "id": "5421fca6",
   "metadata": {},
   "source": [
    "Расчетная статистика не входит в ДИ. Значит нулевая гипотеза о том, что в среднем баллы расы D равны баллам расы E отвергается."
   ]
  },
  {
   "cell_type": "markdown",
   "id": "c8d6ce37",
   "metadata": {},
   "source": [
    "A и E"
   ]
  },
  {
   "cell_type": "code",
   "execution_count": 362,
   "id": "3490ff17",
   "metadata": {},
   "outputs": [
    {
     "data": {
      "text/plain": [
       "(-7.105700108174749, (-1.959963984540054, 1.959963984540054))"
      ]
     },
     "execution_count": 362,
     "metadata": {},
     "output_type": "execute_result"
    }
   ],
   "source": [
    "asy_test(A_score, E_score)"
   ]
  },
  {
   "cell_type": "markdown",
   "id": "eb9b2bc5",
   "metadata": {},
   "source": [
    "Расчетная статистика не входит в ДИ. Значит нулевая гипотеза о том, что в среднем баллы расы A равны баллам расы E отвергается."
   ]
  },
  {
   "cell_type": "markdown",
   "id": "9a7beda5",
   "metadata": {},
   "source": [
    "B и E"
   ]
  },
  {
   "cell_type": "code",
   "execution_count": 363,
   "id": "cebb501c",
   "metadata": {},
   "outputs": [
    {
     "data": {
      "text/plain": [
       "(-9.363138717302482, (-1.959963984540054, 1.959963984540054))"
      ]
     },
     "execution_count": 363,
     "metadata": {},
     "output_type": "execute_result"
    }
   ],
   "source": [
    "asy_test(B_score, E_score)"
   ]
  },
  {
   "cell_type": "markdown",
   "id": "e79a195c",
   "metadata": {},
   "source": [
    "Расчетная статистика не входит в ДИ. Значит нулевая гипотеза о том, что в среднем баллы расы B равны баллам расы E  отвергается."
   ]
  },
  {
   "cell_type": "markdown",
   "id": "f25eed25",
   "metadata": {},
   "source": [
    "C и E"
   ]
  },
  {
   "cell_type": "code",
   "execution_count": 364,
   "id": "0410e9c2",
   "metadata": {},
   "outputs": [
    {
     "data": {
      "text/plain": [
       "(-9.87084556526116, (-1.959963984540054, 1.959963984540054))"
      ]
     },
     "execution_count": 364,
     "metadata": {},
     "output_type": "execute_result"
    }
   ],
   "source": [
    "asy_test(C_score, E_score)"
   ]
  },
  {
   "cell_type": "markdown",
   "id": "10d1192c",
   "metadata": {},
   "source": [
    "Расчетная статистика не входит в ДИ. Значит нулевая гипотеза о том, что в среднем баллы расы C равны баллам расы E отвергается."
   ]
  },
  {
   "cell_type": "markdown",
   "id": "c0c86d89",
   "metadata": {},
   "source": [
    "A и C"
   ]
  },
  {
   "cell_type": "code",
   "execution_count": 365,
   "id": "525dfe63",
   "metadata": {},
   "outputs": [
    {
     "data": {
      "text/plain": [
       "(0.5588513007336168, (-1.962926321861699, 1.962926321861699))"
      ]
     },
     "execution_count": 365,
     "metadata": {},
     "output_type": "execute_result"
    }
   ],
   "source": [
    "t_test(A_score, C_score)"
   ]
  },
  {
   "cell_type": "markdown",
   "id": "5beea3ed",
   "metadata": {},
   "source": [
    "Расчетная статистика входит в ДИ. Значит нулевая гипотеза о том, что в среднем баллы расы A равны баллам расы C не отвергается."
   ]
  },
  {
   "cell_type": "markdown",
   "id": "2c148187",
   "metadata": {},
   "source": [
    "A и D"
   ]
  },
  {
   "cell_type": "code",
   "execution_count": 366,
   "id": "31539a39",
   "metadata": {},
   "outputs": [
    {
     "data": {
      "text/plain": [
       "(-2.3787362323661827, (-1.9635109839634393, 1.9635109839634393))"
      ]
     },
     "execution_count": 366,
     "metadata": {},
     "output_type": "execute_result"
    }
   ],
   "source": [
    "t_test(A_score, D_score)"
   ]
  },
  {
   "cell_type": "markdown",
   "id": "1f467779",
   "metadata": {},
   "source": [
    "Расчетная статистика не входит в ДИ. Значит нулевая гипотеза о том, что в среднем баллы расы A равны баллам расы D отвергается."
   ]
  },
  {
   "cell_type": "markdown",
   "id": "55a290a7",
   "metadata": {},
   "source": [
    "B и D"
   ]
  },
  {
   "cell_type": "code",
   "execution_count": 367,
   "id": "d7e7ca89",
   "metadata": {},
   "outputs": [
    {
     "data": {
      "text/plain": [
       "(-4.0767867671661815, (-1.962580044904687, 1.962580044904687))"
      ]
     },
     "execution_count": 367,
     "metadata": {},
     "output_type": "execute_result"
    }
   ],
   "source": [
    "t_test(B_score, D_score)"
   ]
  },
  {
   "cell_type": "markdown",
   "id": "f5a2ed19",
   "metadata": {},
   "source": [
    "Расчетная статистика не входит в ДИ. Значит нулевая гипотеза о том, что в среднем баллы расы B равны баллам расы D отвергается."
   ]
  },
  {
   "cell_type": "markdown",
   "id": "adad58bc",
   "metadata": {},
   "source": [
    "# Гипотеза 3"
   ]
  },
  {
   "cell_type": "markdown",
   "id": "7386315f",
   "metadata": {},
   "source": [
    "### Проверим влияет ли наличие высшего образования у родителей на оценки студентов. "
   ]
  },
  {
   "cell_type": "markdown",
   "id": "842dc90d",
   "metadata": {},
   "source": [
    "H0: Средние баллы студентов, родители которых получили высшее образование, равны средним баллам студентов, родители которых не получили высшее образование. \n",
    "    \n",
    "\n",
    "H1: Средние баллы студентов, родители которых получили высшее образование, выше, чем средние баллы студентов, родители которых не получили высшее образование. "
   ]
  },
  {
   "cell_type": "markdown",
   "id": "f1f48bf2",
   "metadata": {},
   "source": [
    "Объедим все колонки, в которых у родителей нет высшего образования в 'no high ed'"
   ]
  },
  {
   "cell_type": "code",
   "execution_count": 286,
   "id": "58d2b51f",
   "metadata": {},
   "outputs": [],
   "source": [
    "df = df.replace('high school', 'no_high_ed')\n",
    "df = df.replace('some high school', 'no_high_ed')\n",
    "df = df.replace('some college', 'no_high_ed')\n",
    "df = df.replace('college', 'no_high_ed')"
   ]
  },
  {
   "cell_type": "markdown",
   "id": "876c4b23",
   "metadata": {},
   "source": [
    "Объедим все колонки, в которых у людей есть высшее образование в 'high ed'"
   ]
  },
  {
   "cell_type": "code",
   "execution_count": 287,
   "id": "2d8507a1",
   "metadata": {},
   "outputs": [],
   "source": [
    "df = df.replace(\"bachelor's degree\",'high_ed')\n",
    "df = df.replace(\"master's degree\",'high_ed')\n",
    "df = df.replace(\"associate's degree\",'high_ed')"
   ]
  },
  {
   "cell_type": "code",
   "execution_count": 288,
   "id": "f1ffd5fe",
   "metadata": {},
   "outputs": [
    {
     "data": {
      "text/html": [
       "<div>\n",
       "<style scoped>\n",
       "    .dataframe tbody tr th:only-of-type {\n",
       "        vertical-align: middle;\n",
       "    }\n",
       "\n",
       "    .dataframe tbody tr th {\n",
       "        vertical-align: top;\n",
       "    }\n",
       "\n",
       "    .dataframe thead th {\n",
       "        text-align: right;\n",
       "    }\n",
       "</style>\n",
       "<table border=\"1\" class=\"dataframe\">\n",
       "  <thead>\n",
       "    <tr style=\"text-align: right;\">\n",
       "      <th></th>\n",
       "      <th>Gender</th>\n",
       "      <th>Race/ethnicity</th>\n",
       "      <th>Parental level of education</th>\n",
       "      <th>Lunch</th>\n",
       "      <th>Test preparation course</th>\n",
       "      <th>Math score</th>\n",
       "      <th>Reading score</th>\n",
       "      <th>Writing score</th>\n",
       "      <th>Total_score</th>\n",
       "    </tr>\n",
       "  </thead>\n",
       "  <tbody>\n",
       "    <tr>\n",
       "      <th>0</th>\n",
       "      <td>female</td>\n",
       "      <td>group D</td>\n",
       "      <td>no_high_ed</td>\n",
       "      <td>standard</td>\n",
       "      <td>completed</td>\n",
       "      <td>59</td>\n",
       "      <td>70</td>\n",
       "      <td>78</td>\n",
       "      <td>207</td>\n",
       "    </tr>\n",
       "    <tr>\n",
       "      <th>1</th>\n",
       "      <td>male</td>\n",
       "      <td>group D</td>\n",
       "      <td>high_ed</td>\n",
       "      <td>standard</td>\n",
       "      <td>none</td>\n",
       "      <td>96</td>\n",
       "      <td>93</td>\n",
       "      <td>87</td>\n",
       "      <td>276</td>\n",
       "    </tr>\n",
       "    <tr>\n",
       "      <th>2</th>\n",
       "      <td>female</td>\n",
       "      <td>group D</td>\n",
       "      <td>no_high_ed</td>\n",
       "      <td>free/reduced</td>\n",
       "      <td>none</td>\n",
       "      <td>57</td>\n",
       "      <td>76</td>\n",
       "      <td>77</td>\n",
       "      <td>210</td>\n",
       "    </tr>\n",
       "    <tr>\n",
       "      <th>3</th>\n",
       "      <td>male</td>\n",
       "      <td>group B</td>\n",
       "      <td>no_high_ed</td>\n",
       "      <td>free/reduced</td>\n",
       "      <td>none</td>\n",
       "      <td>70</td>\n",
       "      <td>70</td>\n",
       "      <td>63</td>\n",
       "      <td>203</td>\n",
       "    </tr>\n",
       "    <tr>\n",
       "      <th>4</th>\n",
       "      <td>female</td>\n",
       "      <td>group D</td>\n",
       "      <td>high_ed</td>\n",
       "      <td>standard</td>\n",
       "      <td>none</td>\n",
       "      <td>83</td>\n",
       "      <td>85</td>\n",
       "      <td>86</td>\n",
       "      <td>254</td>\n",
       "    </tr>\n",
       "    <tr>\n",
       "      <th>...</th>\n",
       "      <td>...</td>\n",
       "      <td>...</td>\n",
       "      <td>...</td>\n",
       "      <td>...</td>\n",
       "      <td>...</td>\n",
       "      <td>...</td>\n",
       "      <td>...</td>\n",
       "      <td>...</td>\n",
       "      <td>...</td>\n",
       "    </tr>\n",
       "    <tr>\n",
       "      <th>1995</th>\n",
       "      <td>male</td>\n",
       "      <td>group C</td>\n",
       "      <td>no_high_ed</td>\n",
       "      <td>standard</td>\n",
       "      <td>none</td>\n",
       "      <td>77</td>\n",
       "      <td>77</td>\n",
       "      <td>71</td>\n",
       "      <td>225</td>\n",
       "    </tr>\n",
       "    <tr>\n",
       "      <th>1996</th>\n",
       "      <td>male</td>\n",
       "      <td>group C</td>\n",
       "      <td>no_high_ed</td>\n",
       "      <td>standard</td>\n",
       "      <td>none</td>\n",
       "      <td>80</td>\n",
       "      <td>66</td>\n",
       "      <td>66</td>\n",
       "      <td>212</td>\n",
       "    </tr>\n",
       "    <tr>\n",
       "      <th>1997</th>\n",
       "      <td>female</td>\n",
       "      <td>group A</td>\n",
       "      <td>no_high_ed</td>\n",
       "      <td>standard</td>\n",
       "      <td>completed</td>\n",
       "      <td>67</td>\n",
       "      <td>86</td>\n",
       "      <td>86</td>\n",
       "      <td>239</td>\n",
       "    </tr>\n",
       "    <tr>\n",
       "      <th>1998</th>\n",
       "      <td>male</td>\n",
       "      <td>group E</td>\n",
       "      <td>no_high_ed</td>\n",
       "      <td>standard</td>\n",
       "      <td>none</td>\n",
       "      <td>80</td>\n",
       "      <td>72</td>\n",
       "      <td>62</td>\n",
       "      <td>214</td>\n",
       "    </tr>\n",
       "    <tr>\n",
       "      <th>1999</th>\n",
       "      <td>male</td>\n",
       "      <td>group D</td>\n",
       "      <td>no_high_ed</td>\n",
       "      <td>standard</td>\n",
       "      <td>none</td>\n",
       "      <td>58</td>\n",
       "      <td>47</td>\n",
       "      <td>45</td>\n",
       "      <td>150</td>\n",
       "    </tr>\n",
       "  </tbody>\n",
       "</table>\n",
       "<p>2000 rows × 9 columns</p>\n",
       "</div>"
      ],
      "text/plain": [
       "      Gender Race/ethnicity Parental level of education         Lunch  \\\n",
       "0     female        group D                  no_high_ed      standard   \n",
       "1       male        group D                     high_ed      standard   \n",
       "2     female        group D                  no_high_ed  free/reduced   \n",
       "3       male        group B                  no_high_ed  free/reduced   \n",
       "4     female        group D                     high_ed      standard   \n",
       "...      ...            ...                         ...           ...   \n",
       "1995    male        group C                  no_high_ed      standard   \n",
       "1996    male        group C                  no_high_ed      standard   \n",
       "1997  female        group A                  no_high_ed      standard   \n",
       "1998    male        group E                  no_high_ed      standard   \n",
       "1999    male        group D                  no_high_ed      standard   \n",
       "\n",
       "     Test preparation course  Math score  Reading score  Writing score  \\\n",
       "0                  completed          59             70             78   \n",
       "1                       none          96             93             87   \n",
       "2                       none          57             76             77   \n",
       "3                       none          70             70             63   \n",
       "4                       none          83             85             86   \n",
       "...                      ...         ...            ...            ...   \n",
       "1995                    none          77             77             71   \n",
       "1996                    none          80             66             66   \n",
       "1997               completed          67             86             86   \n",
       "1998                    none          80             72             62   \n",
       "1999                    none          58             47             45   \n",
       "\n",
       "      Total_score  \n",
       "0             207  \n",
       "1             276  \n",
       "2             210  \n",
       "3             203  \n",
       "4             254  \n",
       "...           ...  \n",
       "1995          225  \n",
       "1996          212  \n",
       "1997          239  \n",
       "1998          214  \n",
       "1999          150  \n",
       "\n",
       "[2000 rows x 9 columns]"
      ]
     },
     "execution_count": 288,
     "metadata": {},
     "output_type": "execute_result"
    }
   ],
   "source": [
    "df"
   ]
  },
  {
   "cell_type": "markdown",
   "id": "7812c485",
   "metadata": {},
   "source": [
    "Сохраним в отдельные переменные выборки, которые собираемся сравнивать"
   ]
  },
  {
   "cell_type": "code",
   "execution_count": 289,
   "id": "0f17db80",
   "metadata": {},
   "outputs": [],
   "source": [
    "high_ed = df[df['Parental level of education'] == 'high_ed']['Total_score']\n",
    "no_high_ed = df[df['Parental level of education'] == 'no_high_ed']['Total_score']"
   ]
  },
  {
   "cell_type": "markdown",
   "id": "c11cdf84",
   "metadata": {},
   "source": [
    "Сделаем тест Колмогорова-Смирнова, чтобы проверить нормальность"
   ]
  },
  {
   "cell_type": "code",
   "execution_count": 290,
   "id": "8c6f8ce8",
   "metadata": {},
   "outputs": [
    {
     "data": {
      "text/plain": [
       "KstestResult(statistic=0.10582626574890946, pvalue=6.067876663651901e-08)"
      ]
     },
     "execution_count": 290,
     "metadata": {},
     "output_type": "execute_result"
    }
   ],
   "source": [
    "stats.kstest(high_ed, 'norm', args=(df['Total_score'].mean(), df['Total_score'].std(ddof=1)))"
   ]
  },
  {
   "cell_type": "markdown",
   "id": "3bc2b5f2",
   "metadata": {},
   "source": [
    "p-value слишком низкое. Гипотеза о нормальности в выборке студентов с родителями с высшим образованием отвергается."
   ]
  },
  {
   "cell_type": "code",
   "execution_count": 291,
   "id": "d01dd20c",
   "metadata": {},
   "outputs": [
    {
     "data": {
      "text/plain": [
       "KstestResult(statistic=0.054218350354603206, pvalue=0.0013744435058828926)"
      ]
     },
     "execution_count": 291,
     "metadata": {},
     "output_type": "execute_result"
    }
   ],
   "source": [
    "stats.kstest(no_high_ed, 'norm', args=(df['Total_score'].mean(), df['Total_score'].std(ddof=1)))"
   ]
  },
  {
   "cell_type": "markdown",
   "id": "5d60c92c",
   "metadata": {},
   "source": [
    "Гипотеза о нормальности в выборки студентов с родителями без высшего образования не отвергается."
   ]
  },
  {
   "cell_type": "markdown",
   "id": "0b8cf91e",
   "metadata": {},
   "source": [
    "Гипотезу тестируем с помощью асимптотического критерия, так как наблюдений много, а распределение отличается от нормального."
   ]
  },
  {
   "cell_type": "code",
   "execution_count": 292,
   "id": "7e21a1ec",
   "metadata": {},
   "outputs": [
    {
     "data": {
      "text/html": [
       "<div>\n",
       "<style scoped>\n",
       "    .dataframe tbody tr th:only-of-type {\n",
       "        vertical-align: middle;\n",
       "    }\n",
       "\n",
       "    .dataframe tbody tr th {\n",
       "        vertical-align: top;\n",
       "    }\n",
       "\n",
       "    .dataframe thead th {\n",
       "        text-align: right;\n",
       "    }\n",
       "</style>\n",
       "<table border=\"1\" class=\"dataframe\">\n",
       "  <thead>\n",
       "    <tr style=\"text-align: right;\">\n",
       "      <th></th>\n",
       "      <th>mean</th>\n",
       "      <th>count</th>\n",
       "    </tr>\n",
       "    <tr>\n",
       "      <th>Parental level of education</th>\n",
       "      <th></th>\n",
       "      <th></th>\n",
       "    </tr>\n",
       "  </thead>\n",
       "  <tbody>\n",
       "    <tr>\n",
       "      <th>high_ed</th>\n",
       "      <td>214.682292</td>\n",
       "      <td>768</td>\n",
       "    </tr>\n",
       "    <tr>\n",
       "      <th>no_high_ed</th>\n",
       "      <td>202.750000</td>\n",
       "      <td>1232</td>\n",
       "    </tr>\n",
       "  </tbody>\n",
       "</table>\n",
       "</div>"
      ],
      "text/plain": [
       "                                   mean  count\n",
       "Parental level of education                   \n",
       "high_ed                      214.682292    768\n",
       "no_high_ed                   202.750000   1232"
      ]
     },
     "execution_count": 292,
     "metadata": {},
     "output_type": "execute_result"
    }
   ],
   "source": [
    "df_agg = df.groupby('Parental level of education')['Total_score'].agg(['mean', 'count'])\n",
    "df_agg"
   ]
  },
  {
   "cell_type": "code",
   "execution_count": 293,
   "id": "4ce3e906",
   "metadata": {},
   "outputs": [],
   "source": [
    "alpha = 0.05\n",
    "n1 = high_ed.size\n",
    "n2 = no_high_ed.size\n",
    "m1 = df_agg['mean']['high_ed']\n",
    "m2 = df_agg['mean']['no_high_ed']\n",
    "std1 = high_ed.std(ddof=1)/np.sqrt(n1)\n",
    "std2 = no_high_ed.std(ddof=1)/np.sqrt(n2)\n",
    "\n",
    "z_obs = (m1-m2)/(std1+std2)\n",
    "z_cr = stats.norm.ppf(1 - alpha)"
   ]
  },
  {
   "cell_type": "code",
   "execution_count": 294,
   "id": "aebb505e",
   "metadata": {},
   "outputs": [
    {
     "data": {
      "text/plain": [
       "(4.435247345641305, 1.6448536269514722)"
      ]
     },
     "execution_count": 294,
     "metadata": {},
     "output_type": "execute_result"
    }
   ],
   "source": [
    "z_obs, z_cr"
   ]
  },
  {
   "cell_type": "markdown",
   "id": "968db33b",
   "metadata": {},
   "source": [
    "Рассчетная статистика больше, чем критическая точка. Значит нулевая гипотеза отверагется. Принимаем альтернативную гипотезу о том, что студенты с родителями с вышим образованием в среднем пишут тесты на большее количество баллов, чем студенты с родителями со средним образованием."
   ]
  },
  {
   "cell_type": "markdown",
   "id": "e130fa0d",
   "metadata": {},
   "source": [
    "# Гипотеза 4"
   ]
  },
  {
   "cell_type": "markdown",
   "id": "3b7464ea",
   "metadata": {},
   "source": [
    "### Проверим влияет ли прохождение подготовительного курса на средний балл студентов. "
   ]
  },
  {
   "cell_type": "markdown",
   "id": "69fccf8c",
   "metadata": {},
   "source": [
    "H0: Средние баллы студентов, которые прошли подготовительный курс равны средним баллам студентов, которые не прошли подготовительный курс. \n",
    "\n",
    "H1: Средние баллы студентов, которые прошли подготовительный курс выше, чем средние баллы студентов, которые не прошли подготовительный курс. "
   ]
  },
  {
   "cell_type": "markdown",
   "id": "78739ef1",
   "metadata": {},
   "source": [
    "Сохраним в отдельные переменные выборки, которые собираемся сравнивать. "
   ]
  },
  {
   "cell_type": "code",
   "execution_count": 295,
   "id": "7a0bf59c",
   "metadata": {},
   "outputs": [],
   "source": [
    "course = df[df['Test preparation course'] == 'completed']['Total_score']\n",
    "no_course = df[df['Test preparation course'] == 'none']['Total_score']"
   ]
  },
  {
   "cell_type": "markdown",
   "id": "43c031ef",
   "metadata": {},
   "source": [
    "Сделаем тест Колмогорова-Смирнова, чтобы проверить выборки на нормальность. "
   ]
  },
  {
   "cell_type": "code",
   "execution_count": 296,
   "id": "196ef196",
   "metadata": {},
   "outputs": [
    {
     "data": {
      "text/plain": [
       "KstestResult(statistic=0.14504236490503725, pvalue=4.2832772130864386e-13)"
      ]
     },
     "execution_count": 296,
     "metadata": {},
     "output_type": "execute_result"
    }
   ],
   "source": [
    "stats.kstest(course, 'norm', args=(df['Total_score'].mean(), df['Total_score'].std(ddof=1)))"
   ]
  },
  {
   "cell_type": "markdown",
   "id": "42830887",
   "metadata": {},
   "source": [
    "P-value слишком низкое. Гипотеза о нормальности в выборке студентов, прошедших подготовительный курс отвергается."
   ]
  },
  {
   "cell_type": "code",
   "execution_count": 297,
   "id": "b266866e",
   "metadata": {},
   "outputs": [
    {
     "data": {
      "text/plain": [
       "KstestResult(statistic=0.06500786571728934, pvalue=2.9009592059069227e-05)"
      ]
     },
     "execution_count": 297,
     "metadata": {},
     "output_type": "execute_result"
    }
   ],
   "source": [
    "stats.kstest(no_course, 'norm', args=(df['Total_score'].mean(), df['Total_score'].std(ddof=1)))"
   ]
  },
  {
   "cell_type": "markdown",
   "id": "a9a28e19",
   "metadata": {},
   "source": [
    "P-value слишком низкое. Гипотеза о нормальности в выборке студентов, прошедших подготовительный курс отвергается."
   ]
  },
  {
   "cell_type": "code",
   "execution_count": 298,
   "id": "062abb3b",
   "metadata": {},
   "outputs": [
    {
     "data": {
      "text/html": [
       "<div>\n",
       "<style scoped>\n",
       "    .dataframe tbody tr th:only-of-type {\n",
       "        vertical-align: middle;\n",
       "    }\n",
       "\n",
       "    .dataframe tbody tr th {\n",
       "        vertical-align: top;\n",
       "    }\n",
       "\n",
       "    .dataframe thead th {\n",
       "        text-align: right;\n",
       "    }\n",
       "</style>\n",
       "<table border=\"1\" class=\"dataframe\">\n",
       "  <thead>\n",
       "    <tr style=\"text-align: right;\">\n",
       "      <th></th>\n",
       "      <th>mean</th>\n",
       "      <th>count</th>\n",
       "    </tr>\n",
       "    <tr>\n",
       "      <th>Test preparation course</th>\n",
       "      <th></th>\n",
       "      <th></th>\n",
       "    </tr>\n",
       "  </thead>\n",
       "  <tbody>\n",
       "    <tr>\n",
       "      <th>completed</th>\n",
       "      <td>220.869186</td>\n",
       "      <td>688</td>\n",
       "    </tr>\n",
       "    <tr>\n",
       "      <th>none</th>\n",
       "      <td>200.233232</td>\n",
       "      <td>1312</td>\n",
       "    </tr>\n",
       "  </tbody>\n",
       "</table>\n",
       "</div>"
      ],
      "text/plain": [
       "                               mean  count\n",
       "Test preparation course                   \n",
       "completed                220.869186    688\n",
       "none                     200.233232   1312"
      ]
     },
     "execution_count": 298,
     "metadata": {},
     "output_type": "execute_result"
    }
   ],
   "source": [
    "df_agg2 = df.groupby('Test preparation course')['Total_score'].agg(['mean', 'count'])\n",
    "df_agg2"
   ]
  },
  {
   "cell_type": "code",
   "execution_count": 299,
   "id": "19822d4b",
   "metadata": {},
   "outputs": [],
   "source": [
    "alpha = 0.05\n",
    "n1 = course.size\n",
    "n2 = no_course.size\n",
    "m1 = df_agg2['mean']['completed']\n",
    "m2 = df_agg2['mean']['none']\n",
    "std1 = course.std(ddof=1)/np.sqrt(n1)\n",
    "std2 = no_course.std(ddof=1)/np.sqrt(n2)\n",
    "\n",
    "z_obs = (m1-m2)/(std1+std2)\n",
    "z_cr = stats.norm.ppf(1 - alpha)"
   ]
  },
  {
   "cell_type": "code",
   "execution_count": 300,
   "id": "7889e1ab",
   "metadata": {},
   "outputs": [
    {
     "data": {
      "text/plain": [
       "(7.817671026350846, 1.6448536269514722)"
      ]
     },
     "execution_count": 300,
     "metadata": {},
     "output_type": "execute_result"
    }
   ],
   "source": [
    "z_obs, z_cr"
   ]
  },
  {
   "cell_type": "markdown",
   "id": "d3a5d690",
   "metadata": {},
   "source": [
    "Рассчетная статистика больше, чем критическая точка. Значит нулевая гипотеза отверагется. Принимаем альтернативную гипотезу о том, что студенты прошедшие подготовительный курс в среднем пишут тесты на большее количество баллов, чем студенты не прошедшие подготовительный курс. "
   ]
  },
  {
   "cell_type": "markdown",
   "id": "2a8f6d41",
   "metadata": {},
   "source": [
    "# Гипотеза 5"
   ]
  },
  {
   "cell_type": "markdown",
   "id": "420f138d",
   "metadata": {},
   "source": [
    "### Проверим гипотезу о том, что родители с высшим образованием с большей вероятностью захотят, чтобы их дети прошли подготовительные курсы. "
   ]
  },
  {
   "cell_type": "markdown",
   "id": "36119ef0",
   "metadata": {},
   "source": [
    "H0: Доля родителей с высшим образованием, дети которых прошли подготовительные курсы, равна доле родителей со средним образованием, дети которых прошли подготовительные курсы. \n",
    "\n",
    "H1: Доля родителей с высшим образованием, дети которых прошли подготовительные курсы больше доли родителей со средним образованием, дети которых прошли подготовительные курсы. "
   ]
  },
  {
   "cell_type": "markdown",
   "id": "c3492cbc",
   "metadata": {},
   "source": [
    "Сначала изменим название колонки \"Test preparation course\" на \"Test_preparation_course\", чтобы с ней было удобнее работать. Сделаем значения в этой колонке бинарными. "
   ]
  },
  {
   "cell_type": "code",
   "execution_count": 301,
   "id": "32a5f57f",
   "metadata": {},
   "outputs": [],
   "source": [
    "df.rename(columns={\"Test preparation course\": \"Test_preparation_course\"}, inplace=True)"
   ]
  },
  {
   "cell_type": "code",
   "execution_count": 302,
   "id": "b4ad8174",
   "metadata": {},
   "outputs": [],
   "source": [
    "df['Test_preparation_course'] = df['Test_preparation_course'].apply(lambda x: 1 if x == 'completed' else 0)"
   ]
  },
  {
   "cell_type": "code",
   "execution_count": 303,
   "id": "6fe6232e",
   "metadata": {},
   "outputs": [
    {
     "data": {
      "text/html": [
       "<div>\n",
       "<style scoped>\n",
       "    .dataframe tbody tr th:only-of-type {\n",
       "        vertical-align: middle;\n",
       "    }\n",
       "\n",
       "    .dataframe tbody tr th {\n",
       "        vertical-align: top;\n",
       "    }\n",
       "\n",
       "    .dataframe thead th {\n",
       "        text-align: right;\n",
       "    }\n",
       "</style>\n",
       "<table border=\"1\" class=\"dataframe\">\n",
       "  <thead>\n",
       "    <tr style=\"text-align: right;\">\n",
       "      <th></th>\n",
       "      <th>Gender</th>\n",
       "      <th>Race/ethnicity</th>\n",
       "      <th>Parental level of education</th>\n",
       "      <th>Lunch</th>\n",
       "      <th>Test_preparation_course</th>\n",
       "      <th>Math score</th>\n",
       "      <th>Reading score</th>\n",
       "      <th>Writing score</th>\n",
       "      <th>Total_score</th>\n",
       "    </tr>\n",
       "  </thead>\n",
       "  <tbody>\n",
       "    <tr>\n",
       "      <th>0</th>\n",
       "      <td>female</td>\n",
       "      <td>group D</td>\n",
       "      <td>no_high_ed</td>\n",
       "      <td>standard</td>\n",
       "      <td>1</td>\n",
       "      <td>59</td>\n",
       "      <td>70</td>\n",
       "      <td>78</td>\n",
       "      <td>207</td>\n",
       "    </tr>\n",
       "    <tr>\n",
       "      <th>1</th>\n",
       "      <td>male</td>\n",
       "      <td>group D</td>\n",
       "      <td>high_ed</td>\n",
       "      <td>standard</td>\n",
       "      <td>0</td>\n",
       "      <td>96</td>\n",
       "      <td>93</td>\n",
       "      <td>87</td>\n",
       "      <td>276</td>\n",
       "    </tr>\n",
       "    <tr>\n",
       "      <th>2</th>\n",
       "      <td>female</td>\n",
       "      <td>group D</td>\n",
       "      <td>no_high_ed</td>\n",
       "      <td>free/reduced</td>\n",
       "      <td>0</td>\n",
       "      <td>57</td>\n",
       "      <td>76</td>\n",
       "      <td>77</td>\n",
       "      <td>210</td>\n",
       "    </tr>\n",
       "    <tr>\n",
       "      <th>3</th>\n",
       "      <td>male</td>\n",
       "      <td>group B</td>\n",
       "      <td>no_high_ed</td>\n",
       "      <td>free/reduced</td>\n",
       "      <td>0</td>\n",
       "      <td>70</td>\n",
       "      <td>70</td>\n",
       "      <td>63</td>\n",
       "      <td>203</td>\n",
       "    </tr>\n",
       "    <tr>\n",
       "      <th>4</th>\n",
       "      <td>female</td>\n",
       "      <td>group D</td>\n",
       "      <td>high_ed</td>\n",
       "      <td>standard</td>\n",
       "      <td>0</td>\n",
       "      <td>83</td>\n",
       "      <td>85</td>\n",
       "      <td>86</td>\n",
       "      <td>254</td>\n",
       "    </tr>\n",
       "    <tr>\n",
       "      <th>...</th>\n",
       "      <td>...</td>\n",
       "      <td>...</td>\n",
       "      <td>...</td>\n",
       "      <td>...</td>\n",
       "      <td>...</td>\n",
       "      <td>...</td>\n",
       "      <td>...</td>\n",
       "      <td>...</td>\n",
       "      <td>...</td>\n",
       "    </tr>\n",
       "    <tr>\n",
       "      <th>1995</th>\n",
       "      <td>male</td>\n",
       "      <td>group C</td>\n",
       "      <td>no_high_ed</td>\n",
       "      <td>standard</td>\n",
       "      <td>0</td>\n",
       "      <td>77</td>\n",
       "      <td>77</td>\n",
       "      <td>71</td>\n",
       "      <td>225</td>\n",
       "    </tr>\n",
       "    <tr>\n",
       "      <th>1996</th>\n",
       "      <td>male</td>\n",
       "      <td>group C</td>\n",
       "      <td>no_high_ed</td>\n",
       "      <td>standard</td>\n",
       "      <td>0</td>\n",
       "      <td>80</td>\n",
       "      <td>66</td>\n",
       "      <td>66</td>\n",
       "      <td>212</td>\n",
       "    </tr>\n",
       "    <tr>\n",
       "      <th>1997</th>\n",
       "      <td>female</td>\n",
       "      <td>group A</td>\n",
       "      <td>no_high_ed</td>\n",
       "      <td>standard</td>\n",
       "      <td>1</td>\n",
       "      <td>67</td>\n",
       "      <td>86</td>\n",
       "      <td>86</td>\n",
       "      <td>239</td>\n",
       "    </tr>\n",
       "    <tr>\n",
       "      <th>1998</th>\n",
       "      <td>male</td>\n",
       "      <td>group E</td>\n",
       "      <td>no_high_ed</td>\n",
       "      <td>standard</td>\n",
       "      <td>0</td>\n",
       "      <td>80</td>\n",
       "      <td>72</td>\n",
       "      <td>62</td>\n",
       "      <td>214</td>\n",
       "    </tr>\n",
       "    <tr>\n",
       "      <th>1999</th>\n",
       "      <td>male</td>\n",
       "      <td>group D</td>\n",
       "      <td>no_high_ed</td>\n",
       "      <td>standard</td>\n",
       "      <td>0</td>\n",
       "      <td>58</td>\n",
       "      <td>47</td>\n",
       "      <td>45</td>\n",
       "      <td>150</td>\n",
       "    </tr>\n",
       "  </tbody>\n",
       "</table>\n",
       "<p>2000 rows × 9 columns</p>\n",
       "</div>"
      ],
      "text/plain": [
       "      Gender Race/ethnicity Parental level of education         Lunch  \\\n",
       "0     female        group D                  no_high_ed      standard   \n",
       "1       male        group D                     high_ed      standard   \n",
       "2     female        group D                  no_high_ed  free/reduced   \n",
       "3       male        group B                  no_high_ed  free/reduced   \n",
       "4     female        group D                     high_ed      standard   \n",
       "...      ...            ...                         ...           ...   \n",
       "1995    male        group C                  no_high_ed      standard   \n",
       "1996    male        group C                  no_high_ed      standard   \n",
       "1997  female        group A                  no_high_ed      standard   \n",
       "1998    male        group E                  no_high_ed      standard   \n",
       "1999    male        group D                  no_high_ed      standard   \n",
       "\n",
       "      Test_preparation_course  Math score  Reading score  Writing score  \\\n",
       "0                           1          59             70             78   \n",
       "1                           0          96             93             87   \n",
       "2                           0          57             76             77   \n",
       "3                           0          70             70             63   \n",
       "4                           0          83             85             86   \n",
       "...                       ...         ...            ...            ...   \n",
       "1995                        0          77             77             71   \n",
       "1996                        0          80             66             66   \n",
       "1997                        1          67             86             86   \n",
       "1998                        0          80             72             62   \n",
       "1999                        0          58             47             45   \n",
       "\n",
       "      Total_score  \n",
       "0             207  \n",
       "1             276  \n",
       "2             210  \n",
       "3             203  \n",
       "4             254  \n",
       "...           ...  \n",
       "1995          225  \n",
       "1996          212  \n",
       "1997          239  \n",
       "1998          214  \n",
       "1999          150  \n",
       "\n",
       "[2000 rows x 9 columns]"
      ]
     },
     "execution_count": 303,
     "metadata": {},
     "output_type": "execute_result"
    }
   ],
   "source": [
    "df"
   ]
  },
  {
   "cell_type": "code",
   "execution_count": 304,
   "id": "365323fe",
   "metadata": {},
   "outputs": [],
   "source": [
    "course_comp = df[df['Parental level of education'] == 'high_ed'].Test_preparation_course.values\n",
    "course_no_comp = df[df['Parental level of education'] == 'no_high_ed'].Test_preparation_course.values"
   ]
  },
  {
   "cell_type": "code",
   "execution_count": 305,
   "id": "bfbda3ce",
   "metadata": {},
   "outputs": [],
   "source": [
    "alpha = 0.05                                       # уровень значимости = 5%       https://github.com/FUlyankin/matstat-AB/blob/main/week09_hypo/10_13_python_mouse_and_man.ipynb\n",
    "n1,n2 = course_comp.size, course_no_comp.size      # размеры выборок\n",
    "m1,m2 = course_comp.sum(), course_no_comp.sum()    # число успехов\n",
    "\n",
    "p1, p2 = course_comp.mean(), course_no_comp.mean() # точеные оценки долей \n",
    "diff = p1 - p2                                     # разность долей\n",
    "\n",
    "P = (m1 + m2)/(n1 + n2)          \n",
    "diff_std = np.sqrt(P*(1 - P)*(1/n1 + 1/n2))        # стандартное отклонение разности\n",
    "                                    \n",
    "z_obs = diff/diff_std                              # наблюдаемое значение статистики \n",
    "z_crit = stats.norm.ppf(1 - alpha)    "
   ]
  },
  {
   "cell_type": "code",
   "execution_count": 306,
   "id": "9253c8c7",
   "metadata": {},
   "outputs": [
    {
     "data": {
      "text/plain": [
       "(0.17498318575825375, 1.6448536269514722)"
      ]
     },
     "execution_count": 306,
     "metadata": {},
     "output_type": "execute_result"
    }
   ],
   "source": [
    "z_obs, z_crit"
   ]
  },
  {
   "cell_type": "markdown",
   "id": "f41bb735",
   "metadata": {},
   "source": [
    "Рассчетная статистика меньше критической точки. Нулевая гипотеза не отвергается. Доля родителей с высшим образованием, дети которых прошли подготовительные курсы равна доле родителей со средним образованием, дети которых прошли подготовительные курсы."
   ]
  },
  {
   "cell_type": "markdown",
   "id": "9f306713",
   "metadata": {},
   "source": [
    "Проверим есть ли зависимость между образованием родителей и прохождением курсов через Хи квадрат. "
   ]
  },
  {
   "cell_type": "code",
   "execution_count": 307,
   "id": "0d904798",
   "metadata": {},
   "outputs": [
    {
     "data": {
      "text/plain": [
       "Parental level of education  Test_preparation_course\n",
       "high_ed                      0                          502\n",
       "                             1                          266\n",
       "no_high_ed                   0                          810\n",
       "                             1                          422\n",
       "Name: Test_preparation_course, dtype: int64"
      ]
     },
     "execution_count": 307,
     "metadata": {},
     "output_type": "execute_result"
    }
   ],
   "source": [
    "df.groupby('Parental level of education')['Test_preparation_course'].value_counts()"
   ]
  },
  {
   "cell_type": "markdown",
   "id": "69094163",
   "metadata": {},
   "source": [
    "Сделаем отдельную таблицу с частотами. "
   ]
  },
  {
   "cell_type": "code",
   "execution_count": 308,
   "id": "057f17f3",
   "metadata": {},
   "outputs": [
    {
     "data": {
      "text/html": [
       "<div>\n",
       "<style scoped>\n",
       "    .dataframe tbody tr th:only-of-type {\n",
       "        vertical-align: middle;\n",
       "    }\n",
       "\n",
       "    .dataframe tbody tr th {\n",
       "        vertical-align: top;\n",
       "    }\n",
       "\n",
       "    .dataframe thead th {\n",
       "        text-align: right;\n",
       "    }\n",
       "</style>\n",
       "<table border=\"1\" class=\"dataframe\">\n",
       "  <thead>\n",
       "    <tr style=\"text-align: right;\">\n",
       "      <th></th>\n",
       "      <th>high_ed</th>\n",
       "      <th>no_high_ed</th>\n",
       "    </tr>\n",
       "  </thead>\n",
       "  <tbody>\n",
       "    <tr>\n",
       "      <th>course</th>\n",
       "      <td>266</td>\n",
       "      <td>422</td>\n",
       "    </tr>\n",
       "    <tr>\n",
       "      <th>no_course</th>\n",
       "      <td>502</td>\n",
       "      <td>810</td>\n",
       "    </tr>\n",
       "  </tbody>\n",
       "</table>\n",
       "</div>"
      ],
      "text/plain": [
       "           high_ed  no_high_ed\n",
       "course         266         422\n",
       "no_course      502         810"
      ]
     },
     "execution_count": 308,
     "metadata": {},
     "output_type": "execute_result"
    }
   ],
   "source": [
    "freq = pd.DataFrame([[266,422],[502, 810]])\n",
    "freq.columns = [\"high_ed\",\"no_high_ed\"]\n",
    "freq.index = [\"course\", \"no_course\"]\n",
    "freq"
   ]
  },
  {
   "cell_type": "markdown",
   "id": "281c82cd",
   "metadata": {},
   "source": [
    "Сначала посчитаем долю родителей с высшим образованием, которые купили курс и долю родителей со средним образованием, которые купили курс. "
   ]
  },
  {
   "cell_type": "code",
   "execution_count": 309,
   "id": "64ac7f31",
   "metadata": {},
   "outputs": [],
   "source": [
    "sum_all = freq.values.sum() #Сумма всех родителей\n",
    "dol1 = freq['high_ed']['course']/sum_all # доля родителей с высшим образованием, которые купили курс\n",
    "dol2 = freq['no_high_ed']['course']/sum_all # доля родителей со средним образованием, которые купили курс"
   ]
  },
  {
   "cell_type": "code",
   "execution_count": 310,
   "id": "60ca42fc",
   "metadata": {},
   "outputs": [
    {
     "data": {
      "text/plain": [
       "(0.133, 0.211)"
      ]
     },
     "execution_count": 310,
     "metadata": {},
     "output_type": "execute_result"
    }
   ],
   "source": [
    "dol1, dol2 # Доля родителей с высшим образованием, которые купили курс меньше доли родителей со средним образованием"
   ]
  },
  {
   "cell_type": "code",
   "execution_count": 311,
   "id": "a3ccb91e",
   "metadata": {},
   "outputs": [],
   "source": [
    "\n",
    "chi, pvalue, k, _ = chi2_contingency(freq.values, correction=False)"
   ]
  },
  {
   "cell_type": "code",
   "execution_count": 312,
   "id": "68fd04ca",
   "metadata": {},
   "outputs": [
    {
     "data": {
      "text/plain": [
       "0.8610928455630039"
      ]
     },
     "execution_count": 312,
     "metadata": {},
     "output_type": "execute_result"
    }
   ],
   "source": [
    "pvalue"
   ]
  },
  {
   "cell_type": "markdown",
   "id": "413f2c32",
   "metadata": {},
   "source": [
    "P-value больше, чем 0.05. Нулевая гипотеза не отвергается. Выборки независимы. Уровень образования родителей не влияет на прохождение подготовительного курса студентами. "
   ]
  },
  {
   "cell_type": "markdown",
   "id": "8184f36e",
   "metadata": {},
   "source": [
    "# Гипотеза 6"
   ]
  },
  {
   "cell_type": "markdown",
   "id": "dbdbfb94",
   "metadata": {},
   "source": [
    "### Проверим гипотезу о том, что больше студентов женского пола прошли подготовительный курс, чем студентов мужского пола. "
   ]
  },
  {
   "cell_type": "markdown",
   "id": "b6ba30ba",
   "metadata": {},
   "source": [
    "H0: Пол студента не влияет на то, пройдет ли студент подготовительный курс\n",
    "\n",
    "\n",
    "\n",
    "H1: Пол студента влияет на то, пройдет ли студент подготовительный курс"
   ]
  },
  {
   "cell_type": "code",
   "execution_count": 313,
   "id": "91b093a6",
   "metadata": {},
   "outputs": [
    {
     "data": {
      "text/html": [
       "<div>\n",
       "<style scoped>\n",
       "    .dataframe tbody tr th:only-of-type {\n",
       "        vertical-align: middle;\n",
       "    }\n",
       "\n",
       "    .dataframe tbody tr th {\n",
       "        vertical-align: top;\n",
       "    }\n",
       "\n",
       "    .dataframe thead th {\n",
       "        text-align: right;\n",
       "    }\n",
       "</style>\n",
       "<table border=\"1\" class=\"dataframe\">\n",
       "  <thead>\n",
       "    <tr style=\"text-align: right;\">\n",
       "      <th></th>\n",
       "      <th>Gender</th>\n",
       "      <th>Race/ethnicity</th>\n",
       "      <th>Parental level of education</th>\n",
       "      <th>Lunch</th>\n",
       "      <th>Test_preparation_course</th>\n",
       "      <th>Math score</th>\n",
       "      <th>Reading score</th>\n",
       "      <th>Writing score</th>\n",
       "      <th>Total_score</th>\n",
       "    </tr>\n",
       "  </thead>\n",
       "  <tbody>\n",
       "    <tr>\n",
       "      <th>0</th>\n",
       "      <td>female</td>\n",
       "      <td>group D</td>\n",
       "      <td>no_high_ed</td>\n",
       "      <td>standard</td>\n",
       "      <td>1</td>\n",
       "      <td>59</td>\n",
       "      <td>70</td>\n",
       "      <td>78</td>\n",
       "      <td>207</td>\n",
       "    </tr>\n",
       "    <tr>\n",
       "      <th>1</th>\n",
       "      <td>male</td>\n",
       "      <td>group D</td>\n",
       "      <td>high_ed</td>\n",
       "      <td>standard</td>\n",
       "      <td>0</td>\n",
       "      <td>96</td>\n",
       "      <td>93</td>\n",
       "      <td>87</td>\n",
       "      <td>276</td>\n",
       "    </tr>\n",
       "    <tr>\n",
       "      <th>2</th>\n",
       "      <td>female</td>\n",
       "      <td>group D</td>\n",
       "      <td>no_high_ed</td>\n",
       "      <td>free/reduced</td>\n",
       "      <td>0</td>\n",
       "      <td>57</td>\n",
       "      <td>76</td>\n",
       "      <td>77</td>\n",
       "      <td>210</td>\n",
       "    </tr>\n",
       "    <tr>\n",
       "      <th>3</th>\n",
       "      <td>male</td>\n",
       "      <td>group B</td>\n",
       "      <td>no_high_ed</td>\n",
       "      <td>free/reduced</td>\n",
       "      <td>0</td>\n",
       "      <td>70</td>\n",
       "      <td>70</td>\n",
       "      <td>63</td>\n",
       "      <td>203</td>\n",
       "    </tr>\n",
       "    <tr>\n",
       "      <th>4</th>\n",
       "      <td>female</td>\n",
       "      <td>group D</td>\n",
       "      <td>high_ed</td>\n",
       "      <td>standard</td>\n",
       "      <td>0</td>\n",
       "      <td>83</td>\n",
       "      <td>85</td>\n",
       "      <td>86</td>\n",
       "      <td>254</td>\n",
       "    </tr>\n",
       "    <tr>\n",
       "      <th>...</th>\n",
       "      <td>...</td>\n",
       "      <td>...</td>\n",
       "      <td>...</td>\n",
       "      <td>...</td>\n",
       "      <td>...</td>\n",
       "      <td>...</td>\n",
       "      <td>...</td>\n",
       "      <td>...</td>\n",
       "      <td>...</td>\n",
       "    </tr>\n",
       "    <tr>\n",
       "      <th>1995</th>\n",
       "      <td>male</td>\n",
       "      <td>group C</td>\n",
       "      <td>no_high_ed</td>\n",
       "      <td>standard</td>\n",
       "      <td>0</td>\n",
       "      <td>77</td>\n",
       "      <td>77</td>\n",
       "      <td>71</td>\n",
       "      <td>225</td>\n",
       "    </tr>\n",
       "    <tr>\n",
       "      <th>1996</th>\n",
       "      <td>male</td>\n",
       "      <td>group C</td>\n",
       "      <td>no_high_ed</td>\n",
       "      <td>standard</td>\n",
       "      <td>0</td>\n",
       "      <td>80</td>\n",
       "      <td>66</td>\n",
       "      <td>66</td>\n",
       "      <td>212</td>\n",
       "    </tr>\n",
       "    <tr>\n",
       "      <th>1997</th>\n",
       "      <td>female</td>\n",
       "      <td>group A</td>\n",
       "      <td>no_high_ed</td>\n",
       "      <td>standard</td>\n",
       "      <td>1</td>\n",
       "      <td>67</td>\n",
       "      <td>86</td>\n",
       "      <td>86</td>\n",
       "      <td>239</td>\n",
       "    </tr>\n",
       "    <tr>\n",
       "      <th>1998</th>\n",
       "      <td>male</td>\n",
       "      <td>group E</td>\n",
       "      <td>no_high_ed</td>\n",
       "      <td>standard</td>\n",
       "      <td>0</td>\n",
       "      <td>80</td>\n",
       "      <td>72</td>\n",
       "      <td>62</td>\n",
       "      <td>214</td>\n",
       "    </tr>\n",
       "    <tr>\n",
       "      <th>1999</th>\n",
       "      <td>male</td>\n",
       "      <td>group D</td>\n",
       "      <td>no_high_ed</td>\n",
       "      <td>standard</td>\n",
       "      <td>0</td>\n",
       "      <td>58</td>\n",
       "      <td>47</td>\n",
       "      <td>45</td>\n",
       "      <td>150</td>\n",
       "    </tr>\n",
       "  </tbody>\n",
       "</table>\n",
       "<p>2000 rows × 9 columns</p>\n",
       "</div>"
      ],
      "text/plain": [
       "      Gender Race/ethnicity Parental level of education         Lunch  \\\n",
       "0     female        group D                  no_high_ed      standard   \n",
       "1       male        group D                     high_ed      standard   \n",
       "2     female        group D                  no_high_ed  free/reduced   \n",
       "3       male        group B                  no_high_ed  free/reduced   \n",
       "4     female        group D                     high_ed      standard   \n",
       "...      ...            ...                         ...           ...   \n",
       "1995    male        group C                  no_high_ed      standard   \n",
       "1996    male        group C                  no_high_ed      standard   \n",
       "1997  female        group A                  no_high_ed      standard   \n",
       "1998    male        group E                  no_high_ed      standard   \n",
       "1999    male        group D                  no_high_ed      standard   \n",
       "\n",
       "      Test_preparation_course  Math score  Reading score  Writing score  \\\n",
       "0                           1          59             70             78   \n",
       "1                           0          96             93             87   \n",
       "2                           0          57             76             77   \n",
       "3                           0          70             70             63   \n",
       "4                           0          83             85             86   \n",
       "...                       ...         ...            ...            ...   \n",
       "1995                        0          77             77             71   \n",
       "1996                        0          80             66             66   \n",
       "1997                        1          67             86             86   \n",
       "1998                        0          80             72             62   \n",
       "1999                        0          58             47             45   \n",
       "\n",
       "      Total_score  \n",
       "0             207  \n",
       "1             276  \n",
       "2             210  \n",
       "3             203  \n",
       "4             254  \n",
       "...           ...  \n",
       "1995          225  \n",
       "1996          212  \n",
       "1997          239  \n",
       "1998          214  \n",
       "1999          150  \n",
       "\n",
       "[2000 rows x 9 columns]"
      ]
     },
     "execution_count": 313,
     "metadata": {},
     "output_type": "execute_result"
    }
   ],
   "source": [
    "df"
   ]
  },
  {
   "cell_type": "markdown",
   "id": "a5afcd6c",
   "metadata": {},
   "source": [
    "Сделаем таблицу частот"
   ]
  },
  {
   "cell_type": "code",
   "execution_count": 314,
   "id": "ada97b32",
   "metadata": {},
   "outputs": [
    {
     "data": {
      "text/plain": [
       "Gender  Test_preparation_course\n",
       "female  0                          630\n",
       "        1                          354\n",
       "male    0                          682\n",
       "        1                          334\n",
       "Name: Test_preparation_course, dtype: int64"
      ]
     },
     "execution_count": 314,
     "metadata": {},
     "output_type": "execute_result"
    }
   ],
   "source": [
    "df.groupby('Gender')['Test_preparation_course'].value_counts()"
   ]
  },
  {
   "cell_type": "code",
   "execution_count": 315,
   "id": "c0adfb31",
   "metadata": {},
   "outputs": [
    {
     "data": {
      "text/html": [
       "<div>\n",
       "<style scoped>\n",
       "    .dataframe tbody tr th:only-of-type {\n",
       "        vertical-align: middle;\n",
       "    }\n",
       "\n",
       "    .dataframe tbody tr th {\n",
       "        vertical-align: top;\n",
       "    }\n",
       "\n",
       "    .dataframe thead th {\n",
       "        text-align: right;\n",
       "    }\n",
       "</style>\n",
       "<table border=\"1\" class=\"dataframe\">\n",
       "  <thead>\n",
       "    <tr style=\"text-align: right;\">\n",
       "      <th></th>\n",
       "      <th>female</th>\n",
       "      <th>male</th>\n",
       "    </tr>\n",
       "  </thead>\n",
       "  <tbody>\n",
       "    <tr>\n",
       "      <th>course</th>\n",
       "      <td>354</td>\n",
       "      <td>334</td>\n",
       "    </tr>\n",
       "    <tr>\n",
       "      <th>no_course</th>\n",
       "      <td>630</td>\n",
       "      <td>682</td>\n",
       "    </tr>\n",
       "  </tbody>\n",
       "</table>\n",
       "</div>"
      ],
      "text/plain": [
       "           female  male\n",
       "course        354   334\n",
       "no_course     630   682"
      ]
     },
     "execution_count": 315,
     "metadata": {},
     "output_type": "execute_result"
    }
   ],
   "source": [
    "freq2 = pd.DataFrame([[354,334],[630, 682]])\n",
    "freq2.columns = [\"female\",\"male\"]\n",
    "freq2.index = [\"course\", \"no_course\"]\n",
    "freq2"
   ]
  },
  {
   "cell_type": "markdown",
   "id": "32029505",
   "metadata": {},
   "source": [
    "Посчитаем долю студентов женского пола, которые купили курс и долю студентов мужского пола, которые купили курс. "
   ]
  },
  {
   "cell_type": "code",
   "execution_count": 316,
   "id": "207d86c6",
   "metadata": {},
   "outputs": [],
   "source": [
    "sum_all2 = freq2.values.sum() #Сумма всех студентов\n",
    "dol3 = freq2['female']['course']/sum_all # доля студентов женского пола, которые купили курс\n",
    "dol4 = freq2['male']['course']/sum_all # доля студентов мужского пола, которые купили курс"
   ]
  },
  {
   "cell_type": "code",
   "execution_count": 317,
   "id": "ab16e153",
   "metadata": {},
   "outputs": [
    {
     "data": {
      "text/plain": [
       "(0.177, 0.167)"
      ]
     },
     "execution_count": 317,
     "metadata": {},
     "output_type": "execute_result"
    }
   ],
   "source": [
    "dol3, dol4  # доля студентов женского пола, которые купили курс больше, чем доля студентов мужского пола, которые купили курс"
   ]
  },
  {
   "cell_type": "code",
   "execution_count": 318,
   "id": "f7fe7f83",
   "metadata": {},
   "outputs": [],
   "source": [
    "chi, pvalue, k, _ = chi2_contingency(freq2.values, correction=False)"
   ]
  },
  {
   "cell_type": "code",
   "execution_count": 319,
   "id": "f4bf4828",
   "metadata": {},
   "outputs": [
    {
     "data": {
      "text/plain": [
       "0.14435442425442135"
      ]
     },
     "execution_count": 319,
     "metadata": {},
     "output_type": "execute_result"
    }
   ],
   "source": [
    "pvalue"
   ]
  },
  {
   "cell_type": "markdown",
   "id": "6a5913db",
   "metadata": {},
   "source": [
    "Pvalue больше 0.05. Нулевая гипотеза не отвергается. Выборки независимы. Пол студента не влияет на прохождение подготовительного курса."
   ]
  }
 ],
 "metadata": {
  "kernelspec": {
   "display_name": "Python 3 (ipykernel)",
   "language": "python",
   "name": "python3"
  },
  "language_info": {
   "codemirror_mode": {
    "name": "ipython",
    "version": 3
   },
   "file_extension": ".py",
   "mimetype": "text/x-python",
   "name": "python",
   "nbconvert_exporter": "python",
   "pygments_lexer": "ipython3",
   "version": "3.9.7"
  }
 },
 "nbformat": 4,
 "nbformat_minor": 5
}
