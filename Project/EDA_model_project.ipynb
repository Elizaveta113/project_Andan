{
 "cells": [
  {
   "cell_type": "markdown",
   "id": "f2e4c231",
   "metadata": {},
   "source": [
    "# Проект"
   ]
  },
  {
   "cell_type": "markdown",
   "id": "5fe55743",
   "metadata": {},
   "source": [
    "Импортируем необходимые библиотеки"
   ]
  },
  {
   "cell_type": "code",
   "execution_count": 126,
   "id": "343ea320",
   "metadata": {},
   "outputs": [],
   "source": [
    "import pandas as pd\n",
    "import matplotlib as plt\n",
    "import matplotlib.pyplot as plt\n",
    "import seaborn as sns\n",
    "from sklearn.model_selection import train_test_split\n",
    "from sklearn.metrics import mean_squared_error as mse\n",
    "from sklearn.metrics import mean_absolute_error as mae\n",
    "from sklearn.metrics import mean_absolute_percentage_error as mape\n",
    "from sklearn.metrics import r2_score\n",
    "from sklearn.preprocessing import scale\n",
    "from sklearn.linear_model import Ridge\n",
    "from sklearn.linear_model import Lasso\n",
    "from sklearn.linear_model import LinearRegression"
   ]
  },
  {
   "cell_type": "markdown",
   "id": "519f5d37",
   "metadata": {},
   "source": [
    "Часть с парсингом закончена. Теперь работаем с данными"
   ]
  },
  {
   "cell_type": "markdown",
   "id": "aa2d5535",
   "metadata": {},
   "source": [
    "## Часть 2. Визуализация и EDA"
   ]
  },
  {
   "cell_type": "markdown",
   "id": "e3144b70",
   "metadata": {},
   "source": [
    "Уже из нового файла благодаря парсингу откроем таблицу"
   ]
  },
  {
   "cell_type": "code",
   "execution_count": 33,
   "id": "d8835a72",
   "metadata": {},
   "outputs": [
    {
     "data": {
      "text/html": [
       "<div>\n",
       "<style scoped>\n",
       "    .dataframe tbody tr th:only-of-type {\n",
       "        vertical-align: middle;\n",
       "    }\n",
       "\n",
       "    .dataframe tbody tr th {\n",
       "        vertical-align: top;\n",
       "    }\n",
       "\n",
       "    .dataframe thead th {\n",
       "        text-align: right;\n",
       "    }\n",
       "</style>\n",
       "<table border=\"1\" class=\"dataframe\">\n",
       "  <thead>\n",
       "    <tr style=\"text-align: right;\">\n",
       "      <th></th>\n",
       "      <th>Gender</th>\n",
       "      <th>Race/ethnicity</th>\n",
       "      <th>Parental level of education</th>\n",
       "      <th>Lunch</th>\n",
       "      <th>Test preparation course</th>\n",
       "      <th>Math score</th>\n",
       "      <th>Reading score</th>\n",
       "      <th>Writing score</th>\n",
       "    </tr>\n",
       "  </thead>\n",
       "  <tbody>\n",
       "    <tr>\n",
       "      <th>0</th>\n",
       "      <td>female</td>\n",
       "      <td>group D</td>\n",
       "      <td>some college</td>\n",
       "      <td>standard</td>\n",
       "      <td>completed</td>\n",
       "      <td>59</td>\n",
       "      <td>70</td>\n",
       "      <td>78</td>\n",
       "    </tr>\n",
       "    <tr>\n",
       "      <th>1</th>\n",
       "      <td>male</td>\n",
       "      <td>group D</td>\n",
       "      <td>associate's degree</td>\n",
       "      <td>standard</td>\n",
       "      <td>none</td>\n",
       "      <td>96</td>\n",
       "      <td>93</td>\n",
       "      <td>87</td>\n",
       "    </tr>\n",
       "    <tr>\n",
       "      <th>2</th>\n",
       "      <td>female</td>\n",
       "      <td>group D</td>\n",
       "      <td>some college</td>\n",
       "      <td>free/reduced</td>\n",
       "      <td>none</td>\n",
       "      <td>57</td>\n",
       "      <td>76</td>\n",
       "      <td>77</td>\n",
       "    </tr>\n",
       "    <tr>\n",
       "      <th>3</th>\n",
       "      <td>male</td>\n",
       "      <td>group B</td>\n",
       "      <td>some college</td>\n",
       "      <td>free/reduced</td>\n",
       "      <td>none</td>\n",
       "      <td>70</td>\n",
       "      <td>70</td>\n",
       "      <td>63</td>\n",
       "    </tr>\n",
       "    <tr>\n",
       "      <th>4</th>\n",
       "      <td>female</td>\n",
       "      <td>group D</td>\n",
       "      <td>associate's degree</td>\n",
       "      <td>standard</td>\n",
       "      <td>none</td>\n",
       "      <td>83</td>\n",
       "      <td>85</td>\n",
       "      <td>86</td>\n",
       "    </tr>\n",
       "    <tr>\n",
       "      <th>...</th>\n",
       "      <td>...</td>\n",
       "      <td>...</td>\n",
       "      <td>...</td>\n",
       "      <td>...</td>\n",
       "      <td>...</td>\n",
       "      <td>...</td>\n",
       "      <td>...</td>\n",
       "      <td>...</td>\n",
       "    </tr>\n",
       "    <tr>\n",
       "      <th>1995</th>\n",
       "      <td>male</td>\n",
       "      <td>group C</td>\n",
       "      <td>some college</td>\n",
       "      <td>standard</td>\n",
       "      <td>none</td>\n",
       "      <td>77</td>\n",
       "      <td>77</td>\n",
       "      <td>71</td>\n",
       "    </tr>\n",
       "    <tr>\n",
       "      <th>1996</th>\n",
       "      <td>male</td>\n",
       "      <td>group C</td>\n",
       "      <td>some college</td>\n",
       "      <td>standard</td>\n",
       "      <td>none</td>\n",
       "      <td>80</td>\n",
       "      <td>66</td>\n",
       "      <td>66</td>\n",
       "    </tr>\n",
       "    <tr>\n",
       "      <th>1997</th>\n",
       "      <td>female</td>\n",
       "      <td>group A</td>\n",
       "      <td>high school</td>\n",
       "      <td>standard</td>\n",
       "      <td>completed</td>\n",
       "      <td>67</td>\n",
       "      <td>86</td>\n",
       "      <td>86</td>\n",
       "    </tr>\n",
       "    <tr>\n",
       "      <th>1998</th>\n",
       "      <td>male</td>\n",
       "      <td>group E</td>\n",
       "      <td>high school</td>\n",
       "      <td>standard</td>\n",
       "      <td>none</td>\n",
       "      <td>80</td>\n",
       "      <td>72</td>\n",
       "      <td>62</td>\n",
       "    </tr>\n",
       "    <tr>\n",
       "      <th>1999</th>\n",
       "      <td>male</td>\n",
       "      <td>group D</td>\n",
       "      <td>high school</td>\n",
       "      <td>standard</td>\n",
       "      <td>none</td>\n",
       "      <td>58</td>\n",
       "      <td>47</td>\n",
       "      <td>45</td>\n",
       "    </tr>\n",
       "  </tbody>\n",
       "</table>\n",
       "<p>2000 rows × 8 columns</p>\n",
       "</div>"
      ],
      "text/plain": [
       "      Gender Race/ethnicity Parental level of education         Lunch  \\\n",
       "0     female        group D                some college      standard   \n",
       "1       male        group D          associate's degree      standard   \n",
       "2     female        group D                some college  free/reduced   \n",
       "3       male        group B                some college  free/reduced   \n",
       "4     female        group D          associate's degree      standard   \n",
       "...      ...            ...                         ...           ...   \n",
       "1995    male        group C                some college      standard   \n",
       "1996    male        group C                some college      standard   \n",
       "1997  female        group A                 high school      standard   \n",
       "1998    male        group E                 high school      standard   \n",
       "1999    male        group D                 high school      standard   \n",
       "\n",
       "     Test preparation course  Math score  Reading score  Writing score  \n",
       "0                  completed          59             70             78  \n",
       "1                       none          96             93             87  \n",
       "2                       none          57             76             77  \n",
       "3                       none          70             70             63  \n",
       "4                       none          83             85             86  \n",
       "...                      ...         ...            ...            ...  \n",
       "1995                    none          77             77             71  \n",
       "1996                    none          80             66             66  \n",
       "1997               completed          67             86             86  \n",
       "1998                    none          80             72             62  \n",
       "1999                    none          58             47             45  \n",
       "\n",
       "[2000 rows x 8 columns]"
      ]
     },
     "execution_count": 33,
     "metadata": {},
     "output_type": "execute_result"
    }
   ],
   "source": [
    "df = pd.read_csv('AnDan_project.csv', sep=',')\n",
    "df"
   ]
  },
  {
   "cell_type": "markdown",
   "id": "32597b54",
   "metadata": {},
   "source": [
    "Определим к какому виду переменных относятся переменные в нашей таблице. "
   ]
  },
  {
   "cell_type": "code",
   "execution_count": 3,
   "id": "c871b8d0",
   "metadata": {},
   "outputs": [
    {
     "data": {
      "text/plain": [
       "Gender                         object\n",
       "Race/ethnicity                 object\n",
       "Parental level of education    object\n",
       "Lunch                          object\n",
       "Test preparation course        object\n",
       "Math score                      int64\n",
       "Reading score                   int64\n",
       "Writing score                   int64\n",
       "dtype: object"
      ]
     },
     "execution_count": 3,
     "metadata": {},
     "output_type": "execute_result"
    }
   ],
   "source": [
    "df.dtypes"
   ]
  },
  {
   "cell_type": "markdown",
   "id": "bcc28724",
   "metadata": {},
   "source": [
    "В получившейся таблице первые 5 колонок содержат категориальные переменные и следующие 3 колонки содержащат количественные переменные. \n",
    "Опишем все колонки по порядку. \n",
    "\n",
    "• \"Gender\" (Пол): пол учащегося (male - мужской/ female - женский)\n",
    "\n",
    "• \"Race / ethnicity\" (Раса/этническая принадлежность): расовая или этническая принадлежность учащегося (group A, B, C, D, E). Чтобы избежать оценочных суждений по расовому признаку эти переменные не имеют определенного реального выражения и выделены в группы\n",
    "\n",
    "• \"Parental level of education\" (Уровень образования родителей): самый высокий уровень образования, полученный родителем (родителями) или опекуном (опекунами) учащегося.\n",
    "\n",
    "• \"Lunch\" (Обед): получает ли учащийся стандартный обед или обед по сниженной цене (standart - стандартный, free/reduced - бесплатный или по сниженной цене)\n",
    "\n",
    "• \"Test preparation course\" (Курс подготовки к экзаменам): прошел ли учащийся курс подготовки к экзаменам (completed - да/ none - нет)\n",
    "\n",
    "• \"Math score\" (Оценка по математике): балл учащегося по стандартному тесту по математике.\n",
    "\n",
    "• \"Reading score\" (Оценка по чтению): балл учащегося по стандартному тесту по чтению.\n",
    "\n",
    "• \"Writing score\" (Оценка по письму): балл учащегося по стандартному  тесту по письму.\n"
   ]
  },
  {
   "cell_type": "markdown",
   "id": "71f9ce42",
   "metadata": {},
   "source": [
    "Проверим есть ли в данных пропуски. "
   ]
  },
  {
   "cell_type": "code",
   "execution_count": 4,
   "id": "b32f3109",
   "metadata": {},
   "outputs": [
    {
     "data": {
      "text/plain": [
       "Gender                         0\n",
       "Race/ethnicity                 0\n",
       "Parental level of education    0\n",
       "Lunch                          0\n",
       "Test preparation course        0\n",
       "Math score                     0\n",
       "Reading score                  0\n",
       "Writing score                  0\n",
       "dtype: int64"
      ]
     },
     "execution_count": 4,
     "metadata": {},
     "output_type": "execute_result"
    }
   ],
   "source": [
    "df.isna().sum()"
   ]
  },
  {
   "cell_type": "markdown",
   "id": "7123501e",
   "metadata": {},
   "source": [
    "Судя по полученной информации, ни в одной колонке пропусков нет. С данными можно продолжать работать. "
   ]
  },
  {
   "cell_type": "markdown",
   "id": "015dc920",
   "metadata": {},
   "source": [
    "Рассмотрим колонку с информацией об образовании родителей (опекунов). "
   ]
  },
  {
   "cell_type": "code",
   "execution_count": 5,
   "id": "b07a7699",
   "metadata": {},
   "outputs": [
    {
     "data": {
      "text/plain": [
       "some college          448\n",
       "high school           430\n",
       "associate's degree    408\n",
       "some high school      354\n",
       "bachelor's degree     210\n",
       "master's degree       150\n",
       "Name: Parental level of education, dtype: int64"
      ]
     },
     "execution_count": 5,
     "metadata": {},
     "output_type": "execute_result"
    }
   ],
   "source": [
    "df['Parental level of education'].value_counts()"
   ]
  },
  {
   "cell_type": "markdown",
   "id": "62be4e52",
   "metadata": {},
   "source": [
    "В этой колонке существуют такие переменные, как \"high school\" и \"some high school\". Не совсем понятна разница между ними, \n",
    "поэтому соединим их. Также уберем слово \"some\" из \"some college\". "
   ]
  },
  {
   "cell_type": "code",
   "execution_count": 6,
   "id": "1664fd5d",
   "metadata": {},
   "outputs": [],
   "source": [
    "df = df.replace('some high school', 'high school')\n",
    "df = df.replace('some college', 'college')"
   ]
  },
  {
   "cell_type": "code",
   "execution_count": 7,
   "id": "4d9a14d4",
   "metadata": {},
   "outputs": [
    {
     "data": {
      "text/plain": [
       "high school           784\n",
       "college               448\n",
       "associate's degree    408\n",
       "bachelor's degree     210\n",
       "master's degree       150\n",
       "Name: Parental level of education, dtype: int64"
      ]
     },
     "execution_count": 7,
     "metadata": {},
     "output_type": "execute_result"
    }
   ],
   "source": [
    "df['Parental level of education'].value_counts()"
   ]
  },
  {
   "cell_type": "markdown",
   "id": "a1f2deee",
   "metadata": {},
   "source": [
    "Нам удалось изменить переменные в колонке. Продолжим с ней работать."
   ]
  },
  {
   "cell_type": "code",
   "execution_count": 8,
   "id": "136babab",
   "metadata": {},
   "outputs": [
    {
     "data": {
      "text/plain": [
       "Text(0, 0.5, 'Count')"
      ]
     },
     "execution_count": 8,
     "metadata": {},
     "output_type": "execute_result"
    },
    {
     "data": {
      "image/png": "[encoded data removed]",
      "text/plain": [
       "<Figure size 720x360 with 1 Axes>"
      ]
     },
     "metadata": {
      "needs_background": "light"
     },
     "output_type": "display_data"
    }
   ],
   "source": [
    "ed = df['Parental level of education'].value_counts().plot(kind = 'bar', title = 'Parental level of education', color = 'plum', figsize=(10, 5))\n",
    "ed.set_ylabel('Count')"
   ]
  },
  {
   "cell_type": "markdown",
   "id": "ba0aabfb",
   "metadata": {},
   "source": [
    "Так, родители большинства учеников, почти половина, закончили только школу, около 200 закончили колледж и примерно треть имеют ученую степень"
   ]
  },
  {
   "cell_type": "markdown",
   "id": "1b5e6f88",
   "metadata": {},
   "source": [
    "Рассмотрим столбцы с баллами за тесты. Просуммируем баллы каждого ученика по всем предметам, чтобы найти общий балл."
   ]
  },
  {
   "cell_type": "code",
   "execution_count": 34,
   "id": "bead9547",
   "metadata": {},
   "outputs": [
    {
     "data": {
      "text/html": [
       "<div>\n",
       "<style scoped>\n",
       "    .dataframe tbody tr th:only-of-type {\n",
       "        vertical-align: middle;\n",
       "    }\n",
       "\n",
       "    .dataframe tbody tr th {\n",
       "        vertical-align: top;\n",
       "    }\n",
       "\n",
       "    .dataframe thead th {\n",
       "        text-align: right;\n",
       "    }\n",
       "</style>\n",
       "<table border=\"1\" class=\"dataframe\">\n",
       "  <thead>\n",
       "    <tr style=\"text-align: right;\">\n",
       "      <th></th>\n",
       "      <th>Gender</th>\n",
       "      <th>Race/ethnicity</th>\n",
       "      <th>Parental level of education</th>\n",
       "      <th>Lunch</th>\n",
       "      <th>Test preparation course</th>\n",
       "      <th>Math score</th>\n",
       "      <th>Reading score</th>\n",
       "      <th>Writing score</th>\n",
       "      <th>Total_score</th>\n",
       "    </tr>\n",
       "  </thead>\n",
       "  <tbody>\n",
       "    <tr>\n",
       "      <th>0</th>\n",
       "      <td>female</td>\n",
       "      <td>group D</td>\n",
       "      <td>some college</td>\n",
       "      <td>standard</td>\n",
       "      <td>completed</td>\n",
       "      <td>59</td>\n",
       "      <td>70</td>\n",
       "      <td>78</td>\n",
       "      <td>207</td>\n",
       "    </tr>\n",
       "    <tr>\n",
       "      <th>1</th>\n",
       "      <td>male</td>\n",
       "      <td>group D</td>\n",
       "      <td>associate's degree</td>\n",
       "      <td>standard</td>\n",
       "      <td>none</td>\n",
       "      <td>96</td>\n",
       "      <td>93</td>\n",
       "      <td>87</td>\n",
       "      <td>276</td>\n",
       "    </tr>\n",
       "    <tr>\n",
       "      <th>2</th>\n",
       "      <td>female</td>\n",
       "      <td>group D</td>\n",
       "      <td>some college</td>\n",
       "      <td>free/reduced</td>\n",
       "      <td>none</td>\n",
       "      <td>57</td>\n",
       "      <td>76</td>\n",
       "      <td>77</td>\n",
       "      <td>210</td>\n",
       "    </tr>\n",
       "    <tr>\n",
       "      <th>3</th>\n",
       "      <td>male</td>\n",
       "      <td>group B</td>\n",
       "      <td>some college</td>\n",
       "      <td>free/reduced</td>\n",
       "      <td>none</td>\n",
       "      <td>70</td>\n",
       "      <td>70</td>\n",
       "      <td>63</td>\n",
       "      <td>203</td>\n",
       "    </tr>\n",
       "    <tr>\n",
       "      <th>4</th>\n",
       "      <td>female</td>\n",
       "      <td>group D</td>\n",
       "      <td>associate's degree</td>\n",
       "      <td>standard</td>\n",
       "      <td>none</td>\n",
       "      <td>83</td>\n",
       "      <td>85</td>\n",
       "      <td>86</td>\n",
       "      <td>254</td>\n",
       "    </tr>\n",
       "    <tr>\n",
       "      <th>...</th>\n",
       "      <td>...</td>\n",
       "      <td>...</td>\n",
       "      <td>...</td>\n",
       "      <td>...</td>\n",
       "      <td>...</td>\n",
       "      <td>...</td>\n",
       "      <td>...</td>\n",
       "      <td>...</td>\n",
       "      <td>...</td>\n",
       "    </tr>\n",
       "    <tr>\n",
       "      <th>1995</th>\n",
       "      <td>male</td>\n",
       "      <td>group C</td>\n",
       "      <td>some college</td>\n",
       "      <td>standard</td>\n",
       "      <td>none</td>\n",
       "      <td>77</td>\n",
       "      <td>77</td>\n",
       "      <td>71</td>\n",
       "      <td>225</td>\n",
       "    </tr>\n",
       "    <tr>\n",
       "      <th>1996</th>\n",
       "      <td>male</td>\n",
       "      <td>group C</td>\n",
       "      <td>some college</td>\n",
       "      <td>standard</td>\n",
       "      <td>none</td>\n",
       "      <td>80</td>\n",
       "      <td>66</td>\n",
       "      <td>66</td>\n",
       "      <td>212</td>\n",
       "    </tr>\n",
       "    <tr>\n",
       "      <th>1997</th>\n",
       "      <td>female</td>\n",
       "      <td>group A</td>\n",
       "      <td>high school</td>\n",
       "      <td>standard</td>\n",
       "      <td>completed</td>\n",
       "      <td>67</td>\n",
       "      <td>86</td>\n",
       "      <td>86</td>\n",
       "      <td>239</td>\n",
       "    </tr>\n",
       "    <tr>\n",
       "      <th>1998</th>\n",
       "      <td>male</td>\n",
       "      <td>group E</td>\n",
       "      <td>high school</td>\n",
       "      <td>standard</td>\n",
       "      <td>none</td>\n",
       "      <td>80</td>\n",
       "      <td>72</td>\n",
       "      <td>62</td>\n",
       "      <td>214</td>\n",
       "    </tr>\n",
       "    <tr>\n",
       "      <th>1999</th>\n",
       "      <td>male</td>\n",
       "      <td>group D</td>\n",
       "      <td>high school</td>\n",
       "      <td>standard</td>\n",
       "      <td>none</td>\n",
       "      <td>58</td>\n",
       "      <td>47</td>\n",
       "      <td>45</td>\n",
       "      <td>150</td>\n",
       "    </tr>\n",
       "  </tbody>\n",
       "</table>\n",
       "<p>2000 rows × 9 columns</p>\n",
       "</div>"
      ],
      "text/plain": [
       "      Gender Race/ethnicity Parental level of education         Lunch  \\\n",
       "0     female        group D                some college      standard   \n",
       "1       male        group D          associate's degree      standard   \n",
       "2     female        group D                some college  free/reduced   \n",
       "3       male        group B                some college  free/reduced   \n",
       "4     female        group D          associate's degree      standard   \n",
       "...      ...            ...                         ...           ...   \n",
       "1995    male        group C                some college      standard   \n",
       "1996    male        group C                some college      standard   \n",
       "1997  female        group A                 high school      standard   \n",
       "1998    male        group E                 high school      standard   \n",
       "1999    male        group D                 high school      standard   \n",
       "\n",
       "     Test preparation course  Math score  Reading score  Writing score  \\\n",
       "0                  completed          59             70             78   \n",
       "1                       none          96             93             87   \n",
       "2                       none          57             76             77   \n",
       "3                       none          70             70             63   \n",
       "4                       none          83             85             86   \n",
       "...                      ...         ...            ...            ...   \n",
       "1995                    none          77             77             71   \n",
       "1996                    none          80             66             66   \n",
       "1997               completed          67             86             86   \n",
       "1998                    none          80             72             62   \n",
       "1999                    none          58             47             45   \n",
       "\n",
       "      Total_score  \n",
       "0             207  \n",
       "1             276  \n",
       "2             210  \n",
       "3             203  \n",
       "4             254  \n",
       "...           ...  \n",
       "1995          225  \n",
       "1996          212  \n",
       "1997          239  \n",
       "1998          214  \n",
       "1999          150  \n",
       "\n",
       "[2000 rows x 9 columns]"
      ]
     },
     "execution_count": 34,
     "metadata": {},
     "output_type": "execute_result"
    }
   ],
   "source": [
    "df['Total_score'] = df['Math score'] + df['Reading score'] + df['Writing score']\n",
    "df"
   ]
  },
  {
   "cell_type": "code",
   "execution_count": 10,
   "id": "77905fe4",
   "metadata": {},
   "outputs": [
    {
     "data": {
      "text/plain": [
       "Text(0.5, 0, 'Points')"
      ]
     },
     "execution_count": 10,
     "metadata": {},
     "output_type": "execute_result"
    },
    {
     "data": {
      "image/png": "[encoded data removed]",
      "text/plain": [
       "<Figure size 864x432 with 1 Axes>"
      ]
     },
     "metadata": {
      "needs_background": "light"
     },
     "output_type": "display_data"
    }
   ],
   "source": [
    "scores = df['Total_score'].plot(kind = 'hist', bins = 15, title = 'Scores for tests', color = 'lightcoral', figsize=(12,6))\n",
    "scores.set_xlabel('Points')"
   ]
  },
  {
   "cell_type": "markdown",
   "id": "2395a459",
   "metadata": {},
   "source": [
    "Таким образом, большинство учеников имеют общий бал 200-210, распределение баллов похоже на нормальное, однако баллы больше среднего встречаются с одинаково убывающей частотой, а с меньшей стороны - наоборот, резко. Кроме того в промежутке от 50 до 100 могут иметь место выбросы"
   ]
  },
  {
   "cell_type": "code",
   "execution_count": 11,
   "id": "bccc91f8",
   "metadata": {},
   "outputs": [
    {
     "data": {
      "text/plain": [
       "Text(0.5, 0, 'Points')"
      ]
     },
     "execution_count": 11,
     "metadata": {},
     "output_type": "execute_result"
    },
    {
     "data": {
      "image/png": "[encoded data removed]",
      "text/plain": [
       "<Figure size 720x360 with 1 Axes>"
      ]
     },
     "metadata": {
      "needs_background": "light"
     },
     "output_type": "display_data"
    }
   ],
   "source": [
    "scores = df['Total_score'].plot(kind = 'kde', title = 'Scores for tests', color = 'yellow', figsize=(10, 5))\n",
    "scores.set_xlabel('Points')"
   ]
  },
  {
   "cell_type": "markdown",
   "id": "5d06d6b0",
   "metadata": {},
   "source": [
    "Судя по графику, самые распространенные баллы за тесты около 200. Распределение является нормальным"
   ]
  },
  {
   "cell_type": "markdown",
   "id": "99fb7cb0",
   "metadata": {},
   "source": [
    "Рассмотрим колонку с информацией о поле."
   ]
  },
  {
   "cell_type": "code",
   "execution_count": 12,
   "id": "6b6a11f8",
   "metadata": {},
   "outputs": [
    {
     "data": {
      "text/plain": [
       "Text(0.5, 0, 'Counts')"
      ]
     },
     "execution_count": 12,
     "metadata": {},
     "output_type": "execute_result"
    },
    {
     "data": {
      "image/png": "[encoded data removed]",
      "text/plain": [
       "<Figure size 720x360 with 1 Axes>"
      ]
     },
     "metadata": {
      "needs_background": "light"
     },
     "output_type": "display_data"
    }
   ],
   "source": [
    "gend = df['Gender'].value_counts().plot(kind = 'barh', title = 'Genders', color='lime', figsize=(10, 5))\n",
    "gend.set_xlabel('Counts')"
   ]
  },
  {
   "cell_type": "markdown",
   "id": "f722ed87",
   "metadata": {},
   "source": [
    "Таким образом, мальчиков незначительно больше, чем девочек"
   ]
  },
  {
   "cell_type": "markdown",
   "id": "dff31c82",
   "metadata": {},
   "source": [
    "Создадим графики ко всем остальным колонкам для облегчения их анализа. "
   ]
  },
  {
   "cell_type": "code",
   "execution_count": 13,
   "id": "d5ea8951",
   "metadata": {},
   "outputs": [
    {
     "data": {
      "text/plain": [
       "Text(0.5, 0, 'Counts')"
      ]
     },
     "execution_count": 13,
     "metadata": {},
     "output_type": "execute_result"
    },
    {
     "data": {
      "image/png": "[encoded data removed]",
      "text/plain": [
       "<Figure size 720x360 with 1 Axes>"
      ]
     },
     "metadata": {
      "needs_background": "light"
     },
     "output_type": "display_data"
    }
   ],
   "source": [
    "race = df['Race/ethnicity'].value_counts().plot(kind = 'barh', title = 'Races', color = 'mediumslateblue', figsize=(10, 5))\n",
    "race.set_xlabel('Counts')"
   ]
  },
  {
   "cell_type": "markdown",
   "id": "a7b483d2",
   "metadata": {},
   "source": [
    "Так, имеется существенное различие в частоте, с которой встречаются разные расы. Самая многочисленная - группа С, а самая малочисленная - А"
   ]
  },
  {
   "cell_type": "code",
   "execution_count": 14,
   "id": "e74bc731",
   "metadata": {},
   "outputs": [
    {
     "data": {
      "text/plain": [
       "Text(0.5, 0, 'Counts')"
      ]
     },
     "execution_count": 14,
     "metadata": {},
     "output_type": "execute_result"
    },
    {
     "data": {
      "image/png": "[encoded data removed]",
      "text/plain": [
       "<Figure size 720x360 with 1 Axes>"
      ]
     },
     "metadata": {
      "needs_background": "light"
     },
     "output_type": "display_data"
    }
   ],
   "source": [
    "lunch = df['Lunch'].value_counts().plot(kind = 'barh', title = 'Lunch', color='cornflowerblue', figsize=(10, 5))\n",
    "lunch.set_xlabel('Counts')"
   ]
  },
  {
   "cell_type": "markdown",
   "id": "239f6f63",
   "metadata": {},
   "source": [
    "Большинство студентов ели стандартный ланч, и около трети - социальный (бесплатный). В таких датасетах эта характеристика является способом показать уровень доходов школьника "
   ]
  },
  {
   "cell_type": "code",
   "execution_count": 15,
   "id": "739aa3bc",
   "metadata": {},
   "outputs": [
    {
     "data": {
      "text/plain": [
       "Text(0.5, 0, 'Counts')"
      ]
     },
     "execution_count": 15,
     "metadata": {},
     "output_type": "execute_result"
    },
    {
     "data": {
      "image/png": "[encoded data removed]",
      "text/plain": [
       "<Figure size 720x360 with 1 Axes>"
      ]
     },
     "metadata": {
      "needs_background": "light"
     },
     "output_type": "display_data"
    }
   ],
   "source": [
    "course = df['Test preparation course'].value_counts().plot(kind = 'barh', title = 'Course preparation', color = 'springgreen', figsize=(10, 5))\n",
    "course.set_xlabel('Counts')"
   ]
  },
  {
   "cell_type": "markdown",
   "id": "d3b6cf33",
   "metadata": {},
   "source": [
    "Только треть студентов прошли подготовительный курс, то есть это не связано с уровнем достатка (ланч)."
   ]
  },
  {
   "cell_type": "code",
   "execution_count": 35,
   "id": "f567ba19",
   "metadata": {},
   "outputs": [
    {
     "data": {
      "text/html": [
       "<div>\n",
       "<style scoped>\n",
       "    .dataframe tbody tr th:only-of-type {\n",
       "        vertical-align: middle;\n",
       "    }\n",
       "\n",
       "    .dataframe tbody tr th {\n",
       "        vertical-align: top;\n",
       "    }\n",
       "\n",
       "    .dataframe thead th {\n",
       "        text-align: right;\n",
       "    }\n",
       "</style>\n",
       "<table border=\"1\" class=\"dataframe\">\n",
       "  <thead>\n",
       "    <tr style=\"text-align: right;\">\n",
       "      <th></th>\n",
       "      <th>Gender</th>\n",
       "      <th>Race/ethnicity</th>\n",
       "      <th>Parental level of education</th>\n",
       "      <th>Lunch</th>\n",
       "      <th>Test preparation course</th>\n",
       "      <th>Math score</th>\n",
       "      <th>Reading score</th>\n",
       "      <th>Writing score</th>\n",
       "      <th>Total_score</th>\n",
       "    </tr>\n",
       "  </thead>\n",
       "  <tbody>\n",
       "    <tr>\n",
       "      <th>0</th>\n",
       "      <td>female</td>\n",
       "      <td>group D</td>\n",
       "      <td>some college</td>\n",
       "      <td>standard</td>\n",
       "      <td>completed</td>\n",
       "      <td>59</td>\n",
       "      <td>70</td>\n",
       "      <td>78</td>\n",
       "      <td>207</td>\n",
       "    </tr>\n",
       "    <tr>\n",
       "      <th>1</th>\n",
       "      <td>male</td>\n",
       "      <td>group D</td>\n",
       "      <td>associate's degree</td>\n",
       "      <td>standard</td>\n",
       "      <td>none</td>\n",
       "      <td>96</td>\n",
       "      <td>93</td>\n",
       "      <td>87</td>\n",
       "      <td>276</td>\n",
       "    </tr>\n",
       "    <tr>\n",
       "      <th>2</th>\n",
       "      <td>female</td>\n",
       "      <td>group D</td>\n",
       "      <td>some college</td>\n",
       "      <td>free/reduced</td>\n",
       "      <td>none</td>\n",
       "      <td>57</td>\n",
       "      <td>76</td>\n",
       "      <td>77</td>\n",
       "      <td>210</td>\n",
       "    </tr>\n",
       "    <tr>\n",
       "      <th>3</th>\n",
       "      <td>male</td>\n",
       "      <td>group B</td>\n",
       "      <td>some college</td>\n",
       "      <td>free/reduced</td>\n",
       "      <td>none</td>\n",
       "      <td>70</td>\n",
       "      <td>70</td>\n",
       "      <td>63</td>\n",
       "      <td>203</td>\n",
       "    </tr>\n",
       "    <tr>\n",
       "      <th>4</th>\n",
       "      <td>female</td>\n",
       "      <td>group D</td>\n",
       "      <td>associate's degree</td>\n",
       "      <td>standard</td>\n",
       "      <td>none</td>\n",
       "      <td>83</td>\n",
       "      <td>85</td>\n",
       "      <td>86</td>\n",
       "      <td>254</td>\n",
       "    </tr>\n",
       "    <tr>\n",
       "      <th>...</th>\n",
       "      <td>...</td>\n",
       "      <td>...</td>\n",
       "      <td>...</td>\n",
       "      <td>...</td>\n",
       "      <td>...</td>\n",
       "      <td>...</td>\n",
       "      <td>...</td>\n",
       "      <td>...</td>\n",
       "      <td>...</td>\n",
       "    </tr>\n",
       "    <tr>\n",
       "      <th>1995</th>\n",
       "      <td>male</td>\n",
       "      <td>group C</td>\n",
       "      <td>some college</td>\n",
       "      <td>standard</td>\n",
       "      <td>none</td>\n",
       "      <td>77</td>\n",
       "      <td>77</td>\n",
       "      <td>71</td>\n",
       "      <td>225</td>\n",
       "    </tr>\n",
       "    <tr>\n",
       "      <th>1996</th>\n",
       "      <td>male</td>\n",
       "      <td>group C</td>\n",
       "      <td>some college</td>\n",
       "      <td>standard</td>\n",
       "      <td>none</td>\n",
       "      <td>80</td>\n",
       "      <td>66</td>\n",
       "      <td>66</td>\n",
       "      <td>212</td>\n",
       "    </tr>\n",
       "    <tr>\n",
       "      <th>1997</th>\n",
       "      <td>female</td>\n",
       "      <td>group A</td>\n",
       "      <td>high school</td>\n",
       "      <td>standard</td>\n",
       "      <td>completed</td>\n",
       "      <td>67</td>\n",
       "      <td>86</td>\n",
       "      <td>86</td>\n",
       "      <td>239</td>\n",
       "    </tr>\n",
       "    <tr>\n",
       "      <th>1998</th>\n",
       "      <td>male</td>\n",
       "      <td>group E</td>\n",
       "      <td>high school</td>\n",
       "      <td>standard</td>\n",
       "      <td>none</td>\n",
       "      <td>80</td>\n",
       "      <td>72</td>\n",
       "      <td>62</td>\n",
       "      <td>214</td>\n",
       "    </tr>\n",
       "    <tr>\n",
       "      <th>1999</th>\n",
       "      <td>male</td>\n",
       "      <td>group D</td>\n",
       "      <td>high school</td>\n",
       "      <td>standard</td>\n",
       "      <td>none</td>\n",
       "      <td>58</td>\n",
       "      <td>47</td>\n",
       "      <td>45</td>\n",
       "      <td>150</td>\n",
       "    </tr>\n",
       "  </tbody>\n",
       "</table>\n",
       "<p>2000 rows × 9 columns</p>\n",
       "</div>"
      ],
      "text/plain": [
       "      Gender Race/ethnicity Parental level of education         Lunch  \\\n",
       "0     female        group D                some college      standard   \n",
       "1       male        group D          associate's degree      standard   \n",
       "2     female        group D                some college  free/reduced   \n",
       "3       male        group B                some college  free/reduced   \n",
       "4     female        group D          associate's degree      standard   \n",
       "...      ...            ...                         ...           ...   \n",
       "1995    male        group C                some college      standard   \n",
       "1996    male        group C                some college      standard   \n",
       "1997  female        group A                 high school      standard   \n",
       "1998    male        group E                 high school      standard   \n",
       "1999    male        group D                 high school      standard   \n",
       "\n",
       "     Test preparation course  Math score  Reading score  Writing score  \\\n",
       "0                  completed          59             70             78   \n",
       "1                       none          96             93             87   \n",
       "2                       none          57             76             77   \n",
       "3                       none          70             70             63   \n",
       "4                       none          83             85             86   \n",
       "...                      ...         ...            ...            ...   \n",
       "1995                    none          77             77             71   \n",
       "1996                    none          80             66             66   \n",
       "1997               completed          67             86             86   \n",
       "1998                    none          80             72             62   \n",
       "1999                    none          58             47             45   \n",
       "\n",
       "      Total_score  \n",
       "0             207  \n",
       "1             276  \n",
       "2             210  \n",
       "3             203  \n",
       "4             254  \n",
       "...           ...  \n",
       "1995          225  \n",
       "1996          212  \n",
       "1997          239  \n",
       "1998          214  \n",
       "1999          150  \n",
       "\n",
       "[2000 rows x 9 columns]"
      ]
     },
     "execution_count": 35,
     "metadata": {},
     "output_type": "execute_result"
    }
   ],
   "source": [
    "df"
   ]
  },
  {
   "cell_type": "markdown",
   "id": "16117c88",
   "metadata": {},
   "source": [
    "Зависимость между образованием родителей и общим баллом "
   ]
  },
  {
   "cell_type": "code",
   "execution_count": 17,
   "id": "05eb8205",
   "metadata": {},
   "outputs": [
    {
     "data": {
      "image/png": "[encoded data removed]",
      "text/plain": [
       "<Figure size 864x432 with 1 Axes>"
      ]
     },
     "metadata": {
      "needs_background": "light"
     },
     "output_type": "display_data"
    }
   ],
   "source": [
    "plt.figure(figsize=(12,6))\n",
    "sns.boxplot(x = 'Parental level of education', y = 'Total_score', data = df)\n",
    "plt.xticks(rotation=45, \n",
    "           ha='right')\n",
    "plt.show()"
   ]
  },
  {
   "cell_type": "markdown",
   "id": "df82a093",
   "metadata": {},
   "source": [
    "Зависимость между образованем родителей и общим баллом по тестам учащихся. "
   ]
  },
  {
   "cell_type": "code",
   "execution_count": 18,
   "id": "4af08c4d",
   "metadata": {},
   "outputs": [
    {
     "data": {
      "image/png": "[encoded data removed]",
      "text/plain": [
       "<Figure size 720x360 with 1 Axes>"
      ]
     },
     "metadata": {
      "needs_background": "light"
     },
     "output_type": "display_data"
    }
   ],
   "source": [
    "ed_mean = df.groupby('Parental level of education')['Total_score'].mean().plot(kind = 'bar', figsize=(10, 5))"
   ]
  },
  {
   "cell_type": "markdown",
   "id": "322464da",
   "metadata": {},
   "source": [
    "Зависимость между прохождением курса и суммарными баллами"
   ]
  },
  {
   "cell_type": "code",
   "execution_count": 19,
   "id": "19f93b6e",
   "metadata": {},
   "outputs": [
    {
     "data": {
      "image/png": "[encoded data removed]",
      "text/plain": [
       "<Figure size 864x432 with 1 Axes>"
      ]
     },
     "metadata": {
      "needs_background": "light"
     },
     "output_type": "display_data"
    }
   ],
   "source": [
    "plt.figure(figsize=(12,6))\n",
    "plt.hist(x = df[df['Test preparation course'] == 'completed']['Total_score'])\n",
    "plt.hist(x = df[df['Test preparation course'] == 'none']['Total_score'], alpha = 0.3)\n",
    "plt.xlabel(\"Test points\")\n",
    "plt.ylabel(\"Test preparation course\")\n",
    "plt.show()"
   ]
  },
  {
   "cell_type": "markdown",
   "id": "4d0f5030",
   "metadata": {},
   "source": [
    "Зависимость между присутствием бесплатного ланча и суммарными баллами"
   ]
  },
  {
   "cell_type": "code",
   "execution_count": 20,
   "id": "4fb86102",
   "metadata": {},
   "outputs": [
    {
     "data": {
      "text/plain": [
       "<Axes: xlabel='Total_score', ylabel='Count'>"
      ]
     },
     "execution_count": 20,
     "metadata": {},
     "output_type": "execute_result"
    },
    {
     "data": {
      "image/png": "[encoded data removed]",
      "text/plain": [
       "<Figure size 864x432 with 1 Axes>"
      ]
     },
     "metadata": {
      "needs_background": "light"
     },
     "output_type": "display_data"
    }
   ],
   "source": [
    "plt.figure(figsize=(12,6))\n",
    "sns.histplot(x = 'Total_score', hue = 'Lunch', data = df, bins = 20)"
   ]
  },
  {
   "cell_type": "markdown",
   "id": "ab37a5fe",
   "metadata": {},
   "source": [
    "Зависимость между прохождением курса и присутствием бесплатного обеда"
   ]
  },
  {
   "cell_type": "code",
   "execution_count": 21,
   "id": "044ceb61",
   "metadata": {},
   "outputs": [
    {
     "data": {
      "text/plain": [
       "<Axes: xlabel='Lunch', ylabel='count'>"
      ]
     },
     "execution_count": 21,
     "metadata": {},
     "output_type": "execute_result"
    },
    {
     "data": {
      "image/png": "[encoded data removed]",
      "text/plain": [
       "<Figure size 864x432 with 1 Axes>"
      ]
     },
     "metadata": {
      "needs_background": "light"
     },
     "output_type": "display_data"
    }
   ],
   "source": [
    "plt.figure(figsize=(12,6))\n",
    "sns.countplot(x = 'Lunch', hue = 'Test preparation course', data = df)"
   ]
  },
  {
   "cell_type": "markdown",
   "id": "b6c14004",
   "metadata": {},
   "source": [
    "Зависимость между баллами по тесту по математике и баллами по чтению"
   ]
  },
  {
   "cell_type": "markdown",
   "id": "2d4c7766",
   "metadata": {},
   "source": [
    "Предлагаю так сделать сразу все красиво"
   ]
  },
  {
   "cell_type": "code",
   "execution_count": 78,
   "id": "5874b4f7",
   "metadata": {},
   "outputs": [
    {
     "data": {
      "text/plain": [
       "<seaborn.axisgrid.PairGrid at 0x228abda0640>"
      ]
     },
     "execution_count": 78,
     "metadata": {},
     "output_type": "execute_result"
    },
    {
     "data": {
      "image/png": "[encoded data removed]",
      "text/plain": [
       "<Figure size 720x720 with 20 Axes>"
      ]
     },
     "metadata": {
      "needs_background": "light"
     },
     "output_type": "display_data"
    }
   ],
   "source": [
    "sns.pairplot(df.drop(['Gender', 'Race/ethnicity', 'Parental level of education', 'Lunch', 'Test preparation course'], axis=1))"
   ]
  },
  {
   "cell_type": "code",
   "execution_count": 22,
   "id": "5ce5e5d8",
   "metadata": {},
   "outputs": [
    {
     "name": "stderr",
     "output_type": "stream",
     "text": [
      "C:\\ProgramData\\Anaconda3\\lib\\site-packages\\pandas\\plotting\\_matplotlib\\core.py:1114: UserWarning: No data for colormapping provided via 'c'. Parameters 'cmap' will be ignored\n",
      "  scatter = ax.scatter(\n"
     ]
    },
    {
     "data": {
      "text/plain": [
       "<Axes: xlabel='Math score', ylabel='Reading score'>"
      ]
     },
     "execution_count": 22,
     "metadata": {},
     "output_type": "execute_result"
    },
    {
     "data": {
      "image/png": "[encoded data removed]",
      "text/plain": [
       "<Figure size 864x432 with 1 Axes>"
      ]
     },
     "metadata": {
      "needs_background": "light"
     },
     "output_type": "display_data"
    }
   ],
   "source": [
    "df.plot(kind = 'scatter', x = 'Math score', y = 'Reading score', figsize=(12 , 6))"
   ]
  },
  {
   "cell_type": "markdown",
   "id": "b2b7cbb8",
   "metadata": {},
   "source": [
    "Зависимость между баллами по математике и баллами по письму"
   ]
  },
  {
   "cell_type": "code",
   "execution_count": 23,
   "id": "7d59e635",
   "metadata": {},
   "outputs": [
    {
     "data": {
      "text/plain": [
       "<Axes: xlabel='Math score', ylabel='Writing score'>"
      ]
     },
     "execution_count": 23,
     "metadata": {},
     "output_type": "execute_result"
    },
    {
     "data": {
      "image/png": "[encoded data removed]",
      "text/plain": [
       "<Figure size 864x432 with 1 Axes>"
      ]
     },
     "metadata": {
      "needs_background": "light"
     },
     "output_type": "display_data"
    }
   ],
   "source": [
    "df.plot(kind = 'scatter', x = 'Math score', y = 'Writing score', figsize=(12 , 6))"
   ]
  },
  {
   "cell_type": "code",
   "execution_count": 79,
   "id": "87f7c38a",
   "metadata": {},
   "outputs": [
    {
     "data": {
      "image/png": "[encoded data removed]",
      "text/plain": [
       "<Figure size 1152x576 with 2 Axes>"
      ]
     },
     "metadata": {
      "needs_background": "light"
     },
     "output_type": "display_data"
    }
   ],
   "source": [
    "plt.figure(figsize=(16,8))\n",
    "sns.heatmap(df.corr(),cmap='rainbow',annot=True)\n",
    "\n",
    "plt.show()"
   ]
  },
  {
   "cell_type": "markdown",
   "id": "784b0e4e",
   "metadata": {},
   "source": [
    "опишем статистические показатели"
   ]
  },
  {
   "cell_type": "code",
   "execution_count": 80,
   "id": "72918318",
   "metadata": {},
   "outputs": [
    {
     "data": {
      "text/html": [
       "<div>\n",
       "<style scoped>\n",
       "    .dataframe tbody tr th:only-of-type {\n",
       "        vertical-align: middle;\n",
       "    }\n",
       "\n",
       "    .dataframe tbody tr th {\n",
       "        vertical-align: top;\n",
       "    }\n",
       "\n",
       "    .dataframe thead th {\n",
       "        text-align: right;\n",
       "    }\n",
       "</style>\n",
       "<table border=\"1\" class=\"dataframe\">\n",
       "  <thead>\n",
       "    <tr style=\"text-align: right;\">\n",
       "      <th></th>\n",
       "      <th>Math score</th>\n",
       "      <th>Reading score</th>\n",
       "      <th>Writing score</th>\n",
       "      <th>Total_score</th>\n",
       "    </tr>\n",
       "  </thead>\n",
       "  <tbody>\n",
       "    <tr>\n",
       "      <th>count</th>\n",
       "      <td>2000.000000</td>\n",
       "      <td>2000.000000</td>\n",
       "      <td>2000.000000</td>\n",
       "      <td>2000.000000</td>\n",
       "    </tr>\n",
       "    <tr>\n",
       "      <th>mean</th>\n",
       "      <td>67.810000</td>\n",
       "      <td>70.382000</td>\n",
       "      <td>69.140000</td>\n",
       "      <td>207.332000</td>\n",
       "    </tr>\n",
       "    <tr>\n",
       "      <th>std</th>\n",
       "      <td>15.246381</td>\n",
       "      <td>14.103884</td>\n",
       "      <td>15.022158</td>\n",
       "      <td>42.073042</td>\n",
       "    </tr>\n",
       "    <tr>\n",
       "      <th>min</th>\n",
       "      <td>15.000000</td>\n",
       "      <td>25.000000</td>\n",
       "      <td>15.000000</td>\n",
       "      <td>60.000000</td>\n",
       "    </tr>\n",
       "    <tr>\n",
       "      <th>25%</th>\n",
       "      <td>58.000000</td>\n",
       "      <td>61.000000</td>\n",
       "      <td>59.000000</td>\n",
       "      <td>178.750000</td>\n",
       "    </tr>\n",
       "    <tr>\n",
       "      <th>50%</th>\n",
       "      <td>68.000000</td>\n",
       "      <td>70.500000</td>\n",
       "      <td>70.000000</td>\n",
       "      <td>209.000000</td>\n",
       "    </tr>\n",
       "    <tr>\n",
       "      <th>75%</th>\n",
       "      <td>79.250000</td>\n",
       "      <td>80.000000</td>\n",
       "      <td>80.000000</td>\n",
       "      <td>238.000000</td>\n",
       "    </tr>\n",
       "    <tr>\n",
       "      <th>max</th>\n",
       "      <td>100.000000</td>\n",
       "      <td>100.000000</td>\n",
       "      <td>100.000000</td>\n",
       "      <td>300.000000</td>\n",
       "    </tr>\n",
       "  </tbody>\n",
       "</table>\n",
       "</div>"
      ],
      "text/plain": [
       "        Math score  Reading score  Writing score  Total_score\n",
       "count  2000.000000    2000.000000    2000.000000  2000.000000\n",
       "mean     67.810000      70.382000      69.140000   207.332000\n",
       "std      15.246381      14.103884      15.022158    42.073042\n",
       "min      15.000000      25.000000      15.000000    60.000000\n",
       "25%      58.000000      61.000000      59.000000   178.750000\n",
       "50%      68.000000      70.500000      70.000000   209.000000\n",
       "75%      79.250000      80.000000      80.000000   238.000000\n",
       "max     100.000000     100.000000     100.000000   300.000000"
      ]
     },
     "execution_count": 80,
     "metadata": {},
     "output_type": "execute_result"
    }
   ],
   "source": [
    "df.describe()"
   ]
  },
  {
   "cell_type": "markdown",
   "id": "f7fdd922",
   "metadata": {},
   "source": [
    "## Гипотезы"
   ]
  },
  {
   "cell_type": "markdown",
   "id": "f7ea1096",
   "metadata": {},
   "source": [
    "1. Пол не влияет на общий балл\n",
    "\n",
    "\n",
    "2. Раса на влияет на общий балл\n",
    "\n",
    "\n",
    "3. Наличие ученой степени у родителя повышает шансы ребенка иметь высокий общий балл\n",
    "\n",
    "\n",
    "4. Студенты, которые ели бесплатный ланч и не прошли подготовительный курс учатся хуже\n",
    "\n",
    "\n",
    "5. Чем выше балл студента по математике, тем больше его общий балл\n",
    "\n",
    "\n",
    "6. Чем больше общий балл студента, тем больше он девочка) "
   ]
  },
  {
   "cell_type": "markdown",
   "id": "82911463",
   "metadata": {},
   "source": [
    "# Часть 3. Построение модели"
   ]
  },
  {
   "cell_type": "markdown",
   "id": "6053568d",
   "metadata": {},
   "source": [
    "### 0. Цели и методы"
   ]
  },
  {
   "cell_type": "markdown",
   "id": "8a4c36be",
   "metadata": {},
   "source": [
    "Для начала хочется понять, что вообще мы пытаемся сделать. Мы попытаемся создать модель, которая по характеристикам студента (все наши категориальные переменные) и его баллам за математику, чтение и письмо предскажет его общий балл. Почему общий балл? Потому что это универсальный способ оценить знания студента, который используется для выдачи грантов, поступлении в университет и других важных мероприятий в жизни ученика. То есть потом исходя из этого балла можно строить более сложные модели, например, опять же вероятность поступить на бюджет, или тестировать гипотезы. Кроме того, наша модель поможет понять, какими социально-демографическими характеристиками обладают студенты, получившие определенный балл.\n",
    "\n",
    "Для предсказания общего балла студента мы будем использовать линейные модели:\n",
    "- Линейную регрессию\n",
    "- Ridge регрессию\n",
    "- Lasso регрессию"
   ]
  },
  {
   "cell_type": "code",
   "execution_count": 38,
   "id": "60bd198c",
   "metadata": {},
   "outputs": [
    {
     "data": {
      "text/html": [
       "<div>\n",
       "<style scoped>\n",
       "    .dataframe tbody tr th:only-of-type {\n",
       "        vertical-align: middle;\n",
       "    }\n",
       "\n",
       "    .dataframe tbody tr th {\n",
       "        vertical-align: top;\n",
       "    }\n",
       "\n",
       "    .dataframe thead th {\n",
       "        text-align: right;\n",
       "    }\n",
       "</style>\n",
       "<table border=\"1\" class=\"dataframe\">\n",
       "  <thead>\n",
       "    <tr style=\"text-align: right;\">\n",
       "      <th></th>\n",
       "      <th>Gender</th>\n",
       "      <th>Race/ethnicity</th>\n",
       "      <th>Parental level of education</th>\n",
       "      <th>Lunch</th>\n",
       "      <th>Test preparation course</th>\n",
       "      <th>Math score</th>\n",
       "      <th>Reading score</th>\n",
       "      <th>Writing score</th>\n",
       "      <th>Total_score</th>\n",
       "    </tr>\n",
       "  </thead>\n",
       "  <tbody>\n",
       "    <tr>\n",
       "      <th>0</th>\n",
       "      <td>female</td>\n",
       "      <td>group D</td>\n",
       "      <td>some college</td>\n",
       "      <td>standard</td>\n",
       "      <td>completed</td>\n",
       "      <td>59</td>\n",
       "      <td>70</td>\n",
       "      <td>78</td>\n",
       "      <td>207</td>\n",
       "    </tr>\n",
       "    <tr>\n",
       "      <th>1</th>\n",
       "      <td>male</td>\n",
       "      <td>group D</td>\n",
       "      <td>associate's degree</td>\n",
       "      <td>standard</td>\n",
       "      <td>none</td>\n",
       "      <td>96</td>\n",
       "      <td>93</td>\n",
       "      <td>87</td>\n",
       "      <td>276</td>\n",
       "    </tr>\n",
       "    <tr>\n",
       "      <th>2</th>\n",
       "      <td>female</td>\n",
       "      <td>group D</td>\n",
       "      <td>some college</td>\n",
       "      <td>free/reduced</td>\n",
       "      <td>none</td>\n",
       "      <td>57</td>\n",
       "      <td>76</td>\n",
       "      <td>77</td>\n",
       "      <td>210</td>\n",
       "    </tr>\n",
       "    <tr>\n",
       "      <th>3</th>\n",
       "      <td>male</td>\n",
       "      <td>group B</td>\n",
       "      <td>some college</td>\n",
       "      <td>free/reduced</td>\n",
       "      <td>none</td>\n",
       "      <td>70</td>\n",
       "      <td>70</td>\n",
       "      <td>63</td>\n",
       "      <td>203</td>\n",
       "    </tr>\n",
       "    <tr>\n",
       "      <th>4</th>\n",
       "      <td>female</td>\n",
       "      <td>group D</td>\n",
       "      <td>associate's degree</td>\n",
       "      <td>standard</td>\n",
       "      <td>none</td>\n",
       "      <td>83</td>\n",
       "      <td>85</td>\n",
       "      <td>86</td>\n",
       "      <td>254</td>\n",
       "    </tr>\n",
       "    <tr>\n",
       "      <th>...</th>\n",
       "      <td>...</td>\n",
       "      <td>...</td>\n",
       "      <td>...</td>\n",
       "      <td>...</td>\n",
       "      <td>...</td>\n",
       "      <td>...</td>\n",
       "      <td>...</td>\n",
       "      <td>...</td>\n",
       "      <td>...</td>\n",
       "    </tr>\n",
       "    <tr>\n",
       "      <th>1995</th>\n",
       "      <td>male</td>\n",
       "      <td>group C</td>\n",
       "      <td>some college</td>\n",
       "      <td>standard</td>\n",
       "      <td>none</td>\n",
       "      <td>77</td>\n",
       "      <td>77</td>\n",
       "      <td>71</td>\n",
       "      <td>225</td>\n",
       "    </tr>\n",
       "    <tr>\n",
       "      <th>1996</th>\n",
       "      <td>male</td>\n",
       "      <td>group C</td>\n",
       "      <td>some college</td>\n",
       "      <td>standard</td>\n",
       "      <td>none</td>\n",
       "      <td>80</td>\n",
       "      <td>66</td>\n",
       "      <td>66</td>\n",
       "      <td>212</td>\n",
       "    </tr>\n",
       "    <tr>\n",
       "      <th>1997</th>\n",
       "      <td>female</td>\n",
       "      <td>group A</td>\n",
       "      <td>high school</td>\n",
       "      <td>standard</td>\n",
       "      <td>completed</td>\n",
       "      <td>67</td>\n",
       "      <td>86</td>\n",
       "      <td>86</td>\n",
       "      <td>239</td>\n",
       "    </tr>\n",
       "    <tr>\n",
       "      <th>1998</th>\n",
       "      <td>male</td>\n",
       "      <td>group E</td>\n",
       "      <td>high school</td>\n",
       "      <td>standard</td>\n",
       "      <td>none</td>\n",
       "      <td>80</td>\n",
       "      <td>72</td>\n",
       "      <td>62</td>\n",
       "      <td>214</td>\n",
       "    </tr>\n",
       "    <tr>\n",
       "      <th>1999</th>\n",
       "      <td>male</td>\n",
       "      <td>group D</td>\n",
       "      <td>high school</td>\n",
       "      <td>standard</td>\n",
       "      <td>none</td>\n",
       "      <td>58</td>\n",
       "      <td>47</td>\n",
       "      <td>45</td>\n",
       "      <td>150</td>\n",
       "    </tr>\n",
       "  </tbody>\n",
       "</table>\n",
       "<p>2000 rows × 9 columns</p>\n",
       "</div>"
      ],
      "text/plain": [
       "      Gender Race/ethnicity Parental level of education         Lunch  \\\n",
       "0     female        group D                some college      standard   \n",
       "1       male        group D          associate's degree      standard   \n",
       "2     female        group D                some college  free/reduced   \n",
       "3       male        group B                some college  free/reduced   \n",
       "4     female        group D          associate's degree      standard   \n",
       "...      ...            ...                         ...           ...   \n",
       "1995    male        group C                some college      standard   \n",
       "1996    male        group C                some college      standard   \n",
       "1997  female        group A                 high school      standard   \n",
       "1998    male        group E                 high school      standard   \n",
       "1999    male        group D                 high school      standard   \n",
       "\n",
       "     Test preparation course  Math score  Reading score  Writing score  \\\n",
       "0                  completed          59             70             78   \n",
       "1                       none          96             93             87   \n",
       "2                       none          57             76             77   \n",
       "3                       none          70             70             63   \n",
       "4                       none          83             85             86   \n",
       "...                      ...         ...            ...            ...   \n",
       "1995                    none          77             77             71   \n",
       "1996                    none          80             66             66   \n",
       "1997               completed          67             86             86   \n",
       "1998                    none          80             72             62   \n",
       "1999                    none          58             47             45   \n",
       "\n",
       "      Total_score  \n",
       "0             207  \n",
       "1             276  \n",
       "2             210  \n",
       "3             203  \n",
       "4             254  \n",
       "...           ...  \n",
       "1995          225  \n",
       "1996          212  \n",
       "1997          239  \n",
       "1998          214  \n",
       "1999          150  \n",
       "\n",
       "[2000 rows x 9 columns]"
      ]
     },
     "execution_count": 38,
     "metadata": {},
     "output_type": "execute_result"
    }
   ],
   "source": [
    "df"
   ]
  },
  {
   "cell_type": "markdown",
   "id": "f46c2125",
   "metadata": {},
   "source": [
    "### 1. Кодировка переменных"
   ]
  },
  {
   "cell_type": "markdown",
   "id": "9ab662cd",
   "metadata": {},
   "source": [
    "У нас много категориальных переменных. Мы их закодируем, используя One Hot Encoding. Чтобы не перегружать будущую модель уберем одну из каждых категорий"
   ]
  },
  {
   "cell_type": "code",
   "execution_count": 39,
   "id": "3bc9030b",
   "metadata": {},
   "outputs": [
    {
     "data": {
      "text/html": [
       "<div>\n",
       "<style scoped>\n",
       "    .dataframe tbody tr th:only-of-type {\n",
       "        vertical-align: middle;\n",
       "    }\n",
       "\n",
       "    .dataframe tbody tr th {\n",
       "        vertical-align: top;\n",
       "    }\n",
       "\n",
       "    .dataframe thead th {\n",
       "        text-align: right;\n",
       "    }\n",
       "</style>\n",
       "<table border=\"1\" class=\"dataframe\">\n",
       "  <thead>\n",
       "    <tr style=\"text-align: right;\">\n",
       "      <th></th>\n",
       "      <th>Math score</th>\n",
       "      <th>Reading score</th>\n",
       "      <th>Writing score</th>\n",
       "      <th>Total_score</th>\n",
       "      <th>Gender_male</th>\n",
       "      <th>Race/ethnicity_group B</th>\n",
       "      <th>Race/ethnicity_group C</th>\n",
       "      <th>Race/ethnicity_group D</th>\n",
       "      <th>Race/ethnicity_group E</th>\n",
       "      <th>Parental level of education_bachelor's degree</th>\n",
       "      <th>Parental level of education_high school</th>\n",
       "      <th>Parental level of education_master's degree</th>\n",
       "      <th>Parental level of education_some college</th>\n",
       "      <th>Parental level of education_some high school</th>\n",
       "      <th>Lunch_standard</th>\n",
       "      <th>Test preparation course_none</th>\n",
       "    </tr>\n",
       "  </thead>\n",
       "  <tbody>\n",
       "    <tr>\n",
       "      <th>0</th>\n",
       "      <td>59</td>\n",
       "      <td>70</td>\n",
       "      <td>78</td>\n",
       "      <td>207</td>\n",
       "      <td>0</td>\n",
       "      <td>0</td>\n",
       "      <td>0</td>\n",
       "      <td>1</td>\n",
       "      <td>0</td>\n",
       "      <td>0</td>\n",
       "      <td>0</td>\n",
       "      <td>0</td>\n",
       "      <td>1</td>\n",
       "      <td>0</td>\n",
       "      <td>1</td>\n",
       "      <td>0</td>\n",
       "    </tr>\n",
       "    <tr>\n",
       "      <th>1</th>\n",
       "      <td>96</td>\n",
       "      <td>93</td>\n",
       "      <td>87</td>\n",
       "      <td>276</td>\n",
       "      <td>1</td>\n",
       "      <td>0</td>\n",
       "      <td>0</td>\n",
       "      <td>1</td>\n",
       "      <td>0</td>\n",
       "      <td>0</td>\n",
       "      <td>0</td>\n",
       "      <td>0</td>\n",
       "      <td>0</td>\n",
       "      <td>0</td>\n",
       "      <td>1</td>\n",
       "      <td>1</td>\n",
       "    </tr>\n",
       "    <tr>\n",
       "      <th>2</th>\n",
       "      <td>57</td>\n",
       "      <td>76</td>\n",
       "      <td>77</td>\n",
       "      <td>210</td>\n",
       "      <td>0</td>\n",
       "      <td>0</td>\n",
       "      <td>0</td>\n",
       "      <td>1</td>\n",
       "      <td>0</td>\n",
       "      <td>0</td>\n",
       "      <td>0</td>\n",
       "      <td>0</td>\n",
       "      <td>1</td>\n",
       "      <td>0</td>\n",
       "      <td>0</td>\n",
       "      <td>1</td>\n",
       "    </tr>\n",
       "    <tr>\n",
       "      <th>3</th>\n",
       "      <td>70</td>\n",
       "      <td>70</td>\n",
       "      <td>63</td>\n",
       "      <td>203</td>\n",
       "      <td>1</td>\n",
       "      <td>1</td>\n",
       "      <td>0</td>\n",
       "      <td>0</td>\n",
       "      <td>0</td>\n",
       "      <td>0</td>\n",
       "      <td>0</td>\n",
       "      <td>0</td>\n",
       "      <td>1</td>\n",
       "      <td>0</td>\n",
       "      <td>0</td>\n",
       "      <td>1</td>\n",
       "    </tr>\n",
       "    <tr>\n",
       "      <th>4</th>\n",
       "      <td>83</td>\n",
       "      <td>85</td>\n",
       "      <td>86</td>\n",
       "      <td>254</td>\n",
       "      <td>0</td>\n",
       "      <td>0</td>\n",
       "      <td>0</td>\n",
       "      <td>1</td>\n",
       "      <td>0</td>\n",
       "      <td>0</td>\n",
       "      <td>0</td>\n",
       "      <td>0</td>\n",
       "      <td>0</td>\n",
       "      <td>0</td>\n",
       "      <td>1</td>\n",
       "      <td>1</td>\n",
       "    </tr>\n",
       "  </tbody>\n",
       "</table>\n",
       "</div>"
      ],
      "text/plain": [
       "   Math score  Reading score  Writing score  Total_score  Gender_male  \\\n",
       "0          59             70             78          207            0   \n",
       "1          96             93             87          276            1   \n",
       "2          57             76             77          210            0   \n",
       "3          70             70             63          203            1   \n",
       "4          83             85             86          254            0   \n",
       "\n",
       "   Race/ethnicity_group B  Race/ethnicity_group C  Race/ethnicity_group D  \\\n",
       "0                       0                       0                       1   \n",
       "1                       0                       0                       1   \n",
       "2                       0                       0                       1   \n",
       "3                       1                       0                       0   \n",
       "4                       0                       0                       1   \n",
       "\n",
       "   Race/ethnicity_group E  Parental level of education_bachelor's degree  \\\n",
       "0                       0                                              0   \n",
       "1                       0                                              0   \n",
       "2                       0                                              0   \n",
       "3                       0                                              0   \n",
       "4                       0                                              0   \n",
       "\n",
       "   Parental level of education_high school  \\\n",
       "0                                        0   \n",
       "1                                        0   \n",
       "2                                        0   \n",
       "3                                        0   \n",
       "4                                        0   \n",
       "\n",
       "   Parental level of education_master's degree  \\\n",
       "0                                            0   \n",
       "1                                            0   \n",
       "2                                            0   \n",
       "3                                            0   \n",
       "4                                            0   \n",
       "\n",
       "   Parental level of education_some college  \\\n",
       "0                                         1   \n",
       "1                                         0   \n",
       "2                                         1   \n",
       "3                                         1   \n",
       "4                                         0   \n",
       "\n",
       "   Parental level of education_some high school  Lunch_standard  \\\n",
       "0                                             0               1   \n",
       "1                                             0               1   \n",
       "2                                             0               0   \n",
       "3                                             0               0   \n",
       "4                                             0               1   \n",
       "\n",
       "   Test preparation course_none  \n",
       "0                             0  \n",
       "1                             1  \n",
       "2                             1  \n",
       "3                             1  \n",
       "4                             1  "
      ]
     },
     "execution_count": 39,
     "metadata": {},
     "output_type": "execute_result"
    }
   ],
   "source": [
    "df_coded = df\n",
    "df_coded = pd.get_dummies(df_coded, drop_first=True).head()\n",
    "df_coded"
   ]
  },
  {
   "cell_type": "markdown",
   "id": "a12f88b7",
   "metadata": {},
   "source": [
    "Следующий шаг - масштабирование. Это очень важно для линейных моделей, так как это ускоряет обучение и повышает интерпретируемость модели.\n",
    "\n",
    "Мы нормализуем данные с помощью StandardScaler в sklearn."
   ]
  },
  {
   "cell_type": "code",
   "execution_count": 128,
   "id": "aa02307f",
   "metadata": {},
   "outputs": [
    {
     "data": {
      "text/html": [
       "<div>\n",
       "<style scoped>\n",
       "    .dataframe tbody tr th:only-of-type {\n",
       "        vertical-align: middle;\n",
       "    }\n",
       "\n",
       "    .dataframe tbody tr th {\n",
       "        vertical-align: top;\n",
       "    }\n",
       "\n",
       "    .dataframe thead th {\n",
       "        text-align: right;\n",
       "    }\n",
       "</style>\n",
       "<table border=\"1\" class=\"dataframe\">\n",
       "  <thead>\n",
       "    <tr style=\"text-align: right;\">\n",
       "      <th></th>\n",
       "      <th>Math score</th>\n",
       "      <th>Reading score</th>\n",
       "      <th>Writing score</th>\n",
       "      <th>Total_score</th>\n",
       "      <th>Gender_male</th>\n",
       "      <th>Race/ethnicity_group B</th>\n",
       "      <th>Race/ethnicity_group C</th>\n",
       "      <th>Race/ethnicity_group D</th>\n",
       "      <th>Race/ethnicity_group E</th>\n",
       "      <th>Parental level of education_bachelor's degree</th>\n",
       "      <th>Parental level of education_high school</th>\n",
       "      <th>Parental level of education_master's degree</th>\n",
       "      <th>Parental level of education_some college</th>\n",
       "      <th>Parental level of education_some high school</th>\n",
       "      <th>Lunch_standard</th>\n",
       "      <th>Test preparation course_none</th>\n",
       "    </tr>\n",
       "  </thead>\n",
       "  <tbody>\n",
       "    <tr>\n",
       "      <th>0</th>\n",
       "      <td>-0.948200</td>\n",
       "      <td>-0.980444</td>\n",
       "      <td>-0.023224</td>\n",
       "      <td>-0.779773</td>\n",
       "      <td>-0.816497</td>\n",
       "      <td>-0.5</td>\n",
       "      <td>0.0</td>\n",
       "      <td>0.5</td>\n",
       "      <td>0.0</td>\n",
       "      <td>0.0</td>\n",
       "      <td>0.0</td>\n",
       "      <td>0.0</td>\n",
       "      <td>0.816497</td>\n",
       "      <td>0.0</td>\n",
       "      <td>0.816497</td>\n",
       "      <td>-2.0</td>\n",
       "    </tr>\n",
       "    <tr>\n",
       "      <th>1</th>\n",
       "      <td>1.557757</td>\n",
       "      <td>1.582081</td>\n",
       "      <td>1.021875</td>\n",
       "      <td>1.559546</td>\n",
       "      <td>1.224745</td>\n",
       "      <td>-0.5</td>\n",
       "      <td>0.0</td>\n",
       "      <td>0.5</td>\n",
       "      <td>0.0</td>\n",
       "      <td>0.0</td>\n",
       "      <td>0.0</td>\n",
       "      <td>0.0</td>\n",
       "      <td>-1.224745</td>\n",
       "      <td>0.0</td>\n",
       "      <td>0.816497</td>\n",
       "      <td>0.5</td>\n",
       "    </tr>\n",
       "    <tr>\n",
       "      <th>2</th>\n",
       "      <td>-1.083657</td>\n",
       "      <td>-0.311960</td>\n",
       "      <td>-0.139347</td>\n",
       "      <td>-0.678064</td>\n",
       "      <td>-0.816497</td>\n",
       "      <td>-0.5</td>\n",
       "      <td>0.0</td>\n",
       "      <td>0.5</td>\n",
       "      <td>0.0</td>\n",
       "      <td>0.0</td>\n",
       "      <td>0.0</td>\n",
       "      <td>0.0</td>\n",
       "      <td>0.816497</td>\n",
       "      <td>0.0</td>\n",
       "      <td>-1.224745</td>\n",
       "      <td>0.5</td>\n",
       "    </tr>\n",
       "    <tr>\n",
       "      <th>3</th>\n",
       "      <td>-0.203186</td>\n",
       "      <td>-0.980444</td>\n",
       "      <td>-1.765057</td>\n",
       "      <td>-0.915386</td>\n",
       "      <td>1.224745</td>\n",
       "      <td>2.0</td>\n",
       "      <td>0.0</td>\n",
       "      <td>-2.0</td>\n",
       "      <td>0.0</td>\n",
       "      <td>0.0</td>\n",
       "      <td>0.0</td>\n",
       "      <td>0.0</td>\n",
       "      <td>0.816497</td>\n",
       "      <td>0.0</td>\n",
       "      <td>-1.224745</td>\n",
       "      <td>0.5</td>\n",
       "    </tr>\n",
       "    <tr>\n",
       "      <th>4</th>\n",
       "      <td>0.677285</td>\n",
       "      <td>0.690768</td>\n",
       "      <td>0.905753</td>\n",
       "      <td>0.813676</td>\n",
       "      <td>-0.816497</td>\n",
       "      <td>-0.5</td>\n",
       "      <td>0.0</td>\n",
       "      <td>0.5</td>\n",
       "      <td>0.0</td>\n",
       "      <td>0.0</td>\n",
       "      <td>0.0</td>\n",
       "      <td>0.0</td>\n",
       "      <td>-1.224745</td>\n",
       "      <td>0.0</td>\n",
       "      <td>0.816497</td>\n",
       "      <td>0.5</td>\n",
       "    </tr>\n",
       "  </tbody>\n",
       "</table>\n",
       "</div>"
      ],
      "text/plain": [
       "   Math score  Reading score  Writing score  Total_score  Gender_male  \\\n",
       "0   -0.948200      -0.980444      -0.023224    -0.779773    -0.816497   \n",
       "1    1.557757       1.582081       1.021875     1.559546     1.224745   \n",
       "2   -1.083657      -0.311960      -0.139347    -0.678064    -0.816497   \n",
       "3   -0.203186      -0.980444      -1.765057    -0.915386     1.224745   \n",
       "4    0.677285       0.690768       0.905753     0.813676    -0.816497   \n",
       "\n",
       "   Race/ethnicity_group B  Race/ethnicity_group C  Race/ethnicity_group D  \\\n",
       "0                    -0.5                     0.0                     0.5   \n",
       "1                    -0.5                     0.0                     0.5   \n",
       "2                    -0.5                     0.0                     0.5   \n",
       "3                     2.0                     0.0                    -2.0   \n",
       "4                    -0.5                     0.0                     0.5   \n",
       "\n",
       "   Race/ethnicity_group E  Parental level of education_bachelor's degree  \\\n",
       "0                     0.0                                            0.0   \n",
       "1                     0.0                                            0.0   \n",
       "2                     0.0                                            0.0   \n",
       "3                     0.0                                            0.0   \n",
       "4                     0.0                                            0.0   \n",
       "\n",
       "   Parental level of education_high school  \\\n",
       "0                                      0.0   \n",
       "1                                      0.0   \n",
       "2                                      0.0   \n",
       "3                                      0.0   \n",
       "4                                      0.0   \n",
       "\n",
       "   Parental level of education_master's degree  \\\n",
       "0                                          0.0   \n",
       "1                                          0.0   \n",
       "2                                          0.0   \n",
       "3                                          0.0   \n",
       "4                                          0.0   \n",
       "\n",
       "   Parental level of education_some college  \\\n",
       "0                                  0.816497   \n",
       "1                                 -1.224745   \n",
       "2                                  0.816497   \n",
       "3                                  0.816497   \n",
       "4                                 -1.224745   \n",
       "\n",
       "   Parental level of education_some high school  Lunch_standard  \\\n",
       "0                                           0.0        0.816497   \n",
       "1                                           0.0        0.816497   \n",
       "2                                           0.0       -1.224745   \n",
       "3                                           0.0       -1.224745   \n",
       "4                                           0.0        0.816497   \n",
       "\n",
       "   Test preparation course_none  \n",
       "0                          -2.0  \n",
       "1                           0.5  \n",
       "2                           0.5  \n",
       "3                           0.5  \n",
       "4                           0.5  "
      ]
     },
     "execution_count": 128,
     "metadata": {},
     "output_type": "execute_result"
    }
   ],
   "source": [
    "df_coded = pd.DataFrame(scale(df_coded),columns=df_coded.columns)\n",
    "df_coded.head()"
   ]
  },
  {
   "cell_type": "markdown",
   "id": "48e54b80",
   "metadata": {},
   "source": [
    "### 2. Деление выборки и описание переменных"
   ]
  },
  {
   "cell_type": "markdown",
   "id": "1165e133",
   "metadata": {},
   "source": [
    "Мы разделим выборку на трейн-тест в соотношении 8:2. Фиксируем random_state. чтобы можно было делать выводы"
   ]
  },
  {
   "cell_type": "code",
   "execution_count": 129,
   "id": "effa9973",
   "metadata": {},
   "outputs": [],
   "source": [
    "df_train, df_test = train_test_split(df_coded, test_size = 0.2, random_state = 15) "
   ]
  },
  {
   "cell_type": "markdown",
   "id": "7fe65972",
   "metadata": {},
   "source": [
    "Теперь выделим целевую переменную - общий балл, и признаки"
   ]
  },
  {
   "cell_type": "code",
   "execution_count": 130,
   "id": "a51c07f2",
   "metadata": {},
   "outputs": [],
   "source": [
    "Y_train = df_train['Total_score'].to_numpy()  \n",
    "Y_test = df_test['Total_score'].to_numpy()    # целевая переменная - общий балл\n",
    "\n",
    "X_train = df_train.drop('Total_score', axis=1).to_numpy() # признаки\n",
    "X_test = df_test.drop('Total_score', axis=1).to_numpy()"
   ]
  },
  {
   "cell_type": "markdown",
   "id": "8d6279fa",
   "metadata": {},
   "source": [
    "Посмотрим, какие признаки у нас получились "
   ]
  },
  {
   "cell_type": "code",
   "execution_count": 131,
   "id": "88184b92",
   "metadata": {},
   "outputs": [
    {
     "data": {
      "text/plain": [
       "Index(['Math score', 'Reading score', 'Writing score', 'Gender_male',\n",
       "       'Race/ethnicity_group B', 'Race/ethnicity_group C',\n",
       "       'Race/ethnicity_group D', 'Race/ethnicity_group E',\n",
       "       'Parental level of education_bachelor's degree',\n",
       "       'Parental level of education_high school',\n",
       "       'Parental level of education_master's degree',\n",
       "       'Parental level of education_some college',\n",
       "       'Parental level of education_some high school', 'Lunch_standard',\n",
       "       'Test preparation course_none'],\n",
       "      dtype='object')"
      ]
     },
     "execution_count": 131,
     "metadata": {},
     "output_type": "execute_result"
    }
   ],
   "source": [
    "feature_names = df_train.drop('Total_score', axis=1).columns # названия признаков\n",
    "feature_names"
   ]
  },
  {
   "cell_type": "markdown",
   "id": "41c6a340",
   "metadata": {},
   "source": [
    "### 3. Обучение модели"
   ]
  },
  {
   "cell_type": "markdown",
   "id": "89a19faf",
   "metadata": {},
   "source": [
    "Мы будем обучать наши модели по такому плану:\n",
    "    \n",
    "1. Объявим собственно модель\n",
    "2. С помощью GridSearchCV подберем доступные гиперпараметры (с помощью минимизации mean_absolute_error)\n",
    "3. Выберем наилучшие из них\n",
    "4. Построим регрессии с использованием этих параметров и найдем коэффициенты \n",
    "\n",
    "В самом конце мы рассчитаем основные метрики качества модели и выберем лучшую"
   ]
  },
  {
   "cell_type": "markdown",
   "id": "364509ae",
   "metadata": {},
   "source": [
    "##### Линейная"
   ]
  },
  {
   "cell_type": "code",
   "execution_count": 132,
   "id": "359250f7",
   "metadata": {},
   "outputs": [],
   "source": [
    "lin_reg = LinearRegression() # объявляем модель"
   ]
  },
  {
   "cell_type": "code",
   "execution_count": 133,
   "id": "f5c35114",
   "metadata": {},
   "outputs": [
    {
     "data": {
      "text/plain": [
       "(array([ 0.21507952,  0.24895142,  0.16195168,  0.15470915, -0.09599483,\n",
       "         0.        ,  0.09599483,  0.        ,  0.        ,  0.        ,\n",
       "         0.        , -0.17975879,  0.        ,  0.07837945,  0.12416383]),\n",
       " 0.8673271301248349)"
      ]
     },
     "execution_count": 133,
     "metadata": {},
     "output_type": "execute_result"
    }
   ],
   "source": [
    "lin_reg.fit(X_train, Y_train)    # обучаем модель на тестовой выборке\n",
    "\n",
    "lin_reg.coef_, model.intercept_    # ищем коэффициенты"
   ]
  },
  {
   "cell_type": "markdown",
   "id": "72e28cd2",
   "metadata": {},
   "source": [
    "##### Ridge"
   ]
  },
  {
   "cell_type": "code",
   "execution_count": 134,
   "id": "e206263d",
   "metadata": {},
   "outputs": [],
   "source": [
    "ridge = Ridge() # объявляем модель"
   ]
  },
  {
   "cell_type": "code",
   "execution_count": 135,
   "id": "d0539e37",
   "metadata": {},
   "outputs": [
    {
     "name": "stdout",
     "output_type": "stream",
     "text": [
      "Fitting 4 folds for each of 11 candidates, totalling 44 fits\n"
     ]
    },
    {
     "data": {
      "text/html": [
       "<style>#sk-container-id-7 {color: black;background-color: white;}#sk-container-id-7 pre{padding: 0;}#sk-container-id-7 div.sk-toggleable {background-color: white;}#sk-container-id-7 label.sk-toggleable__label {cursor: pointer;display: block;width: 100%;margin-bottom: 0;padding: 0.3em;box-sizing: border-box;text-align: center;}#sk-container-id-7 label.sk-toggleable__label-arrow:before {content: \"▸\";float: left;margin-right: 0.25em;color: #696969;}#sk-container-id-7 label.sk-toggleable__label-arrow:hover:before {color: black;}#sk-container-id-7 div.sk-estimator:hover label.sk-toggleable__label-arrow:before {color: black;}#sk-container-id-7 div.sk-toggleable__content {max-height: 0;max-width: 0;overflow: hidden;text-align: left;background-color: #f0f8ff;}#sk-container-id-7 div.sk-toggleable__content pre {margin: 0.2em;color: black;border-radius: 0.25em;background-color: #f0f8ff;}#sk-container-id-7 input.sk-toggleable__control:checked~div.sk-toggleable__content {max-height: 200px;max-width: 100%;overflow: auto;}#sk-container-id-7 input.sk-toggleable__control:checked~label.sk-toggleable__label-arrow:before {content: \"▾\";}#sk-container-id-7 div.sk-estimator input.sk-toggleable__control:checked~label.sk-toggleable__label {background-color: #d4ebff;}#sk-container-id-7 div.sk-label input.sk-toggleable__control:checked~label.sk-toggleable__label {background-color: #d4ebff;}#sk-container-id-7 input.sk-hidden--visually {border: 0;clip: rect(1px 1px 1px 1px);clip: rect(1px, 1px, 1px, 1px);height: 1px;margin: -1px;overflow: hidden;padding: 0;position: absolute;width: 1px;}#sk-container-id-7 div.sk-estimator {font-family: monospace;background-color: #f0f8ff;border: 1px dotted black;border-radius: 0.25em;box-sizing: border-box;margin-bottom: 0.5em;}#sk-container-id-7 div.sk-estimator:hover {background-color: #d4ebff;}#sk-container-id-7 div.sk-parallel-item::after {content: \"\";width: 100%;border-bottom: 1px solid gray;flex-grow: 1;}#sk-container-id-7 div.sk-label:hover label.sk-toggleable__label {background-color: #d4ebff;}#sk-container-id-7 div.sk-serial::before {content: \"\";position: absolute;border-left: 1px solid gray;box-sizing: border-box;top: 0;bottom: 0;left: 50%;z-index: 0;}#sk-container-id-7 div.sk-serial {display: flex;flex-direction: column;align-items: center;background-color: white;padding-right: 0.2em;padding-left: 0.2em;position: relative;}#sk-container-id-7 div.sk-item {position: relative;z-index: 1;}#sk-container-id-7 div.sk-parallel {display: flex;align-items: stretch;justify-content: center;background-color: white;position: relative;}#sk-container-id-7 div.sk-item::before, #sk-container-id-7 div.sk-parallel-item::before {content: \"\";position: absolute;border-left: 1px solid gray;box-sizing: border-box;top: 0;bottom: 0;left: 50%;z-index: -1;}#sk-container-id-7 div.sk-parallel-item {display: flex;flex-direction: column;z-index: 1;position: relative;background-color: white;}#sk-container-id-7 div.sk-parallel-item:first-child::after {align-self: flex-end;width: 50%;}#sk-container-id-7 div.sk-parallel-item:last-child::after {align-self: flex-start;width: 50%;}#sk-container-id-7 div.sk-parallel-item:only-child::after {width: 0;}#sk-container-id-7 div.sk-dashed-wrapped {border: 1px dashed gray;margin: 0 0.4em 0.5em 0.4em;box-sizing: border-box;padding-bottom: 0.4em;background-color: white;}#sk-container-id-7 div.sk-label label {font-family: monospace;font-weight: bold;display: inline-block;line-height: 1.2em;}#sk-container-id-7 div.sk-label-container {text-align: center;}#sk-container-id-7 div.sk-container {/* jupyter's `normalize.less` sets `[hidden] { display: none; }` but bootstrap.min.css set `[hidden] { display: none !important; }` so we also need the `!important` here to be able to override the default hidden behavior on the sphinx rendered scikit-learn.org. See: https://github.com/scikit-learn/scikit-learn/issues/21755 */display: inline-block !important;position: relative;}#sk-container-id-7 div.sk-text-repr-fallback {display: none;}</style><div id=\"sk-container-id-7\" class=\"sk-top-container\"><div class=\"sk-text-repr-fallback\"><pre>GridSearchCV(cv=4, estimator=Ridge(),\n",
       "             param_grid={&#x27;alpha&#x27;: [0.001, 0.01, 0.1, 0.5, 1.0, 3.0, 5.0, 10.0,\n",
       "                                   20, 50, 100]},\n",
       "             return_train_score=True, scoring=&#x27;neg_mean_absolute_error&#x27;,\n",
       "             verbose=1)</pre><b>In a Jupyter environment, please rerun this cell to show the HTML representation or trust the notebook. <br />On GitHub, the HTML representation is unable to render, please try loading this page with nbviewer.org.</b></div><div class=\"sk-container\" hidden><div class=\"sk-item sk-dashed-wrapped\"><div class=\"sk-label-container\"><div class=\"sk-label sk-toggleable\"><input class=\"sk-toggleable__control sk-hidden--visually\" id=\"sk-estimator-id-15\" type=\"checkbox\" ><label for=\"sk-estimator-id-15\" class=\"sk-toggleable__label sk-toggleable__label-arrow\">GridSearchCV</label><div class=\"sk-toggleable__content\"><pre>GridSearchCV(cv=4, estimator=Ridge(),\n",
       "             param_grid={&#x27;alpha&#x27;: [0.001, 0.01, 0.1, 0.5, 1.0, 3.0, 5.0, 10.0,\n",
       "                                   20, 50, 100]},\n",
       "             return_train_score=True, scoring=&#x27;neg_mean_absolute_error&#x27;,\n",
       "             verbose=1)</pre></div></div></div><div class=\"sk-parallel\"><div class=\"sk-parallel-item\"><div class=\"sk-item\"><div class=\"sk-label-container\"><div class=\"sk-label sk-toggleable\"><input class=\"sk-toggleable__control sk-hidden--visually\" id=\"sk-estimator-id-16\" type=\"checkbox\" ><label for=\"sk-estimator-id-16\" class=\"sk-toggleable__label sk-toggleable__label-arrow\">estimator: Ridge</label><div class=\"sk-toggleable__content\"><pre>Ridge()</pre></div></div></div><div class=\"sk-serial\"><div class=\"sk-item\"><div class=\"sk-estimator sk-toggleable\"><input class=\"sk-toggleable__control sk-hidden--visually\" id=\"sk-estimator-id-17\" type=\"checkbox\" ><label for=\"sk-estimator-id-17\" class=\"sk-toggleable__label sk-toggleable__label-arrow\">Ridge</label><div class=\"sk-toggleable__content\"><pre>Ridge()</pre></div></div></div></div></div></div></div></div></div></div>"
      ],
      "text/plain": [
       "GridSearchCV(cv=4, estimator=Ridge(),\n",
       "             param_grid={'alpha': [0.001, 0.01, 0.1, 0.5, 1.0, 3.0, 5.0, 10.0,\n",
       "                                   20, 50, 100]},\n",
       "             return_train_score=True, scoring='neg_mean_absolute_error',\n",
       "             verbose=1)"
      ]
     },
     "execution_count": 135,
     "metadata": {},
     "output_type": "execute_result"
    }
   ],
   "source": [
    "# подбираем гиперпараметры\n",
    "\n",
    "grid_ridge = GridSearchCV(estimator=ridge,\n",
    "                       param_grid={'alpha': [0.001, 0.01, 0.1, 0.5, 1.0, 3.0, 5.0, 10.0, 20, 50, 100]},\n",
    "                       scoring='neg_mean_absolute_error',\n",
    "                       cv=4,\n",
    "                       return_train_score=True,\n",
    "                       verbose=1)\n",
    "\n",
    "grid_ridge.fit(X_train,Y_train)"
   ]
  },
  {
   "cell_type": "code",
   "execution_count": 136,
   "id": "2ef52d92",
   "metadata": {},
   "outputs": [
    {
     "data": {
      "text/plain": [
       "{'alpha': 0.001}"
      ]
     },
     "execution_count": 136,
     "metadata": {},
     "output_type": "execute_result"
    }
   ],
   "source": [
    "grid_ridge.best_params_   # ищем лучший параметр"
   ]
  },
  {
   "cell_type": "code",
   "execution_count": 137,
   "id": "fe42ae4f",
   "metadata": {},
   "outputs": [
    {
     "data": {
      "text/plain": [
       "array([ 0.21506113,  0.24893028,  0.16194475,  0.15465799, -0.09598623,\n",
       "        0.        ,  0.09598623,  0.        ,  0.        ,  0.        ,\n",
       "        0.        , -0.179764  ,  0.        ,  0.07837243,  0.1241788 ])"
      ]
     },
     "execution_count": 137,
     "metadata": {},
     "output_type": "execute_result"
    }
   ],
   "source": [
    "ridge = Ridge(alpha = 0.001)   # строим модель от лучшего параметра\n",
    "\n",
    "ridge.fit(X_train, Y_train)   # обучаем модель на тестовой выборке\n",
    "\n",
    "ridge.coef_     # ищем коэффициенты"
   ]
  },
  {
   "cell_type": "markdown",
   "id": "46c8418a",
   "metadata": {},
   "source": [
    "##### Lasso"
   ]
  },
  {
   "cell_type": "code",
   "execution_count": 138,
   "id": "a927c9f3",
   "metadata": {},
   "outputs": [],
   "source": [
    "lasso = Lasso() # объявляем модель"
   ]
  },
  {
   "cell_type": "code",
   "execution_count": 139,
   "id": "4586a56d",
   "metadata": {},
   "outputs": [
    {
     "name": "stdout",
     "output_type": "stream",
     "text": [
      "Fitting 4 folds for each of 11 candidates, totalling 44 fits\n"
     ]
    },
    {
     "name": "stderr",
     "output_type": "stream",
     "text": [
      "C:\\ProgramData\\Anaconda3\\lib\\site-packages\\sklearn\\linear_model\\_coordinate_descent.py:631: ConvergenceWarning: Objective did not converge. You might want to increase the number of iterations, check the scale of the features or consider increasing regularisation. Duality gap: 6.049e-04, tolerance: 3.872e-04\n",
      "  model = cd_fast.enet_coordinate_descent(\n",
      "C:\\ProgramData\\Anaconda3\\lib\\site-packages\\sklearn\\linear_model\\_coordinate_descent.py:631: ConvergenceWarning: Objective did not converge. You might want to increase the number of iterations, check the scale of the features or consider increasing regularisation. Duality gap: 3.026e-04, tolerance: 1.849e-04\n",
      "  model = cd_fast.enet_coordinate_descent(\n",
      "C:\\ProgramData\\Anaconda3\\lib\\site-packages\\sklearn\\linear_model\\_coordinate_descent.py:631: ConvergenceWarning: Objective did not converge. You might want to increase the number of iterations, check the scale of the features or consider increasing regularisation. Duality gap: 4.220e-04, tolerance: 2.856e-04\n",
      "  model = cd_fast.enet_coordinate_descent(\n",
      "C:\\ProgramData\\Anaconda3\\lib\\site-packages\\sklearn\\linear_model\\_coordinate_descent.py:631: ConvergenceWarning: Objective did not converge. You might want to increase the number of iterations, check the scale of the features or consider increasing regularisation. Duality gap: 4.532e-04, tolerance: 4.425e-04\n",
      "  model = cd_fast.enet_coordinate_descent(\n"
     ]
    },
    {
     "data": {
      "text/html": [
       "<style>#sk-container-id-8 {color: black;background-color: white;}#sk-container-id-8 pre{padding: 0;}#sk-container-id-8 div.sk-toggleable {background-color: white;}#sk-container-id-8 label.sk-toggleable__label {cursor: pointer;display: block;width: 100%;margin-bottom: 0;padding: 0.3em;box-sizing: border-box;text-align: center;}#sk-container-id-8 label.sk-toggleable__label-arrow:before {content: \"▸\";float: left;margin-right: 0.25em;color: #696969;}#sk-container-id-8 label.sk-toggleable__label-arrow:hover:before {color: black;}#sk-container-id-8 div.sk-estimator:hover label.sk-toggleable__label-arrow:before {color: black;}#sk-container-id-8 div.sk-toggleable__content {max-height: 0;max-width: 0;overflow: hidden;text-align: left;background-color: #f0f8ff;}#sk-container-id-8 div.sk-toggleable__content pre {margin: 0.2em;color: black;border-radius: 0.25em;background-color: #f0f8ff;}#sk-container-id-8 input.sk-toggleable__control:checked~div.sk-toggleable__content {max-height: 200px;max-width: 100%;overflow: auto;}#sk-container-id-8 input.sk-toggleable__control:checked~label.sk-toggleable__label-arrow:before {content: \"▾\";}#sk-container-id-8 div.sk-estimator input.sk-toggleable__control:checked~label.sk-toggleable__label {background-color: #d4ebff;}#sk-container-id-8 div.sk-label input.sk-toggleable__control:checked~label.sk-toggleable__label {background-color: #d4ebff;}#sk-container-id-8 input.sk-hidden--visually {border: 0;clip: rect(1px 1px 1px 1px);clip: rect(1px, 1px, 1px, 1px);height: 1px;margin: -1px;overflow: hidden;padding: 0;position: absolute;width: 1px;}#sk-container-id-8 div.sk-estimator {font-family: monospace;background-color: #f0f8ff;border: 1px dotted black;border-radius: 0.25em;box-sizing: border-box;margin-bottom: 0.5em;}#sk-container-id-8 div.sk-estimator:hover {background-color: #d4ebff;}#sk-container-id-8 div.sk-parallel-item::after {content: \"\";width: 100%;border-bottom: 1px solid gray;flex-grow: 1;}#sk-container-id-8 div.sk-label:hover label.sk-toggleable__label {background-color: #d4ebff;}#sk-container-id-8 div.sk-serial::before {content: \"\";position: absolute;border-left: 1px solid gray;box-sizing: border-box;top: 0;bottom: 0;left: 50%;z-index: 0;}#sk-container-id-8 div.sk-serial {display: flex;flex-direction: column;align-items: center;background-color: white;padding-right: 0.2em;padding-left: 0.2em;position: relative;}#sk-container-id-8 div.sk-item {position: relative;z-index: 1;}#sk-container-id-8 div.sk-parallel {display: flex;align-items: stretch;justify-content: center;background-color: white;position: relative;}#sk-container-id-8 div.sk-item::before, #sk-container-id-8 div.sk-parallel-item::before {content: \"\";position: absolute;border-left: 1px solid gray;box-sizing: border-box;top: 0;bottom: 0;left: 50%;z-index: -1;}#sk-container-id-8 div.sk-parallel-item {display: flex;flex-direction: column;z-index: 1;position: relative;background-color: white;}#sk-container-id-8 div.sk-parallel-item:first-child::after {align-self: flex-end;width: 50%;}#sk-container-id-8 div.sk-parallel-item:last-child::after {align-self: flex-start;width: 50%;}#sk-container-id-8 div.sk-parallel-item:only-child::after {width: 0;}#sk-container-id-8 div.sk-dashed-wrapped {border: 1px dashed gray;margin: 0 0.4em 0.5em 0.4em;box-sizing: border-box;padding-bottom: 0.4em;background-color: white;}#sk-container-id-8 div.sk-label label {font-family: monospace;font-weight: bold;display: inline-block;line-height: 1.2em;}#sk-container-id-8 div.sk-label-container {text-align: center;}#sk-container-id-8 div.sk-container {/* jupyter's `normalize.less` sets `[hidden] { display: none; }` but bootstrap.min.css set `[hidden] { display: none !important; }` so we also need the `!important` here to be able to override the default hidden behavior on the sphinx rendered scikit-learn.org. See: https://github.com/scikit-learn/scikit-learn/issues/21755 */display: inline-block !important;position: relative;}#sk-container-id-8 div.sk-text-repr-fallback {display: none;}</style><div id=\"sk-container-id-8\" class=\"sk-top-container\"><div class=\"sk-text-repr-fallback\"><pre>GridSearchCV(cv=4, estimator=Lasso(),\n",
       "             param_grid={&#x27;alpha&#x27;: [0.001, 0.01, 0.1, 0.5, 1.0, 3.0, 5.0, 10.0,\n",
       "                                   20, 50, 100]},\n",
       "             return_train_score=True, scoring=&#x27;neg_mean_absolute_error&#x27;,\n",
       "             verbose=1)</pre><b>In a Jupyter environment, please rerun this cell to show the HTML representation or trust the notebook. <br />On GitHub, the HTML representation is unable to render, please try loading this page with nbviewer.org.</b></div><div class=\"sk-container\" hidden><div class=\"sk-item sk-dashed-wrapped\"><div class=\"sk-label-container\"><div class=\"sk-label sk-toggleable\"><input class=\"sk-toggleable__control sk-hidden--visually\" id=\"sk-estimator-id-18\" type=\"checkbox\" ><label for=\"sk-estimator-id-18\" class=\"sk-toggleable__label sk-toggleable__label-arrow\">GridSearchCV</label><div class=\"sk-toggleable__content\"><pre>GridSearchCV(cv=4, estimator=Lasso(),\n",
       "             param_grid={&#x27;alpha&#x27;: [0.001, 0.01, 0.1, 0.5, 1.0, 3.0, 5.0, 10.0,\n",
       "                                   20, 50, 100]},\n",
       "             return_train_score=True, scoring=&#x27;neg_mean_absolute_error&#x27;,\n",
       "             verbose=1)</pre></div></div></div><div class=\"sk-parallel\"><div class=\"sk-parallel-item\"><div class=\"sk-item\"><div class=\"sk-label-container\"><div class=\"sk-label sk-toggleable\"><input class=\"sk-toggleable__control sk-hidden--visually\" id=\"sk-estimator-id-19\" type=\"checkbox\" ><label for=\"sk-estimator-id-19\" class=\"sk-toggleable__label sk-toggleable__label-arrow\">estimator: Lasso</label><div class=\"sk-toggleable__content\"><pre>Lasso()</pre></div></div></div><div class=\"sk-serial\"><div class=\"sk-item\"><div class=\"sk-estimator sk-toggleable\"><input class=\"sk-toggleable__control sk-hidden--visually\" id=\"sk-estimator-id-20\" type=\"checkbox\" ><label for=\"sk-estimator-id-20\" class=\"sk-toggleable__label sk-toggleable__label-arrow\">Lasso</label><div class=\"sk-toggleable__content\"><pre>Lasso()</pre></div></div></div></div></div></div></div></div></div></div>"
      ],
      "text/plain": [
       "GridSearchCV(cv=4, estimator=Lasso(),\n",
       "             param_grid={'alpha': [0.001, 0.01, 0.1, 0.5, 1.0, 3.0, 5.0, 10.0,\n",
       "                                   20, 50, 100]},\n",
       "             return_train_score=True, scoring='neg_mean_absolute_error',\n",
       "             verbose=1)"
      ]
     },
     "execution_count": 139,
     "metadata": {},
     "output_type": "execute_result"
    }
   ],
   "source": [
    "# подбираем гиперпараметры\n",
    "\n",
    "grid_lasso = GridSearchCV(estimator=lasso,\n",
    "                       param_grid={'alpha': [0.001, 0.01, 0.1, 0.5, 1.0, 3.0, 5.0, 10.0, 20, 50, 100]},\n",
    "                       scoring='neg_mean_absolute_error',\n",
    "                       cv=4,\n",
    "                       return_train_score=True,\n",
    "                       verbose=1)\n",
    "\n",
    "grid_lasso.fit(X_train, Y_train)"
   ]
  },
  {
   "cell_type": "code",
   "execution_count": 140,
   "id": "422c5552",
   "metadata": {},
   "outputs": [
    {
     "data": {
      "text/plain": [
       "{'alpha': 0.001}"
      ]
     },
     "execution_count": 140,
     "metadata": {},
     "output_type": "execute_result"
    }
   ],
   "source": [
    "grid_lasso.best_params_   # ищем лучший параметр"
   ]
  },
  {
   "cell_type": "code",
   "execution_count": 141,
   "id": "55a08bcf",
   "metadata": {},
   "outputs": [
    {
     "name": "stderr",
     "output_type": "stream",
     "text": [
      "C:\\ProgramData\\Anaconda3\\lib\\site-packages\\sklearn\\linear_model\\_coordinate_descent.py:631: ConvergenceWarning: Objective did not converge. You might want to increase the number of iterations, check the scale of the features or consider increasing regularisation. Duality gap: 4.532e-04, tolerance: 4.425e-04\n",
      "  model = cd_fast.enet_coordinate_descent(\n"
     ]
    },
    {
     "data": {
      "text/plain": [
       "array([ 0.41866308,  0.38960722,  0.25676485, -0.        , -0.        ,\n",
       "        0.        ,  0.        ,  0.        ,  0.        ,  0.        ,\n",
       "        0.        , -0.01055249,  0.        ,  0.        ,  0.        ])"
      ]
     },
     "execution_count": 141,
     "metadata": {},
     "output_type": "execute_result"
    }
   ],
   "source": [
    "lasso = Lasso(alpha = 0.001)     # строим модель от лучшего параметра\n",
    "\n",
    "lasso.fit(X_train, Y_train)   # обучаем модель на тестовой выборке\n",
    "\n",
    "lasso.coef_    # ищем коэффициенты"
   ]
  },
  {
   "cell_type": "markdown",
   "id": "254f87bc",
   "metadata": {},
   "source": [
    "##### Предсказываем на тестовой выборке общий балл с помощью моделей"
   ]
  },
  {
   "cell_type": "code",
   "execution_count": 142,
   "id": "d2c46b0d",
   "metadata": {},
   "outputs": [],
   "source": [
    "lin_reg_pred = lin_reg.predict(X_test)  # линейная\n",
    "lasso_pred =  lasso.predict(X_test)    # lasso\n",
    "ridge_pred = ridge.predict(X_test)   # ridge"
   ]
  },
  {
   "cell_type": "markdown",
   "id": "29ec6184",
   "metadata": {},
   "source": [
    "##### Используем метрики для оценки качества модели"
   ]
  },
  {
   "cell_type": "markdown",
   "id": "e5155223",
   "metadata": {},
   "source": [
    "*MSE*"
   ]
  },
  {
   "cell_type": "code",
   "execution_count": 143,
   "id": "764ff873",
   "metadata": {},
   "outputs": [
    {
     "name": "stdout",
     "output_type": "stream",
     "text": [
      "Lasso MSE: 0.005336184491941496\n",
      "Ridge MSE: 0.02798235325942019\n",
      "LinearRegression MSE: 0.027952046959949368\n"
     ]
    }
   ],
   "source": [
    "print(f'Lasso MSE: {mse(Y_test, lasso_pred)}')\n",
    "print(f'Ridge MSE: {mse(Y_test, ridge_pred)}')\n",
    "print(f'LinearRegression MSE: {mse(Y_test, lin_reg_pred)}')"
   ]
  },
  {
   "cell_type": "markdown",
   "id": "cb207aa9",
   "metadata": {},
   "source": [
    "*MAE*"
   ]
  },
  {
   "cell_type": "code",
   "execution_count": 144,
   "id": "318c65e5",
   "metadata": {},
   "outputs": [
    {
     "name": "stdout",
     "output_type": "stream",
     "text": [
      "Lasso MAE: 0.07304919227439477\n",
      "Ridge MAE: 0.16727926727308495\n",
      "LinearRegression MAE: 0.027952046959949368\n"
     ]
    }
   ],
   "source": [
    "print(f'Lasso MAE: {mae(Y_test, lasso_pred)}')\n",
    "print(f'Ridge MAE: {mae(Y_test, ridge_pred)}')\n",
    "print(f'LinearRegression MAE: {mse(Y_test, lin_reg_pred)}')"
   ]
  },
  {
   "cell_type": "markdown",
   "id": "9a40a490",
   "metadata": {},
   "source": [
    "*MAPE*"
   ]
  },
  {
   "cell_type": "code",
   "execution_count": 145,
   "id": "19a21a24",
   "metadata": {},
   "outputs": [
    {
     "name": "stdout",
     "output_type": "stream",
     "text": [
      "Lasso MAPE: 0.1077320809692858\n",
      "Ridge MAPE: 0.24670147615942412\n",
      "LinearRegression MAPE: 0.24656784489849817\n"
     ]
    }
   ],
   "source": [
    "print(f'Lasso MAPE: {mape(Y_test, lasso_pred)}')\n",
    "print(f'Ridge MAPE: {mape(Y_test, ridge_pred)}')\n",
    "print(f'LinearRegression MAPE: {mape(Y_test, lin_reg_pred)}')"
   ]
  },
  {
   "cell_type": "markdown",
   "id": "bb0668cb",
   "metadata": {},
   "source": [
    "На основе этих трех метрик можно сделать вывод, что регрессия Лассо лучше всего подходит для предсказания общего балла студентов. Она значительно меньше Риджа (как и линейная) не смотря на то, что его лучший гиперпараметр близок к 0, что делает модель максимально близкой к линейной регрессии, а вот зануление коэффициентов, как в случае с Лассо. оказалось более эффективным, но все же проиграло линейной модели"
   ]
  }
 ],
 "metadata": {
  "kernelspec": {
   "display_name": "Python 3 (ipykernel)",
   "language": "python",
   "name": "python3"
  },
  "language_info": {
   "codemirror_mode": {
    "name": "ipython",
    "version": 3
   },
   "file_extension": ".py",
   "mimetype": "text/x-python",
   "name": "python",
   "nbconvert_exporter": "python",
   "pygments_lexer": "ipython3",
   "version": "3.9.7"
  }
 },
 "nbformat": 4,
 "nbformat_minor": 5
}
